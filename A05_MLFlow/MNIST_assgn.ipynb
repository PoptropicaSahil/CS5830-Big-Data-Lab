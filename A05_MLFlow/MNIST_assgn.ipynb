{
  "cells": [
    {
      "cell_type": "markdown",
      "metadata": {},
      "source": [
        "# Assignment 5 on MLflow\n",
        "**Note**: It is recommended to use a virtual environment to run the same. Requirements can be found in the `requirements.txt` file. <br>\n",
        "**Tip**: Refer to the [following blog](https://anbasile.github.io/posts/2017-06-25-jupyter-venv/) to learn more about using virtual environments and corresponding kernels in VSCode"
      ]
    },
    {
      "cell_type": "code",
      "execution_count": 1,
      "metadata": {
        "colab": {
          "base_uri": "https://localhost:8080/"
        },
        "id": "rAuq2aeRX0Wo",
        "outputId": "30e3b089-ff6a-4e62-dc7f-dccbef1022f4"
      },
      "outputs": [
        {
          "data": {
            "text/html": [
              "\n",
              "        <style>\n",
              "            .support_message_main_box {\n",
              "                position: relative;\n",
              "                display: table-cell;\n",
              "                vertical-align: middle;\n",
              "                width: 100%;\n",
              "                height: 8em;\n",
              "                padding: 1em;\n",
              "                padding-left: 11em;\n",
              "                background-color: #f7f7f7;\n",
              "                border: 1px solid #cfcfcf;\n",
              "                border-radius: 2px;\n",
              "            }\n",
              "            .support_message_main_box img {\n",
              "                position: absolute;\n",
              "                height: 9em;\n",
              "                width: 9em;\n",
              "                left: 0.5em;\n",
              "                top: 0.5em;\n",
              "                border-radius: 1em;\n",
              "            }\n",
              "        </style>\n",
              "        <div class=\"support_message_main_box\">\n",
              "            <img src=\"https://avatars.githubusercontent.com/u/7738570?v=4\" />\n",
              "            <p>\n",
              "            <b>Hi!</b><br/>\n",
              "            <span>I am the author of\n",
              "            <a href=\"https://github.com/LucaCappelletti94/plot_keras_history\" target=\"_blank\">\n",
              "                plot_keras_history\n",
              "            </a>, which you use in this Notebook.\n",
              "            </span><br/>\n",
              "            \n",
              "        <span>I hope my work has saved you some time!</span><br/>\n",
              "        \n",
              "            <span>I love to code, but I also need coffee.</span>\n",
              "            <a href=\"https://github.com/sponsors/LucaCappelletti94\" target=\"_blank\">\n",
              "                Please sponsor me on GitHub ❤️\n",
              "            </a><br/>\n",
              "            <i>Good luck in your coding 🍀!</i>\n",
              "            <br/>\n",
              "            <i>- Luca</i>\n",
              "            </p>\n",
              "        <div>\n",
              "        "
            ],
            "text/plain": [
              "<IPython.core.display.HTML object>"
            ]
          },
          "metadata": {},
          "output_type": "display_data"
        }
      ],
      "source": [
        "# !pip install plot_keras_history\n",
        "from tensorflow import keras\n",
        "from tensorflow.keras import layers\n",
        "from tensorflow.keras.models import Sequential\n",
        "from tensorflow.keras.layers import Dense\n",
        "\n",
        "import matplotlib.pyplot as plt\n",
        "from plot_keras_history import show_history"
      ]
    },
    {
      "cell_type": "markdown",
      "metadata": {},
      "source": [
        "## Getting the data"
      ]
    },
    {
      "cell_type": "code",
      "execution_count": 2,
      "metadata": {
        "colab": {
          "base_uri": "https://localhost:8080/"
        },
        "id": "vI51xvP-X0Wp",
        "outputId": "8a5ed8ce-918f-4c41-e1f2-f31dd9c96525"
      },
      "outputs": [
        {
          "name": "stdout",
          "output_type": "stream",
          "text": [
            "(60000, 784) train input samples\n",
            "(10000, 784) test input samples\n"
          ]
        }
      ],
      "source": [
        "(X_train, Y_train), (X_test, Y_test) = keras.datasets.mnist.load_data()\n",
        "num_classes = 10\n",
        "x_train = X_train.reshape(60000, 784)\n",
        "x_test = X_test.reshape(10000, 784)\n",
        "x_train = x_train.astype('float32')\n",
        "x_test = x_test.astype('float32')\n",
        "x_train /= 255\n",
        "x_test /= 255\n",
        "print(x_train.shape, 'train input samples')\n",
        "print(x_test.shape, 'test input samples')"
      ]
    },
    {
      "cell_type": "code",
      "execution_count": 3,
      "metadata": {},
      "outputs": [
        {
          "name": "stdout",
          "output_type": "stream",
          "text": [
            "(60000, 10) train output samples\n",
            "(10000, 10) test output samples\n"
          ]
        }
      ],
      "source": [
        "y_train = keras.utils.to_categorical(Y_train, num_classes)\n",
        "y_test = keras.utils.to_categorical(Y_test, num_classes)\n",
        "print(y_train.shape, 'train output samples')\n",
        "print(y_test.shape, 'test output samples')"
      ]
    },
    {
      "cell_type": "markdown",
      "metadata": {},
      "source": [
        "## Run a simple model to check if Keras is working properly"
      ]
    },
    {
      "cell_type": "code",
      "execution_count": 4,
      "metadata": {
        "colab": {
          "base_uri": "https://localhost:8080/"
        },
        "id": "XWubvvbxX0Wr",
        "outputId": "41170ec6-0c7c-4e72-c104-04d029eb8e62",
        "scrolled": true
      },
      "outputs": [
        {
          "name": "stderr",
          "output_type": "stream",
          "text": [
            "c:\\Users\\Admin\\OneDrive - smail.iitm.ac.in\\Stdy\\Sem 10\\CS5830 Big Data Lab\\A05_MLFlow\\venv\\Lib\\site-packages\\keras\\src\\layers\\core\\dense.py:86: UserWarning: Do not pass an `input_shape`/`input_dim` argument to a layer. When using Sequential models, prefer using an `Input(shape)` object as the first layer in the model instead.\n",
            "  super().__init__(activity_regularizer=activity_regularizer, **kwargs)\n"
          ]
        },
        {
          "data": {
            "text/html": [
              "<pre style=\"white-space:pre;overflow-x:auto;line-height:normal;font-family:Menlo,'DejaVu Sans Mono',consolas,'Courier New',monospace\"><span style=\"font-weight: bold\">Model: \"sequential\"</span>\n",
              "</pre>\n"
            ],
            "text/plain": [
              "\u001b[1mModel: \"sequential\"\u001b[0m\n"
            ]
          },
          "metadata": {},
          "output_type": "display_data"
        },
        {
          "data": {
            "text/html": [
              "<pre style=\"white-space:pre;overflow-x:auto;line-height:normal;font-family:Menlo,'DejaVu Sans Mono',consolas,'Courier New',monospace\">┏━━━━━━━━━━━━━━━━━━━━━━━━━━━━━━━━━┳━━━━━━━━━━━━━━━━━━━━━━━━┳━━━━━━━━━━━━━━━┓\n",
              "┃<span style=\"font-weight: bold\"> Layer (type)                    </span>┃<span style=\"font-weight: bold\"> Output Shape           </span>┃<span style=\"font-weight: bold\">       Param # </span>┃\n",
              "┡━━━━━━━━━━━━━━━━━━━━━━━━━━━━━━━━━╇━━━━━━━━━━━━━━━━━━━━━━━━╇━━━━━━━━━━━━━━━┩\n",
              "│ dense (<span style=\"color: #0087ff; text-decoration-color: #0087ff\">Dense</span>)                   │ (<span style=\"color: #00d7ff; text-decoration-color: #00d7ff\">None</span>, <span style=\"color: #00af00; text-decoration-color: #00af00\">20</span>)             │        <span style=\"color: #00af00; text-decoration-color: #00af00\">15,700</span> │\n",
              "├─────────────────────────────────┼────────────────────────┼───────────────┤\n",
              "│ dense_1 (<span style=\"color: #0087ff; text-decoration-color: #0087ff\">Dense</span>)                 │ (<span style=\"color: #00d7ff; text-decoration-color: #00d7ff\">None</span>, <span style=\"color: #00af00; text-decoration-color: #00af00\">20</span>)             │           <span style=\"color: #00af00; text-decoration-color: #00af00\">420</span> │\n",
              "├─────────────────────────────────┼────────────────────────┼───────────────┤\n",
              "│ dense_2 (<span style=\"color: #0087ff; text-decoration-color: #0087ff\">Dense</span>)                 │ (<span style=\"color: #00d7ff; text-decoration-color: #00d7ff\">None</span>, <span style=\"color: #00af00; text-decoration-color: #00af00\">10</span>)             │           <span style=\"color: #00af00; text-decoration-color: #00af00\">210</span> │\n",
              "└─────────────────────────────────┴────────────────────────┴───────────────┘\n",
              "</pre>\n"
            ],
            "text/plain": [
              "┏━━━━━━━━━━━━━━━━━━━━━━━━━━━━━━━━━┳━━━━━━━━━━━━━━━━━━━━━━━━┳━━━━━━━━━━━━━━━┓\n",
              "┃\u001b[1m \u001b[0m\u001b[1mLayer (type)                   \u001b[0m\u001b[1m \u001b[0m┃\u001b[1m \u001b[0m\u001b[1mOutput Shape          \u001b[0m\u001b[1m \u001b[0m┃\u001b[1m \u001b[0m\u001b[1m      Param #\u001b[0m\u001b[1m \u001b[0m┃\n",
              "┡━━━━━━━━━━━━━━━━━━━━━━━━━━━━━━━━━╇━━━━━━━━━━━━━━━━━━━━━━━━╇━━━━━━━━━━━━━━━┩\n",
              "│ dense (\u001b[38;5;33mDense\u001b[0m)                   │ (\u001b[38;5;45mNone\u001b[0m, \u001b[38;5;34m20\u001b[0m)             │        \u001b[38;5;34m15,700\u001b[0m │\n",
              "├─────────────────────────────────┼────────────────────────┼───────────────┤\n",
              "│ dense_1 (\u001b[38;5;33mDense\u001b[0m)                 │ (\u001b[38;5;45mNone\u001b[0m, \u001b[38;5;34m20\u001b[0m)             │           \u001b[38;5;34m420\u001b[0m │\n",
              "├─────────────────────────────────┼────────────────────────┼───────────────┤\n",
              "│ dense_2 (\u001b[38;5;33mDense\u001b[0m)                 │ (\u001b[38;5;45mNone\u001b[0m, \u001b[38;5;34m10\u001b[0m)             │           \u001b[38;5;34m210\u001b[0m │\n",
              "└─────────────────────────────────┴────────────────────────┴───────────────┘\n"
            ]
          },
          "metadata": {},
          "output_type": "display_data"
        },
        {
          "data": {
            "text/html": [
              "<pre style=\"white-space:pre;overflow-x:auto;line-height:normal;font-family:Menlo,'DejaVu Sans Mono',consolas,'Courier New',monospace\"><span style=\"font-weight: bold\"> Total params: </span><span style=\"color: #00af00; text-decoration-color: #00af00\">16,330</span> (63.79 KB)\n",
              "</pre>\n"
            ],
            "text/plain": [
              "\u001b[1m Total params: \u001b[0m\u001b[38;5;34m16,330\u001b[0m (63.79 KB)\n"
            ]
          },
          "metadata": {},
          "output_type": "display_data"
        },
        {
          "data": {
            "text/html": [
              "<pre style=\"white-space:pre;overflow-x:auto;line-height:normal;font-family:Menlo,'DejaVu Sans Mono',consolas,'Courier New',monospace\"><span style=\"font-weight: bold\"> Trainable params: </span><span style=\"color: #00af00; text-decoration-color: #00af00\">16,330</span> (63.79 KB)\n",
              "</pre>\n"
            ],
            "text/plain": [
              "\u001b[1m Trainable params: \u001b[0m\u001b[38;5;34m16,330\u001b[0m (63.79 KB)\n"
            ]
          },
          "metadata": {},
          "output_type": "display_data"
        },
        {
          "data": {
            "text/html": [
              "<pre style=\"white-space:pre;overflow-x:auto;line-height:normal;font-family:Menlo,'DejaVu Sans Mono',consolas,'Courier New',monospace\"><span style=\"font-weight: bold\"> Non-trainable params: </span><span style=\"color: #00af00; text-decoration-color: #00af00\">0</span> (0.00 B)\n",
              "</pre>\n"
            ],
            "text/plain": [
              "\u001b[1m Non-trainable params: \u001b[0m\u001b[38;5;34m0\u001b[0m (0.00 B)\n"
            ]
          },
          "metadata": {},
          "output_type": "display_data"
        }
      ],
      "source": [
        "# let's try a basic neural network for digit classification\n",
        "model = keras.Sequential()\n",
        "model.add(layers.Dense(20, activation='sigmoid', input_shape=(784,)))\n",
        "model.add(layers.Dense(20, activation='sigmoid'))\n",
        "model.add(layers.Dense(10, activation='softmax'))\n",
        "model.summary()"
      ]
    },
    {
      "cell_type": "code",
      "execution_count": 5,
      "metadata": {
        "colab": {
          "base_uri": "https://localhost:8080/"
        },
        "id": "We-pSGWSX0Wr",
        "outputId": "dd28143d-333b-4824-b021-be4a3125f6de",
        "scrolled": true
      },
      "outputs": [
        {
          "name": "stdout",
          "output_type": "stream",
          "text": [
            "Epoch 1/3\n"
          ]
        },
        {
          "name": "stdout",
          "output_type": "stream",
          "text": [
            "\u001b[1m1875/1875\u001b[0m \u001b[32m━━━━━━━━━━━━━━━━━━━━\u001b[0m\u001b[37m\u001b[0m \u001b[1m11s\u001b[0m 4ms/step - accuracy: 0.6058 - loss: 1.4965 - val_accuracy: 0.8874 - val_loss: 0.4483\n",
            "Epoch 2/3\n",
            "\u001b[1m1875/1875\u001b[0m \u001b[32m━━━━━━━━━━━━━━━━━━━━\u001b[0m\u001b[37m\u001b[0m \u001b[1m8s\u001b[0m 4ms/step - accuracy: 0.8962 - loss: 0.3958 - val_accuracy: 0.9170 - val_loss: 0.2879\n",
            "Epoch 3/3\n",
            "\u001b[1m1875/1875\u001b[0m \u001b[32m━━━━━━━━━━━━━━━━━━━━\u001b[0m\u001b[37m\u001b[0m \u001b[1m8s\u001b[0m 4ms/step - accuracy: 0.9222 - loss: 0.2726 - val_accuracy: 0.9289 - val_loss: 0.2423\n"
          ]
        }
      ],
      "source": [
        "model.compile(loss='categorical_crossentropy', metrics=['accuracy'])\n",
        "history = model.fit(x_train, y_train, epochs=3, validation_data=(x_test, y_test))\n"
      ]
    },
    {
      "cell_type": "code",
      "execution_count": 6,
      "metadata": {
        "colab": {
          "base_uri": "https://localhost:8080/",
          "height": 528
        },
        "id": "vKf_LGZfY0Ue",
        "outputId": "6defc90d-5905-4b0d-c514-fb683e984995"
      },
      "outputs": [
        {
          "data": {
            "image/png": "[encoded data removed]",
            "text/plain": [
              "<Figure size 1000x500 with 2 Axes>"
            ]
          },
          "metadata": {},
          "output_type": "display_data"
        }
      ],
      "source": [
        "show_history(history)"
      ]
    },
    {
      "cell_type": "code",
      "execution_count": 7,
      "metadata": {
        "colab": {
          "base_uri": "https://localhost:8080/"
        },
        "id": "4FEMNbK6X0Wr",
        "outputId": "edc24fcb-3774-410c-eaf1-dd66748cb5af"
      },
      "outputs": [
        {
          "name": "stdout",
          "output_type": "stream",
          "text": [
            "313/313 - 1s - 3ms/step - accuracy: 0.9289 - loss: 0.2423\n",
            "Test accuracy: 92.89%\n",
            "1875/1875 - 5s - 3ms/step - accuracy: 0.9331 - loss: 0.2315\n",
            "Train accuracy: 93.31%\n"
          ]
        }
      ],
      "source": [
        "loss, acc = model.evaluate(x_test, y_test, verbose=2)\n",
        "print(\"Test accuracy: {:5.2f}%\".format(100*acc))\n",
        "loss, acc = model.evaluate(x_train, y_train, verbose=2)\n",
        "print(\"Train accuracy: {:5.2f}%\".format(100*acc))"
      ]
    },
    {
      "cell_type": "code",
      "execution_count": 8,
      "metadata": {
        "id": "yI80K2HWnixM"
      },
      "outputs": [],
      "source": [
        "import numpy as np"
      ]
    },
    {
      "cell_type": "code",
      "execution_count": 9,
      "metadata": {
        "colab": {
          "base_uri": "https://localhost:8080/",
          "height": 465
        },
        "id": "SfEvVsXsn-hS",
        "outputId": "36e3271a-1dbb-4aab-cc77-b038ade2c775"
      },
      "outputs": [
        {
          "name": "stdout",
          "output_type": "stream",
          "text": [
            "\u001b[1m1/1\u001b[0m \u001b[32m━━━━━━━━━━━━━━━━━━━━\u001b[0m\u001b[37m\u001b[0m \u001b[1m0s\u001b[0m 166ms/step\n",
            "Predicted Digit: 3\n"
          ]
        },
        {
          "data": {
            "image/png": "[encoded data removed]",
            "text/plain": [
              "<Figure size 640x480 with 1 Axes>"
            ]
          },
          "metadata": {},
          "output_type": "display_data"
        }
      ],
      "source": [
        "# check if the prediction is working fine for a random test point\n",
        "test_pt = 782\n",
        "plt.imshow(X_test[test_pt], cmap=plt.get_cmap('gray'))\n",
        "probs = model.predict(x_test[test_pt:test_pt+1], verbose=True)\n",
        "print(\"Predicted Digit:\", np.argmax(probs))"
      ]
    },
    {
      "cell_type": "code",
      "execution_count": null,
      "metadata": {},
      "outputs": [],
      "source": []
    },
    {
      "cell_type": "markdown",
      "metadata": {},
      "source": [
        "# Define all the experiment variants"
      ]
    },
    {
      "cell_type": "code",
      "execution_count": 59,
      "metadata": {},
      "outputs": [],
      "source": [
        "from tensorflow.keras import regularizers\n",
        "from tensorflow.keras.layers import Dropout\n",
        "from tensorflow.keras.callbacks import ModelCheckpoint\n",
        "import h5py\n",
        "\n",
        "\n",
        "class define_expt_variants:\n",
        "    \"\"\"\n",
        "    Class which holds all the 10 required experimental variants\n",
        "    Each variant differs by a minor configuation such as learning rates, model size, batch size etc.\n",
        "    Each class method fits the model on the data and captures the history. However, the history is not returned\n",
        "    \"\"\"\n",
        "    def __init__(self):\n",
        "        pass\n",
        "\n",
        "    def cfg_basic(self):\n",
        "        \"\"\"basic neural network for digit classification\"\"\"\n",
        "        model_1 = keras.Sequential()\n",
        "        model_1.add(layers.Dense(20, activation='sigmoid', input_shape=(784,)))\n",
        "        model_1.add(layers.Dense(20, activation='sigmoid'))\n",
        "        model_1.add(layers.Dense(10, activation='softmax'))\n",
        "\n",
        "        model_1.compile(loss='categorical_crossentropy', metrics=['accuracy'])\n",
        "        history = model_1.fit(x_train, y_train, epochs=10, validation_data=(x_test, y_test))\n",
        "\n",
        "        return model_1\n",
        "    \n",
        "    def cfg_bigger(self):\n",
        "        \"\"\"bigger model\"\"\"\n",
        "        model_2 = keras.Sequential()\n",
        "        model_2.add(layers.Dense(256, activation='sigmoid', input_shape=(784,)))\n",
        "        model_2.add(layers.Dense(128, activation='sigmoid'))\n",
        "        model_2.add(layers.Dense(10, activation='softmax'))\n",
        "\n",
        "        model_2.compile(loss='categorical_crossentropy', metrics=['accuracy'])\n",
        "        history = model_2.fit(x_train, y_train, epochs=10, validation_data=(x_test, y_test))\n",
        "\n",
        "        return model_2\n",
        "    \n",
        "    def cfg_regularised(self):\n",
        "        \"\"\"regularised model\"\"\"\n",
        "        model_3 = keras.Sequential()\n",
        "        model_3.add(layers.Dense(256, activation='sigmoid', input_shape=(784,), kernel_regularizer=regularizers.L2(0.01)))\n",
        "        model_3.add(layers.Dense(128, activation='sigmoid', kernel_regularizer=regularizers.L2(0.01)))\n",
        "        model_3.add(layers.Dense(10, activation='softmax'))\n",
        "\n",
        "        model_3.compile(loss='categorical_crossentropy', metrics=['accuracy'])\n",
        "        history = model_3.fit(x_train, y_train, epochs=50, steps_per_epoch=50, validation_data=(x_test, y_test))\n",
        "\n",
        "        return model_3\n",
        "    \n",
        "    def cfg_dropout(self):\n",
        "        \"\"\"model with dropout\"\"\"\n",
        "        model_4 = keras.Sequential()\n",
        "        model_4.add(layers.Dense(256, activation='sigmoid', input_shape=(784,)))\n",
        "        model_4.add(Dropout(0.7))\n",
        "        model_4.add(layers.Dense(128, activation='sigmoid'))\n",
        "        model_4.add(Dropout(0.6))\n",
        "        model_4.add(layers.Dense(10, activation='softmax'))\n",
        "\n",
        "        model_4.compile(loss='categorical_crossentropy', metrics=['accuracy'])\n",
        "        history = model_4.fit(x_train, y_train, epochs=10)\n",
        "\n",
        "        return model_4\n",
        "    \n",
        "    def cfg_early_stop(self):\n",
        "        \"\"\"model with early stopping callback\"\"\"\n",
        "        model_5 = keras.Sequential()\n",
        "        model_5.add(layers.Dense(256, activation='sigmoid', input_shape=(784,)))\n",
        "        model_5.add(layers.Dense(128, activation='sigmoid'))\n",
        "        model_5.add(layers.Dense(10, activation='softmax'))\n",
        "        model_5.compile(loss='categorical_crossentropy', metrics=['accuracy'])\n",
        "    \n",
        "        # model_ will get saved at the end of every epoch automatically.\n",
        "        checkpoint = ModelCheckpoint(r\"mnist-epoch-{epoch:02d}.hdf5\")\n",
        "        history = model_5.fit(x_train, y_train, epochs=10, validation_data=(x_test, y_test), callbacks=[checkpoint])\n",
        "        \n",
        "        return model_5\n",
        "    \n",
        "\n",
        "    def cfg_lr_10(self):\n",
        "        \"\"\"model with a very high learning rate\"\"\"\n",
        "        model_6 = keras.Sequential()\n",
        "        model_6.add(layers.Dense(20, activation='sigmoid', input_shape=(784,)))\n",
        "        model_6.add(layers.Dense(10, activation='sigmoid'))\n",
        "        model_6.add(layers.Dense(10, activation='softmax'))\n",
        "\n",
        "        opt_new = keras.optimizers.SGD(learning_rate=10)\n",
        "        model_6.compile(optimizer=opt_new, loss='categorical_crossentropy', metrics=['accuracy'])\n",
        "        history = model_6.fit(x_train, y_train, epochs=20)\n",
        "\n",
        "        return model_6\n",
        "    \n",
        "    def cfg_lr_1e_5(self):\n",
        "        \"\"\"model with very low learning rate\"\"\"\n",
        "        model_7 = keras.Sequential()\n",
        "        model_7.add(layers.Dense(20, activation='sigmoid', input_shape=(784,)))\n",
        "        model_7.add(layers.Dense(10, activation='sigmoid'))\n",
        "        model_7.add(layers.Dense(10, activation='softmax'))\n",
        "\n",
        "        opt_new = keras.optimizers.SGD(learning_rate=.00001)\n",
        "        model_7.compile(optimizer=opt_new, loss='categorical_crossentropy', metrics=['accuracy'])\n",
        "        history = model_7.fit(x_train, y_train, epochs=20)\n",
        "\n",
        "        return model_7\n",
        "    \n",
        "    def cfg_lr_1e_2(self):\n",
        "        \"\"\"model with optimal learning rate\"\"\"\n",
        "        model_8 = keras.Sequential()\n",
        "        model_8.add(layers.Dense(20, activation='sigmoid', input_shape=(784,)))\n",
        "        model_8.add(layers.Dense(10, activation='sigmoid'))\n",
        "        model_8.add(layers.Dense(10, activation='softmax'))\n",
        "        opt_new = keras.optimizers.SGD(learning_rate=.01)\n",
        "        model_8.compile(optimizer=opt_new, loss='categorical_crossentropy', metrics=['accuracy'])\n",
        "        history = model_8.fit(x_train, y_train, epochs=20)\n",
        "\n",
        "        return model_8\n",
        "    \n",
        "    def cfg_lr_momentum(self):\n",
        "        \"\"\"model with momentum in the optimizer\"\"\"\n",
        "        model_9 = keras.Sequential()\n",
        "        model_9.add(layers.Dense(20, activation='sigmoid', input_shape=(784,)))\n",
        "        model_9.add(layers.Dense(10, activation='sigmoid'))\n",
        "        model_9.add(layers.Dense(10, activation='softmax'))\n",
        "        opt_new = keras.optimizers.SGD(learning_rate=.01, momentum=0.5)\n",
        "        model_9.compile(optimizer=opt_new, loss='categorical_crossentropy', metrics=['accuracy'])\n",
        "        history = model_9.fit(x_train, y_train, epochs=20)\n",
        "\n",
        "        return model_9\n",
        "    \n",
        "    def cfg_minibatch_sgd(self):\n",
        "        \"\"\"Mini-batch SGD - the default minibatch size is 32 unlike 1\"\"\"\n",
        "        model_10 = keras.Sequential()\n",
        "        model_10.add(layers.Dense(20, activation='sigmoid', input_shape=(784,)))\n",
        "        model_10.add(layers.Dense(10, activation='sigmoid'))\n",
        "        model_10.add(layers.Dense(10, activation='softmax'))\n",
        "        \n",
        "        opt_new = keras.optimizers.SGD(learning_rate=.01, momentum=0.5)\n",
        "        model_10.compile(optimizer=opt_new, loss='categorical_crossentropy', metrics=['accuracy'])\n",
        "        history = model_10.fit(x_train, y_train, batch_size=512, epochs=10)\n",
        "\n",
        "        return model_10\n"
      ]
    },
    {
      "cell_type": "code",
      "execution_count": 60,
      "metadata": {},
      "outputs": [],
      "source": [
        "# expts = define_expt_variants()\n",
        "# model_t= expts.cfg_basic()"
      ]
    },
    {
      "cell_type": "markdown",
      "metadata": {},
      "source": [
        "# Use MLflow experiments\n",
        "Run the command `mlflow server` in the terminal if you get a Connection Refused Error"
      ]
    },
    {
      "cell_type": "code",
      "execution_count": null,
      "metadata": {},
      "outputs": [],
      "source": [
        "import mlflow\n",
        "from mlflow.tracking import MlflowClient\n",
        "\n",
        "# Set the tracking URI for MLflow\n",
        "mlflow.set_tracking_uri(\"http://localhost:5000\")\n",
        "\n",
        "# Run the command `mlflow server` in the terminal if you get a connection refused error\n",
        "\n",
        "# Start the parent experiment\n",
        "parent_experiment = mlflow.set_experiment(\"A05 MNIST Experiment\")\n",
        "\n",
        "\n",
        "# we let the run_name to be randomly chosen, so that a new \n",
        "# entry is created as the parent experiment (a new row is created with each run of the cell)\n",
        "# all children experiments are nested\n",
        "with mlflow.start_run(experiment_id=parent_experiment.experiment_id, \n",
        "                    #   run_name=\"MNIST Parent Run\"\n",
        "                      ):\n",
        "\n",
        "    # Create an instance of the ModelConfigurations class\n",
        "    model_configs = define_expt_variants()\n",
        "\n",
        "    # Get the list of configuration methods from the class\n",
        "    # all the useful methods were defined such that they start\n",
        "    # with the string 'cfg'\n",
        "    config_methods = [getattr(model_configs, method_name) for method_name in dir(model_configs) \n",
        "                      if callable(getattr(model_configs, method_name)) \n",
        "                      and method_name.startswith('cfg')]\n",
        "\n",
        "    # config_methods = config_methods[:2]\n",
        "\n",
        "    # Code for running the 10 model configurations\n",
        "    for i, config_method in enumerate(config_methods, start=1):\n",
        "\n",
        "        # name of the nested run is extracted by config_method.__name__\n",
        "        with mlflow.start_run(run_name=f\"MNIST Config {config_method.__name__}\", nested=True):\n",
        "            \n",
        "            # Print run name\n",
        "            print(f'run name = {config_method.__name__}')\n",
        "\n",
        "            # autologging - we use it to log other params \n",
        "            # which we aren't manually logging\n",
        "            mlflow.autolog()\n",
        "            \n",
        "            # the method is defined such that it fits the model on the data\n",
        "            model = config_method()\n",
        "\n",
        "            test_loss, test_acc = model.evaluate(x_test, y_test, verbose=2)\n",
        "            train_loss, train_acc = model.evaluate(x_train, y_train, verbose=2)\n",
        "\n",
        "            # Assemble the metrics and log to mlflow\n",
        "            metrics = {\n",
        "              \"test_loss\": test_loss, \n",
        "              \"test_acc\": test_acc, \n",
        "              \"train_loss\": train_loss, \n",
        "              \"train_acc\": train_acc\n",
        "            }            \n",
        "            mlflow.log_metrics(metrics)\n",
        "            print(f'metrics are {metrics}')\n",
        "\n",
        "            # Assemble the parameters and log to mlflow\n",
        "            params = {\n",
        "              'lr_mlflow_param_custom': model.optimizer.learning_rate.numpy(),\n",
        "              'momentum_mlflow_param_custom': model.optimizer.momentum, \n",
        "              'optimiser_param_custom': model.optimizer.__class__.__name__\n",
        "            } \n",
        "            mlflow.log_params(params)\n",
        "            print(f'params are {params}')"
      ]
    },
    {
      "cell_type": "markdown",
      "metadata": {},
      "source": [
        "## Search through Nested Runs"
      ]
    },
    {
      "cell_type": "code",
      "execution_count": 87,
      "metadata": {},
      "outputs": [
        {
          "name": "stdout",
          "output_type": "stream",
          "text": [
            "Child Run Name: MNIST Config cfg_bigger\n",
            "\t ID: 23f893f71ed14dcead1cd5e97ee065b8\n",
            "\t loss = 0.17414022982120514, epochs = 2\n",
            "Child Run Name: MNIST Config cfg_basic\n",
            "\t ID: e6441afb199d4206801ae9dd3fdf3fa3\n",
            "\t loss = 0.35680249333381653, epochs = 2\n"
          ]
        }
      ],
      "source": [
        "\n",
        "# Get the experiment ID of the parent experiment\n",
        "experiment_id = parent_experiment.experiment_id\n",
        "\n",
        "# Get the MlflowClient\n",
        "client = MlflowClient()\n",
        "\n",
        "# Get the child runs from the parent run\n",
        "child_runs = client.search_runs(experiment_ids = experiment_id)\n",
        "\n",
        "# Show only two child runs and only some metrics/params for example purpose\n",
        "child_runs = child_runs[:2]\n",
        "for child_run in child_runs:\n",
        "    print(f\"Child Run Name: {child_run.data.tags.get('mlflow.runName')}\")\n",
        "    print(f\"\\t ID: {child_run.info.run_id}\")\n",
        "    print(f\"\\t loss = {child_run.data.metrics['loss']}, epochs = {child_run.data.params['epochs']}\")"
      ]
    },
    {
      "cell_type": "code",
      "execution_count": null,
      "metadata": {},
      "outputs": [],
      "source": []
    }
  ],
  "metadata": {
    "colab": {
      "provenance": []
    },
    "kernelspec": {
      "display_name": "venv",
      "language": "python",
      "name": "venv"
    },
    "language_info": {
      "codemirror_mode": {
        "name": "ipython",
        "version": 3
      },
      "file_extension": ".py",
      "mimetype": "text/x-python",
      "name": "python",
      "nbconvert_exporter": "python",
      "pygments_lexer": "ipython3",
      "version": "3.11.7"
    }
  },
  "nbformat": 4,
  "nbformat_minor": 0
}
