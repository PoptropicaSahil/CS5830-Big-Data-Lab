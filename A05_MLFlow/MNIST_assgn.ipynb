{
  "cells": [
    {
      "cell_type": "code",
      "execution_count": 1,
      "metadata": {
        "colab": {
          "base_uri": "https://localhost:8080/"
        },
        "id": "rAuq2aeRX0Wo",
        "outputId": "30e3b089-ff6a-4e62-dc7f-dccbef1022f4"
      },
      "outputs": [
        {
          "data": {
            "text/html": [
              "\n",
              "        <style>\n",
              "            .support_message_main_box {\n",
              "                position: relative;\n",
              "                display: table-cell;\n",
              "                vertical-align: middle;\n",
              "                width: 100%;\n",
              "                height: 8em;\n",
              "                padding: 1em;\n",
              "                padding-left: 11em;\n",
              "                background-color: #f7f7f7;\n",
              "                border: 1px solid #cfcfcf;\n",
              "                border-radius: 2px;\n",
              "            }\n",
              "            .support_message_main_box img {\n",
              "                position: absolute;\n",
              "                height: 9em;\n",
              "                width: 9em;\n",
              "                left: 0.5em;\n",
              "                top: 0.5em;\n",
              "                border-radius: 1em;\n",
              "            }\n",
              "        </style>\n",
              "        <div class=\"support_message_main_box\">\n",
              "            <img src=\"https://avatars.githubusercontent.com/u/7738570?v=4\" />\n",
              "            <p>\n",
              "            <b>Hi!</b><br/>\n",
              "            <span>I am the author of\n",
              "            <a href=\"https://github.com/LucaCappelletti94/plot_keras_history\" target=\"_blank\">\n",
              "                plot_keras_history\n",
              "            </a>, which you use in this Notebook.\n",
              "            </span><br/>\n",
              "            \n",
              "        <span>I hope my work has saved you some time!</span><br/>\n",
              "        \n",
              "            <span>I love to code, but I also need coffee.</span>\n",
              "            <a href=\"https://github.com/sponsors/LucaCappelletti94\" target=\"_blank\">\n",
              "                Please sponsor me on GitHub ❤️\n",
              "            </a><br/>\n",
              "            <i>Good luck in your coding 🍀!</i>\n",
              "            <br/>\n",
              "            <i>- Luca</i>\n",
              "            </p>\n",
              "        <div>\n",
              "        "
            ],
            "text/plain": [
              "<IPython.core.display.HTML object>"
            ]
          },
          "metadata": {},
          "output_type": "display_data"
        }
      ],
      "source": [
        "# !pip install plot_keras_history\n",
        "from tensorflow import keras\n",
        "from tensorflow.keras import layers\n",
        "from tensorflow.keras.models import Sequential\n",
        "from tensorflow.keras.layers import Dense\n",
        "\n",
        "import matplotlib.pyplot as plt\n",
        "from plot_keras_history import show_history"
      ]
    },
    {
      "cell_type": "markdown",
      "metadata": {},
      "source": [
        "## Getting the data"
      ]
    },
    {
      "cell_type": "code",
      "execution_count": 2,
      "metadata": {
        "colab": {
          "base_uri": "https://localhost:8080/"
        },
        "id": "vI51xvP-X0Wp",
        "outputId": "8a5ed8ce-918f-4c41-e1f2-f31dd9c96525"
      },
      "outputs": [
        {
          "name": "stdout",
          "output_type": "stream",
          "text": [
            "(60000, 784) train input samples\n",
            "(10000, 784) test input samples\n"
          ]
        }
      ],
      "source": [
        "(X_train, Y_train), (X_test, Y_test) = keras.datasets.mnist.load_data()\n",
        "num_classes = 10\n",
        "x_train = X_train.reshape(60000, 784)\n",
        "x_test = X_test.reshape(10000, 784)\n",
        "x_train = x_train.astype('float32')\n",
        "x_test = x_test.astype('float32')\n",
        "x_train /= 255\n",
        "x_test /= 255\n",
        "print(x_train.shape, 'train input samples')\n",
        "print(x_test.shape, 'test input samples')"
      ]
    },
    {
      "cell_type": "code",
      "execution_count": 3,
      "metadata": {},
      "outputs": [
        {
          "name": "stdout",
          "output_type": "stream",
          "text": [
            "(60000, 10) train output samples\n",
            "(10000, 10) test output samples\n"
          ]
        }
      ],
      "source": [
        "y_train = keras.utils.to_categorical(Y_train, num_classes)\n",
        "y_test = keras.utils.to_categorical(Y_test, num_classes)\n",
        "print(y_train.shape, 'train output samples')\n",
        "print(y_test.shape, 'test output samples')"
      ]
    },
    {
      "cell_type": "markdown",
      "metadata": {},
      "source": [
        "## Run a simple model to check if Keras is working properly"
      ]
    },
    {
      "cell_type": "code",
      "execution_count": 4,
      "metadata": {
        "colab": {
          "base_uri": "https://localhost:8080/"
        },
        "id": "XWubvvbxX0Wr",
        "outputId": "41170ec6-0c7c-4e72-c104-04d029eb8e62",
        "scrolled": true
      },
      "outputs": [
        {
          "name": "stderr",
          "output_type": "stream",
          "text": [
            "c:\\Users\\Admin\\OneDrive - smail.iitm.ac.in\\Stdy\\Sem 10\\CS5830 Big Data Lab\\A05_MLFlow\\venv\\Lib\\site-packages\\keras\\src\\layers\\core\\dense.py:86: UserWarning: Do not pass an `input_shape`/`input_dim` argument to a layer. When using Sequential models, prefer using an `Input(shape)` object as the first layer in the model instead.\n",
            "  super().__init__(activity_regularizer=activity_regularizer, **kwargs)\n"
          ]
        },
        {
          "data": {
            "text/html": [
              "<pre style=\"white-space:pre;overflow-x:auto;line-height:normal;font-family:Menlo,'DejaVu Sans Mono',consolas,'Courier New',monospace\"><span style=\"font-weight: bold\">Model: \"sequential\"</span>\n",
              "</pre>\n"
            ],
            "text/plain": [
              "\u001b[1mModel: \"sequential\"\u001b[0m\n"
            ]
          },
          "metadata": {},
          "output_type": "display_data"
        },
        {
          "data": {
            "text/html": [
              "<pre style=\"white-space:pre;overflow-x:auto;line-height:normal;font-family:Menlo,'DejaVu Sans Mono',consolas,'Courier New',monospace\">┏━━━━━━━━━━━━━━━━━━━━━━━━━━━━━━━━━┳━━━━━━━━━━━━━━━━━━━━━━━━┳━━━━━━━━━━━━━━━┓\n",
              "┃<span style=\"font-weight: bold\"> Layer (type)                    </span>┃<span style=\"font-weight: bold\"> Output Shape           </span>┃<span style=\"font-weight: bold\">       Param # </span>┃\n",
              "┡━━━━━━━━━━━━━━━━━━━━━━━━━━━━━━━━━╇━━━━━━━━━━━━━━━━━━━━━━━━╇━━━━━━━━━━━━━━━┩\n",
              "│ dense (<span style=\"color: #0087ff; text-decoration-color: #0087ff\">Dense</span>)                   │ (<span style=\"color: #00d7ff; text-decoration-color: #00d7ff\">None</span>, <span style=\"color: #00af00; text-decoration-color: #00af00\">20</span>)             │        <span style=\"color: #00af00; text-decoration-color: #00af00\">15,700</span> │\n",
              "├─────────────────────────────────┼────────────────────────┼───────────────┤\n",
              "│ dense_1 (<span style=\"color: #0087ff; text-decoration-color: #0087ff\">Dense</span>)                 │ (<span style=\"color: #00d7ff; text-decoration-color: #00d7ff\">None</span>, <span style=\"color: #00af00; text-decoration-color: #00af00\">20</span>)             │           <span style=\"color: #00af00; text-decoration-color: #00af00\">420</span> │\n",
              "├─────────────────────────────────┼────────────────────────┼───────────────┤\n",
              "│ dense_2 (<span style=\"color: #0087ff; text-decoration-color: #0087ff\">Dense</span>)                 │ (<span style=\"color: #00d7ff; text-decoration-color: #00d7ff\">None</span>, <span style=\"color: #00af00; text-decoration-color: #00af00\">10</span>)             │           <span style=\"color: #00af00; text-decoration-color: #00af00\">210</span> │\n",
              "└─────────────────────────────────┴────────────────────────┴───────────────┘\n",
              "</pre>\n"
            ],
            "text/plain": [
              "┏━━━━━━━━━━━━━━━━━━━━━━━━━━━━━━━━━┳━━━━━━━━━━━━━━━━━━━━━━━━┳━━━━━━━━━━━━━━━┓\n",
              "┃\u001b[1m \u001b[0m\u001b[1mLayer (type)                   \u001b[0m\u001b[1m \u001b[0m┃\u001b[1m \u001b[0m\u001b[1mOutput Shape          \u001b[0m\u001b[1m \u001b[0m┃\u001b[1m \u001b[0m\u001b[1m      Param #\u001b[0m\u001b[1m \u001b[0m┃\n",
              "┡━━━━━━━━━━━━━━━━━━━━━━━━━━━━━━━━━╇━━━━━━━━━━━━━━━━━━━━━━━━╇━━━━━━━━━━━━━━━┩\n",
              "│ dense (\u001b[38;5;33mDense\u001b[0m)                   │ (\u001b[38;5;45mNone\u001b[0m, \u001b[38;5;34m20\u001b[0m)             │        \u001b[38;5;34m15,700\u001b[0m │\n",
              "├─────────────────────────────────┼────────────────────────┼───────────────┤\n",
              "│ dense_1 (\u001b[38;5;33mDense\u001b[0m)                 │ (\u001b[38;5;45mNone\u001b[0m, \u001b[38;5;34m20\u001b[0m)             │           \u001b[38;5;34m420\u001b[0m │\n",
              "├─────────────────────────────────┼────────────────────────┼───────────────┤\n",
              "│ dense_2 (\u001b[38;5;33mDense\u001b[0m)                 │ (\u001b[38;5;45mNone\u001b[0m, \u001b[38;5;34m10\u001b[0m)             │           \u001b[38;5;34m210\u001b[0m │\n",
              "└─────────────────────────────────┴────────────────────────┴───────────────┘\n"
            ]
          },
          "metadata": {},
          "output_type": "display_data"
        },
        {
          "data": {
            "text/html": [
              "<pre style=\"white-space:pre;overflow-x:auto;line-height:normal;font-family:Menlo,'DejaVu Sans Mono',consolas,'Courier New',monospace\"><span style=\"font-weight: bold\"> Total params: </span><span style=\"color: #00af00; text-decoration-color: #00af00\">16,330</span> (63.79 KB)\n",
              "</pre>\n"
            ],
            "text/plain": [
              "\u001b[1m Total params: \u001b[0m\u001b[38;5;34m16,330\u001b[0m (63.79 KB)\n"
            ]
          },
          "metadata": {},
          "output_type": "display_data"
        },
        {
          "data": {
            "text/html": [
              "<pre style=\"white-space:pre;overflow-x:auto;line-height:normal;font-family:Menlo,'DejaVu Sans Mono',consolas,'Courier New',monospace\"><span style=\"font-weight: bold\"> Trainable params: </span><span style=\"color: #00af00; text-decoration-color: #00af00\">16,330</span> (63.79 KB)\n",
              "</pre>\n"
            ],
            "text/plain": [
              "\u001b[1m Trainable params: \u001b[0m\u001b[38;5;34m16,330\u001b[0m (63.79 KB)\n"
            ]
          },
          "metadata": {},
          "output_type": "display_data"
        },
        {
          "data": {
            "text/html": [
              "<pre style=\"white-space:pre;overflow-x:auto;line-height:normal;font-family:Menlo,'DejaVu Sans Mono',consolas,'Courier New',monospace\"><span style=\"font-weight: bold\"> Non-trainable params: </span><span style=\"color: #00af00; text-decoration-color: #00af00\">0</span> (0.00 B)\n",
              "</pre>\n"
            ],
            "text/plain": [
              "\u001b[1m Non-trainable params: \u001b[0m\u001b[38;5;34m0\u001b[0m (0.00 B)\n"
            ]
          },
          "metadata": {},
          "output_type": "display_data"
        }
      ],
      "source": [
        "# let's try a basic neural network for digit classification\n",
        "model = keras.Sequential()\n",
        "model.add(layers.Dense(20, activation='sigmoid', input_shape=(784,)))\n",
        "model.add(layers.Dense(20, activation='sigmoid'))\n",
        "model.add(layers.Dense(10, activation='softmax'))\n",
        "model.summary()"
      ]
    },
    {
      "cell_type": "code",
      "execution_count": 5,
      "metadata": {
        "colab": {
          "base_uri": "https://localhost:8080/"
        },
        "id": "We-pSGWSX0Wr",
        "outputId": "dd28143d-333b-4824-b021-be4a3125f6de",
        "scrolled": true
      },
      "outputs": [
        {
          "name": "stdout",
          "output_type": "stream",
          "text": [
            "Epoch 1/3\n"
          ]
        },
        {
          "name": "stdout",
          "output_type": "stream",
          "text": [
            "\u001b[1m1875/1875\u001b[0m \u001b[32m━━━━━━━━━━━━━━━━━━━━\u001b[0m\u001b[37m\u001b[0m \u001b[1m11s\u001b[0m 4ms/step - accuracy: 0.6058 - loss: 1.4965 - val_accuracy: 0.8874 - val_loss: 0.4483\n",
            "Epoch 2/3\n",
            "\u001b[1m1875/1875\u001b[0m \u001b[32m━━━━━━━━━━━━━━━━━━━━\u001b[0m\u001b[37m\u001b[0m \u001b[1m8s\u001b[0m 4ms/step - accuracy: 0.8962 - loss: 0.3958 - val_accuracy: 0.9170 - val_loss: 0.2879\n",
            "Epoch 3/3\n",
            "\u001b[1m1875/1875\u001b[0m \u001b[32m━━━━━━━━━━━━━━━━━━━━\u001b[0m\u001b[37m\u001b[0m \u001b[1m8s\u001b[0m 4ms/step - accuracy: 0.9222 - loss: 0.2726 - val_accuracy: 0.9289 - val_loss: 0.2423\n"
          ]
        }
      ],
      "source": [
        "model.compile(loss='categorical_crossentropy', metrics=['accuracy'])\n",
        "history = model.fit(x_train, y_train, epochs=3, validation_data=(x_test, y_test))\n"
      ]
    },
    {
      "cell_type": "code",
      "execution_count": 6,
      "metadata": {
        "colab": {
          "base_uri": "https://localhost:8080/",
          "height": 528
        },
        "id": "vKf_LGZfY0Ue",
        "outputId": "6defc90d-5905-4b0d-c514-fb683e984995"
      },
      "outputs": [
        {
          "data": {
            "image/png": "[encoded data removed]",
            "text/plain": [
              "<Figure size 1000x500 with 2 Axes>"
            ]
          },
          "metadata": {},
          "output_type": "display_data"
        }
      ],
      "source": [
        "show_history(history)"
      ]
    },
    {
      "cell_type": "code",
      "execution_count": 7,
      "metadata": {
        "colab": {
          "base_uri": "https://localhost:8080/"
        },
        "id": "4FEMNbK6X0Wr",
        "outputId": "edc24fcb-3774-410c-eaf1-dd66748cb5af"
      },
      "outputs": [
        {
          "name": "stdout",
          "output_type": "stream",
          "text": [
            "313/313 - 1s - 3ms/step - accuracy: 0.9289 - loss: 0.2423\n",
            "Test accuracy: 92.89%\n",
            "1875/1875 - 5s - 3ms/step - accuracy: 0.9331 - loss: 0.2315\n",
            "Train accuracy: 93.31%\n"
          ]
        }
      ],
      "source": [
        "loss, acc = model.evaluate(x_test, y_test, verbose=2)\n",
        "print(\"Test accuracy: {:5.2f}%\".format(100*acc))\n",
        "loss, acc = model.evaluate(x_train, y_train, verbose=2)\n",
        "print(\"Train accuracy: {:5.2f}%\".format(100*acc))"
      ]
    },
    {
      "cell_type": "code",
      "execution_count": 8,
      "metadata": {
        "id": "yI80K2HWnixM"
      },
      "outputs": [],
      "source": [
        "import numpy as np"
      ]
    },
    {
      "cell_type": "code",
      "execution_count": 9,
      "metadata": {
        "colab": {
          "base_uri": "https://localhost:8080/",
          "height": 465
        },
        "id": "SfEvVsXsn-hS",
        "outputId": "36e3271a-1dbb-4aab-cc77-b038ade2c775"
      },
      "outputs": [
        {
          "name": "stdout",
          "output_type": "stream",
          "text": [
            "\u001b[1m1/1\u001b[0m \u001b[32m━━━━━━━━━━━━━━━━━━━━\u001b[0m\u001b[37m\u001b[0m \u001b[1m0s\u001b[0m 166ms/step\n",
            "Predicted Digit: 3\n"
          ]
        },
        {
          "data": {
            "image/png": "[encoded data removed]",
            "text/plain": [
              "<Figure size 640x480 with 1 Axes>"
            ]
          },
          "metadata": {},
          "output_type": "display_data"
        }
      ],
      "source": [
        "# check if the prediction is working fine for a random test point\n",
        "test_pt = 782\n",
        "plt.imshow(X_test[test_pt], cmap=plt.get_cmap('gray'))\n",
        "probs = model.predict(x_test[test_pt:test_pt+1], verbose=True)\n",
        "print(\"Predicted Digit:\", np.argmax(probs))"
      ]
    },
    {
      "cell_type": "code",
      "execution_count": null,
      "metadata": {},
      "outputs": [],
      "source": []
    },
    {
      "cell_type": "markdown",
      "metadata": {},
      "source": [
        "# Define all the experiment variants"
      ]
    },
    {
      "cell_type": "code",
      "execution_count": 56,
      "metadata": {},
      "outputs": [],
      "source": [
        "from tensorflow.keras import regularizers\n",
        "from tensorflow.keras.layers import Dropout\n",
        "from tensorflow.keras.callbacks import ModelCheckpoint\n",
        "import h5py\n",
        "\n",
        "\n",
        "class define_expt_variants:\n",
        "    \"\"\"\n",
        "    Class which holds all the 10 required experimental variants\n",
        "    Each variant differs by a minor configuation such as learning rates, model size, batch size etc.\n",
        "    \"\"\"\n",
        "    def __init__(self):\n",
        "        pass\n",
        "\n",
        "    def cfg_basic(self):\n",
        "        \"\"\"basic neural network for digit classification\"\"\"\n",
        "        model_1 = keras.Sequential()\n",
        "        model_1.add(layers.Dense(20, activation='sigmoid', input_shape=(784,)))\n",
        "        model_1.add(layers.Dense(20, activation='sigmoid'))\n",
        "        model_1.add(layers.Dense(10, activation='softmax'))\n",
        "\n",
        "        model_1.compile(loss='categorical_crossentropy', metrics=['accuracy'])\n",
        "        history = model_1.fit(x_train, y_train, epochs=10, validation_data=(x_test, y_test))\n",
        "\n",
        "        return model_1\n",
        "    \n",
        "    def cfg_bigger(self):\n",
        "        \"\"\"bigger model\"\"\"\n",
        "        model_2 = keras.Sequential()\n",
        "        model_2.add(layers.Dense(256, activation='sigmoid', input_shape=(784,)))\n",
        "        model_2.add(layers.Dense(128, activation='sigmoid'))\n",
        "        model_2.add(layers.Dense(10, activation='softmax'))\n",
        "\n",
        "        model_2.compile(loss='categorical_crossentropy', metrics=['accuracy'])\n",
        "        history = model_2.fit(x_train, y_train, epochs=10, validation_data=(x_test, y_test))\n",
        "\n",
        "        return model_2\n",
        "    \n",
        "    def cfg_regularised(self):\n",
        "        \"\"\"regularised model\"\"\"\n",
        "        model_3 = keras.Sequential()\n",
        "        model_3.add(layers.Dense(256, activation='sigmoid', input_shape=(784,), kernel_regularizer=regularizers.L2(0.01)))\n",
        "        model_3.add(layers.Dense(128, activation='sigmoid', kernel_regularizer=regularizers.L2(0.01)))\n",
        "        model_3.add(layers.Dense(10, activation='softmax'))\n",
        "\n",
        "        model_3.compile(loss='categorical_crossentropy', metrics=['accuracy'])\n",
        "        history = model_3.fit(x_train, y_train, epochs=50, steps_per_epoch=50, validation_data=(x_test, y_test))\n",
        "\n",
        "        return model_3\n",
        "    \n",
        "    def cfg_dropout(self):\n",
        "        \"\"\"model with dropout\"\"\"\n",
        "        model_4 = keras.Sequential()\n",
        "        model_4.add(layers.Dense(256, activation='sigmoid', input_shape=(784,)))\n",
        "        model_4.add(Dropout(0.7))\n",
        "        model_4.add(layers.Dense(128, activation='sigmoid'))\n",
        "        model_4.add(Dropout(0.6))\n",
        "        model_4.add(layers.Dense(10, activation='softmax'))\n",
        "\n",
        "        model_4.compile(loss='categorical_crossentropy', metrics=['accuracy'])\n",
        "        history = model_4.fit(x_train, y_train, epochs=10)\n",
        "\n",
        "        return model_4\n",
        "    \n",
        "    def cfg_early_stop(self):\n",
        "        \"\"\"model with early stopping callback\"\"\"\n",
        "        model_5 = keras.Sequential()\n",
        "        model_5.add(layers.Dense(256, activation='sigmoid', input_shape=(784,)))\n",
        "        model_5.add(layers.Dense(128, activation='sigmoid'))\n",
        "        model_5.add(layers.Dense(10, activation='softmax'))\n",
        "        model_5.compile(loss='categorical_crossentropy', metrics=['accuracy'])\n",
        "    \n",
        "        # model_ will get saved at the end of every epoch automatically.\n",
        "        checkpoint = ModelCheckpoint(r\"mnist-epoch-{epoch:02d}.hdf5\")\n",
        "        history = model_5.fit(x_train, y_train, epochs=10, validation_data=(x_test, y_test), callbacks=[checkpoint])\n",
        "        \n",
        "        return model_5\n",
        "    \n",
        "\n",
        "    def cfg_lr_10(self):\n",
        "        \"\"\"model with a very high learning rate\"\"\"\n",
        "        model_6 = keras.Sequential()\n",
        "        model_6.add(layers.Dense(20, activation='sigmoid', input_shape=(784,)))\n",
        "        model_6.add(layers.Dense(10, activation='sigmoid'))\n",
        "        model_6.add(layers.Dense(10, activation='softmax'))\n",
        "\n",
        "        opt_new = keras.optimizers.SGD(learning_rate=10)\n",
        "        model_6.compile(optimizer=opt_new, loss='categorical_crossentropy', metrics=['accuracy'])\n",
        "        history = model_6.fit(x_train, y_train, epochs=20)\n",
        "\n",
        "        return model_6\n",
        "    \n",
        "    def cfg_lr_1e_5(self):\n",
        "        \"\"\"model with very low learning rate\"\"\"\n",
        "        model_7 = keras.Sequential()\n",
        "        model_7.add(layers.Dense(20, activation='sigmoid', input_shape=(784,)))\n",
        "        model_7.add(layers.Dense(10, activation='sigmoid'))\n",
        "        model_7.add(layers.Dense(10, activation='softmax'))\n",
        "\n",
        "        opt_new = keras.optimizers.SGD(learning_rate=.00001)\n",
        "        model_7.compile(optimizer=opt_new, loss='categorical_crossentropy', metrics=['accuracy'])\n",
        "        history = model_7.fit(x_train, y_train, epochs=20)\n",
        "\n",
        "        return model_7\n",
        "    \n",
        "    def cfg_lr_1e_2(self):\n",
        "        \"\"\"model with optimal learning rate\"\"\"\n",
        "        model_8 = keras.Sequential()\n",
        "        model_8.add(layers.Dense(20, activation='sigmoid', input_shape=(784,)))\n",
        "        model_8.add(layers.Dense(10, activation='sigmoid'))\n",
        "        model_8.add(layers.Dense(10, activation='softmax'))\n",
        "        opt_new = keras.optimizers.SGD(learning_rate=.01)\n",
        "        model_8.compile(optimizer=opt_new, loss='categorical_crossentropy', metrics=['accuracy'])\n",
        "        history = model_8.fit(x_train, y_train, epochs=20)\n",
        "\n",
        "        return model_8\n",
        "    \n",
        "    def cfg_lr_momentum(self):\n",
        "        \"\"\"model with momentum in the optimizer\"\"\"\n",
        "        model_9 = keras.Sequential()\n",
        "        model_9.add(layers.Dense(20, activation='sigmoid', input_shape=(784,)))\n",
        "        model_9.add(layers.Dense(10, activation='sigmoid'))\n",
        "        model_9.add(layers.Dense(10, activation='softmax'))\n",
        "        opt_new = keras.optimizers.SGD(learning_rate=.01, momentum=0.5)\n",
        "        model_9.compile(optimizer=opt_new, loss='categorical_crossentropy', metrics=['accuracy'])\n",
        "        history = model_9.fit(x_train, y_train, epochs=20)\n",
        "\n",
        "        return model_9\n",
        "    \n",
        "    def cfg_minibatch_sgd(self):\n",
        "        \"\"\"Mini-batch SGD - the default minibatch size is 32 unlike 1\"\"\"\n",
        "        model_10 = keras.Sequential()\n",
        "        model_10.add(layers.Dense(20, activation='sigmoid', input_shape=(784,)))\n",
        "        model_10.add(layers.Dense(10, activation='sigmoid'))\n",
        "        model_10.add(layers.Dense(10, activation='softmax'))\n",
        "        \n",
        "        opt_new = keras.optimizers.SGD(learning_rate=.01, momentum=0.5)\n",
        "        model_10.compile(optimizer=opt_new, loss='categorical_crossentropy', metrics=['accuracy'])\n",
        "        history = model_10.fit(x_train, y_train, batch_size=512, epochs=10)\n",
        "\n",
        "        return model_10\n"
      ]
    },
    {
      "cell_type": "code",
      "execution_count": 41,
      "metadata": {},
      "outputs": [
        {
          "name": "stderr",
          "output_type": "stream",
          "text": [
            "c:\\Users\\Admin\\OneDrive - smail.iitm.ac.in\\Stdy\\Sem 10\\CS5830 Big Data Lab\\A05_MLFlow\\venv\\Lib\\site-packages\\keras\\src\\layers\\core\\dense.py:86: UserWarning: Do not pass an `input_shape`/`input_dim` argument to a layer. When using Sequential models, prefer using an `Input(shape)` object as the first layer in the model instead.\n",
            "  super().__init__(activity_regularizer=activity_regularizer, **kwargs)\n"
          ]
        },
        {
          "name": "stderr",
          "output_type": "stream",
          "text": [
            "2024/04/21 07:44:51 INFO mlflow.utils.autologging_utils: Created MLflow autologging run with ID '0947626921794646b504fbfe2a295d76', which will track hyperparameters, performance metrics, model artifacts, and lineage information for the current tensorflow workflow\n"
          ]
        },
        {
          "data": {
            "text/html": [
              "<pre style=\"white-space:pre;overflow-x:auto;line-height:normal;font-family:Menlo,'DejaVu Sans Mono',consolas,'Courier New',monospace\"></pre>\n"
            ],
            "text/plain": []
          },
          "metadata": {},
          "output_type": "display_data"
        },
        {
          "name": "stdout",
          "output_type": "stream",
          "text": [
            "Epoch 1/2\n",
            "\u001b[1m1875/1875\u001b[0m \u001b[32m━━━━━━━━━━━━━━━━━━━━\u001b[0m\u001b[37m\u001b[0m \u001b[1m0s\u001b[0m 6ms/step - accuracy: 0.5903 - loss: 1.5448"
          ]
        },
        {
          "name": "stderr",
          "output_type": "stream",
          "text": [
            "WARNING:absl:You are saving your model as an HDF5 file via `model.save()` or `keras.saving.save_model(model)`. This file format is considered legacy. We recommend using instead the native Keras format, e.g. `model.save('my_model.keras')` or `keras.saving.save_model(model, 'my_model.keras')`. \n"
          ]
        },
        {
          "name": "stdout",
          "output_type": "stream",
          "text": [
            "\u001b[1m1875/1875\u001b[0m \u001b[32m━━━━━━━━━━━━━━━━━━━━\u001b[0m\u001b[37m\u001b[0m \u001b[1m21s\u001b[0m 9ms/step - accuracy: 0.5904 - loss: 1.5445 - val_accuracy: 0.8920 - val_loss: 0.4374\n",
            "Epoch 2/2\n",
            "\u001b[1m1871/1875\u001b[0m \u001b[32m━━━━━━━━━━━━━━━━━━━\u001b[0m\u001b[37m━\u001b[0m \u001b[1m0s\u001b[0m 6ms/step - accuracy: 0.8986 - loss: 0.3867"
          ]
        },
        {
          "name": "stderr",
          "output_type": "stream",
          "text": [
            "WARNING:absl:You are saving your model as an HDF5 file via `model.save()` or `keras.saving.save_model(model)`. This file format is considered legacy. We recommend using instead the native Keras format, e.g. `model.save('my_model.keras')` or `keras.saving.save_model(model, 'my_model.keras')`. \n"
          ]
        },
        {
          "name": "stdout",
          "output_type": "stream",
          "text": [
            "\u001b[1m1875/1875\u001b[0m \u001b[32m━━━━━━━━━━━━━━━━━━━━\u001b[0m\u001b[37m\u001b[0m \u001b[1m13s\u001b[0m 7ms/step - accuracy: 0.8986 - loss: 0.3866 - val_accuracy: 0.9216 - val_loss: 0.2799\n",
            "\u001b[1m1/1\u001b[0m \u001b[32m━━━━━━━━━━━━━━━━━━━━\u001b[0m\u001b[37m\u001b[0m \u001b[1m0s\u001b[0m 178ms/step\n"
          ]
        }
      ],
      "source": [
        "expts = define_expt_variants()\n",
        "model_t= expts.cfg_basic()"
      ]
    },
    {
      "cell_type": "code",
      "execution_count": null,
      "metadata": {},
      "outputs": [],
      "source": []
    },
    {
      "cell_type": "markdown",
      "metadata": {},
      "source": [
        "# Use MLflow experiments\n",
        "Run the command `mlflow server` in the terminal if you get a Connection Refused Error"
      ]
    },
    {
      "cell_type": "code",
      "execution_count": 13,
      "metadata": {},
      "outputs": [],
      "source": [
        "import mlflow\n",
        "from mlflow.tracking import MlflowClient\n",
        "\n",
        "# Set the tracking URI for MLflow\n",
        "mlflow.set_tracking_uri(\"http://localhost:5000\")\n",
        "\n",
        "# Run the command `mlflow server` in the terminal if you get a connection refused error\n",
        "\n",
        "# Start the parent experiment\n",
        "parent_experiment = mlflow.set_experiment(\"A05 MNIST Experiment\")"
      ]
    },
    {
      "cell_type": "code",
      "execution_count": 58,
      "metadata": {},
      "outputs": [
        {
          "name": "stdout",
          "output_type": "stream",
          "text": [
            "methds = [<bound method define_expt_variants.cfg_basic of <__main__.define_expt_variants object at 0x000001E929DD05D0>>, <bound method define_expt_variants.cfg_bigger of <__main__.define_expt_variants object at 0x000001E929DD05D0>>]\n"
          ]
        },
        {
          "name": "stderr",
          "output_type": "stream",
          "text": [
            "2024/04/21 08:02:08 INFO mlflow.tracking.fluent: Autologging successfully enabled for keras.\n",
            "2024/04/21 08:02:08 INFO mlflow.tracking.fluent: Autologging successfully enabled for tensorflow.\n"
          ]
        },
        {
          "data": {
            "text/html": [
              "<pre style=\"white-space:pre;overflow-x:auto;line-height:normal;font-family:Menlo,'DejaVu Sans Mono',consolas,'Courier New',monospace\"></pre>\n"
            ],
            "text/plain": []
          },
          "metadata": {},
          "output_type": "display_data"
        },
        {
          "name": "stdout",
          "output_type": "stream",
          "text": [
            "Epoch 1/2\n",
            "\u001b[1m1869/1875\u001b[0m \u001b[32m━━━━━━━━━━━━━━━━━━━\u001b[0m\u001b[37m━\u001b[0m \u001b[1m0s\u001b[0m 5ms/step - accuracy: 0.6239 - loss: 1.4935"
          ]
        },
        {
          "name": "stderr",
          "output_type": "stream",
          "text": [
            "WARNING:absl:You are saving your model as an HDF5 file via `model.save()` or `keras.saving.save_model(model)`. This file format is considered legacy. We recommend using instead the native Keras format, e.g. `model.save('my_model.keras')` or `keras.saving.save_model(model, 'my_model.keras')`. \n"
          ]
        },
        {
          "name": "stdout",
          "output_type": "stream",
          "text": [
            "\u001b[1m1875/1875\u001b[0m \u001b[32m━━━━━━━━━━━━━━━━━━━━\u001b[0m\u001b[37m\u001b[0m \u001b[1m14s\u001b[0m 6ms/step - accuracy: 0.6245 - loss: 1.4916 - val_accuracy: 0.8857 - val_loss: 0.4422\n",
            "Epoch 2/2\n",
            "\u001b[1m1870/1875\u001b[0m \u001b[32m━━━━━━━━━━━━━━━━━━━\u001b[0m\u001b[37m━\u001b[0m \u001b[1m0s\u001b[0m 4ms/step - accuracy: 0.8943 - loss: 0.3999"
          ]
        },
        {
          "name": "stderr",
          "output_type": "stream",
          "text": [
            "WARNING:absl:You are saving your model as an HDF5 file via `model.save()` or `keras.saving.save_model(model)`. This file format is considered legacy. We recommend using instead the native Keras format, e.g. `model.save('my_model.keras')` or `keras.saving.save_model(model, 'my_model.keras')`. \n"
          ]
        },
        {
          "name": "stdout",
          "output_type": "stream",
          "text": [
            "\u001b[1m1875/1875\u001b[0m \u001b[32m━━━━━━━━━━━━━━━━━━━━\u001b[0m\u001b[37m\u001b[0m \u001b[1m9s\u001b[0m 5ms/step - accuracy: 0.8944 - loss: 0.3998 - val_accuracy: 0.9220 - val_loss: 0.2915\n",
            "WARNING:tensorflow:6 out of the last 6 calls to <function TensorFlowTrainer.make_predict_function.<locals>.one_step_on_data_distributed at 0x000001E92E1EB2E0> triggered tf.function retracing. Tracing is expensive and the excessive number of tracings could be due to (1) creating @tf.function repeatedly in a loop, (2) passing tensors with different shapes, (3) passing Python objects instead of tensors. For (1), please define your @tf.function outside of the loop. For (2), @tf.function has reduce_retracing=True option that can avoid unnecessary retracing. For (3), please refer to https://www.tensorflow.org/guide/function#controlling_retracing and https://www.tensorflow.org/api_docs/python/tf/function for  more details.\n"
          ]
        },
        {
          "name": "stderr",
          "output_type": "stream",
          "text": [
            "WARNING:tensorflow:6 out of the last 6 calls to <function TensorFlowTrainer.make_predict_function.<locals>.one_step_on_data_distributed at 0x000001E92E1EB2E0> triggered tf.function retracing. Tracing is expensive and the excessive number of tracings could be due to (1) creating @tf.function repeatedly in a loop, (2) passing tensors with different shapes, (3) passing Python objects instead of tensors. For (1), please define your @tf.function outside of the loop. For (2), @tf.function has reduce_retracing=True option that can avoid unnecessary retracing. For (3), please refer to https://www.tensorflow.org/guide/function#controlling_retracing and https://www.tensorflow.org/api_docs/python/tf/function for  more details.\n"
          ]
        },
        {
          "name": "stdout",
          "output_type": "stream",
          "text": [
            "\u001b[1m1/1\u001b[0m \u001b[32m━━━━━━━━━━━━━━━━━━━━\u001b[0m\u001b[37m\u001b[0m \u001b[1m0s\u001b[0m 148ms/step\n",
            "313/313 - 1s - 3ms/step - accuracy: 0.9220 - loss: 0.2915\n",
            "1875/1875 - 6s - 3ms/step - accuracy: 0.9188 - loss: 0.2924\n",
            "metrics are {'test_loss': 0.29152220487594604, 'test_acc': 0.921999990940094, 'train_loss': 0.2924036681652069, 'train_acc': 0.9187833070755005}\n",
            "metrics are {'test_loss': 0.29152220487594604, 'test_acc': 0.921999990940094, 'train_loss': 0.2924036681652069, 'train_acc': 0.9187833070755005}\n"
          ]
        },
        {
          "name": "stderr",
          "output_type": "stream",
          "text": [
            "2024/04/21 08:03:03 INFO mlflow.tracking.fluent: Autologging successfully enabled for keras.\n",
            "2024/04/21 08:03:03 INFO mlflow.tracking.fluent: Autologging successfully enabled for tensorflow.\n"
          ]
        },
        {
          "data": {
            "text/html": [
              "<pre style=\"white-space:pre;overflow-x:auto;line-height:normal;font-family:Menlo,'DejaVu Sans Mono',consolas,'Courier New',monospace\"></pre>\n"
            ],
            "text/plain": []
          },
          "metadata": {},
          "output_type": "display_data"
        },
        {
          "name": "stdout",
          "output_type": "stream",
          "text": [
            "Epoch 1/2\n",
            "\u001b[1m1868/1875\u001b[0m \u001b[32m━━━━━━━━━━━━━━━━━━━\u001b[0m\u001b[37m━\u001b[0m \u001b[1m0s\u001b[0m 9ms/step - accuracy: 0.8043 - loss: 0.7170"
          ]
        },
        {
          "name": "stderr",
          "output_type": "stream",
          "text": [
            "WARNING:absl:You are saving your model as an HDF5 file via `model.save()` or `keras.saving.save_model(model)`. This file format is considered legacy. We recommend using instead the native Keras format, e.g. `model.save('my_model.keras')` or `keras.saving.save_model(model, 'my_model.keras')`. \n"
          ]
        },
        {
          "name": "stdout",
          "output_type": "stream",
          "text": [
            "\u001b[1m1875/1875\u001b[0m \u001b[32m━━━━━━━━━━━━━━━━━━━━\u001b[0m\u001b[37m\u001b[0m \u001b[1m21s\u001b[0m 10ms/step - accuracy: 0.8047 - loss: 0.7156 - val_accuracy: 0.9402 - val_loss: 0.2008\n",
            "Epoch 2/2\n",
            "\u001b[1m1869/1875\u001b[0m \u001b[32m━━━━━━━━━━━━━━━━━━━\u001b[0m\u001b[37m━\u001b[0m \u001b[1m0s\u001b[0m 8ms/step - accuracy: 0.9423 - loss: 0.1919"
          ]
        },
        {
          "name": "stderr",
          "output_type": "stream",
          "text": [
            "WARNING:absl:You are saving your model as an HDF5 file via `model.save()` or `keras.saving.save_model(model)`. This file format is considered legacy. We recommend using instead the native Keras format, e.g. `model.save('my_model.keras')` or `keras.saving.save_model(model, 'my_model.keras')`. \n"
          ]
        },
        {
          "name": "stdout",
          "output_type": "stream",
          "text": [
            "\u001b[1m1875/1875\u001b[0m \u001b[32m━━━━━━━━━━━━━━━━━━━━\u001b[0m\u001b[37m\u001b[0m \u001b[1m18s\u001b[0m 9ms/step - accuracy: 0.9423 - loss: 0.1918 - val_accuracy: 0.9542 - val_loss: 0.1458\n",
            "\u001b[1m1/1\u001b[0m \u001b[32m━━━━━━━━━━━━━━━━━━━━\u001b[0m\u001b[37m\u001b[0m \u001b[1m0s\u001b[0m 390ms/step\n",
            "313/313 - 2s - 6ms/step - accuracy: 0.9542 - loss: 0.1458\n",
            "1875/1875 - 8s - 4ms/step - accuracy: 0.9576 - loss: 0.1380\n",
            "metrics are {'test_loss': 0.1458451896905899, 'test_acc': 0.954200029373169, 'train_loss': 0.13797596096992493, 'train_acc': 0.9575833082199097}\n",
            "metrics are {'test_loss': 0.1458451896905899, 'test_acc': 0.954200029373169, 'train_loss': 0.13797596096992493, 'train_acc': 0.9575833082199097}\n"
          ]
        }
      ],
      "source": [
        "# we let the run_name to be randomly chosen, so that a new \n",
        "# entry is created as the parent experiment (a new row is created with each run of the cell)\n",
        "# all children experiments are nested\n",
        "with mlflow.start_run(experiment_id=parent_experiment.experiment_id, \n",
        "                    #   run_name=\"MNIST Parent Run\"\n",
        "                      ):\n",
        "\n",
        "    # Create an instance of the ModelConfigurations class\n",
        "    model_configs = define_expt_variants()\n",
        "\n",
        "    # Get the list of configuration methods from the class\n",
        "    config_methods = [getattr(model_configs, method_name) for method_name in dir(model_configs) if callable(getattr(model_configs, method_name)) and method_name.startswith('cfg')]\n",
        "\n",
        "    config_methods = config_methods[:2]\n",
        "\n",
        "\n",
        "    # Code for running the 10 model configurations\n",
        "    # for config_num in range(1, 3):\n",
        "    for i, config_method in enumerate(config_methods, start=1):\n",
        "\n",
        "        with mlflow.start_run(run_name=f\"MNIST Config {config_method.__name__}\", nested=True):\n",
        "\n",
        "            # hopefully logs network params also??\n",
        "            mlflow.autolog()\n",
        "            \n",
        "            # the method is defined such that it fits the model on the data\n",
        "            model = config_method()\n",
        "\n",
        "            test_loss, test_acc = model.evaluate(x_test, y_test, verbose=2)\n",
        "            train_loss, train_acc = model.evaluate(x_train, y_train, verbose=2)\n",
        "\n",
        "            # Assemble the metrics we're going to write into a collection\n",
        "            metrics = {\"test_loss\": test_loss, \n",
        "                       \"test_acc\": test_acc, \n",
        "                       \"train_loss\": train_loss, \n",
        "                       \"train_acc\": train_acc\n",
        "                       }\n",
        "            \n",
        "            # Log the error metrics that were calculated during validation\n",
        "            mlflow.log_metrics(metrics)\n",
        "\n",
        "            print(f'metrics are {metrics}')\n",
        "\n",
        "            \n",
        "            # Assemble a few parameters manually to try \n",
        "            params = {\n",
        "              'lr_mlflow_param_custom': model.optimizer.learning_rate.numpy(),\n",
        "              'momentum_mlflow_param_custom': model.optimizer.momentum, \n",
        "              'optimiser_param_custom': model.optimizer.__class__.__name__\n",
        "            } \n",
        "            mlflow.log_params(params)\n",
        "            \n",
        "            print(f'params are {params}')\n",
        "\n",
        "\n",
        "            \n",
        "            # Code for running the specific model configuration\n",
        "            # ...\n",
        "            # Log metrics, parameters, and artifacts for the model configuration\n",
        "            # mlflow.log_metric(\"accuracy\", 1)\n",
        "            # mlflow.log_param(\"learning_rate\", learning_rate)\n",
        "            # mlflow.log_param(\"batch_size\", batch_size)\n",
        "            # # ...\n",
        "            # mlflow.log_artifact(\"model.pkl\")\n"
      ]
    },
    {
      "cell_type": "code",
      "execution_count": null,
      "metadata": {},
      "outputs": [],
      "source": [
        "\n",
        "# Get the experiment ID of the parent experiment\n",
        "experiment_id = parent_experiment.experiment_id\n",
        "\n",
        "# Get the MlflowClient\n",
        "client = MlflowClient()\n",
        "\n",
        "# Get the parent run information\n",
        "parent_run = client.get_run(parent_experiment.run_id)\n",
        "\n",
        "# Print the parent run information\n",
        "print(f\"Parent Run Name: {parent_run.data.tags.get('mlflow.runName')}\")\n",
        "print(f\"Parent Run ID: {parent_run.info.run_id}\")\n",
        "\n",
        "# Get the child runs for the parent run\n",
        "child_runs = client.search_runs(experiment_id=experiment_id, filter_string=f\"tags.mlflow.parentRunId = '{parent_run.info.run_id}'\")\n",
        "\n",
        "# Print the child run information\n",
        "for child_run in child_runs:\n",
        "    print(f\"Child Run Name: {child_run.data.tags.get('mlflow.runName')}\")\n",
        "    print(f\"Child Run ID: {child_run.info.run_id}\")"
      ]
    },
    {
      "cell_type": "code",
      "execution_count": null,
      "metadata": {
        "colab": {
          "base_uri": "https://localhost:8080/"
        },
        "id": "STUGA6DTX0Wr",
        "outputId": "3d4a7f32-1823-46ed-e3a1-dc27f25510ca"
      },
      "outputs": [
        {
          "name": "stdout",
          "output_type": "stream",
          "text": [
            "Model: \"sequential_1\"\n",
            "_________________________________________________________________\n",
            " Layer (type)                Output Shape              Param #   \n",
            "=================================================================\n",
            " dense_3 (Dense)             (None, 256)               200960    \n",
            "                                                                 \n",
            " dense_4 (Dense)             (None, 128)               32896     \n",
            "                                                                 \n",
            " dense_5 (Dense)             (None, 10)                1290      \n",
            "                                                                 \n",
            "=================================================================\n",
            "Total params: 235146 (918.54 KB)\n",
            "Trainable params: 235146 (918.54 KB)\n",
            "Non-trainable params: 0 (0.00 Byte)\n",
            "_________________________________________________________________\n"
          ]
        }
      ],
      "source": [
        "# Let's try with a slightly bigger model with more parameters.\n",
        "model2 = keras.Sequential()\n",
        "model2.add(layers.Dense(256, activation='sigmoid', input_shape=(784,)))\n",
        "model2.add(layers.Dense(128, activation='sigmoid'))\n",
        "model2.add(layers.Dense(10, activation='softmax'))\n",
        "model2.summary()"
      ]
    },
    {
      "cell_type": "code",
      "execution_count": null,
      "metadata": {
        "colab": {
          "base_uri": "https://localhost:8080/"
        },
        "id": "Q0br2zFzX0Ws",
        "outputId": "4ade0e83-4667-40cf-e732-6e9a10e01262"
      },
      "outputs": [
        {
          "name": "stdout",
          "output_type": "stream",
          "text": [
            "Epoch 1/10\n",
            "1875/1875 [==============================] - 13s 7ms/step - loss: 0.0949 - accuracy: 0.9718 - val_loss: 0.0935 - val_accuracy: 0.9713\n",
            "Epoch 2/10\n",
            "1875/1875 [==============================] - 12s 6ms/step - loss: 0.0759 - accuracy: 0.9775 - val_loss: 0.0911 - val_accuracy: 0.9727\n",
            "Epoch 3/10\n",
            "1875/1875 [==============================] - 14s 8ms/step - loss: 0.0616 - accuracy: 0.9806 - val_loss: 0.0824 - val_accuracy: 0.9739\n",
            "Epoch 4/10\n",
            "1875/1875 [==============================] - 14s 8ms/step - loss: 0.0517 - accuracy: 0.9838 - val_loss: 0.0704 - val_accuracy: 0.9782\n",
            "Epoch 5/10\n",
            "1875/1875 [==============================] - 19s 10ms/step - loss: 0.0440 - accuracy: 0.9869 - val_loss: 0.0765 - val_accuracy: 0.9779\n",
            "Epoch 6/10\n",
            "1875/1875 [==============================] - 11s 6ms/step - loss: 0.0370 - accuracy: 0.9888 - val_loss: 0.0758 - val_accuracy: 0.9787\n",
            "Epoch 7/10\n",
            "1875/1875 [==============================] - 11s 6ms/step - loss: 0.0308 - accuracy: 0.9908 - val_loss: 0.0756 - val_accuracy: 0.9786\n",
            "Epoch 8/10\n",
            "1875/1875 [==============================] - 11s 6ms/step - loss: 0.0261 - accuracy: 0.9920 - val_loss: 0.0746 - val_accuracy: 0.9782\n",
            "Epoch 9/10\n",
            "1875/1875 [==============================] - 11s 6ms/step - loss: 0.0223 - accuracy: 0.9934 - val_loss: 0.0731 - val_accuracy: 0.9798\n",
            "Epoch 10/10\n",
            "1875/1875 [==============================] - 11s 6ms/step - loss: 0.0184 - accuracy: 0.9946 - val_loss: 0.0779 - val_accuracy: 0.9783\n"
          ]
        }
      ],
      "source": [
        "model2.compile(loss='categorical_crossentropy', metrics=['accuracy'])\n",
        "history = model2.fit(x_train, y_train, epochs=10, validation_data=(x_test, y_test))"
      ]
    },
    {
      "cell_type": "code",
      "execution_count": null,
      "metadata": {
        "colab": {
          "base_uri": "https://localhost:8080/",
          "height": 528
        },
        "id": "cAga3Y_JpBp4",
        "outputId": "e64513e9-9141-488f-dbfa-7ed94d03b41d"
      },
      "outputs": [
        {
          "data": {
            "image/png": "[encoded data removed]",
            "text/plain": [
              "<Figure size 1000x500 with 2 Axes>"
            ]
          },
          "metadata": {},
          "output_type": "display_data"
        }
      ],
      "source": [
        "show_history(history)"
      ]
    },
    {
      "cell_type": "code",
      "execution_count": null,
      "metadata": {
        "colab": {
          "base_uri": "https://localhost:8080/"
        },
        "id": "kn9D1WE_X0Ws",
        "outputId": "b76db1df-a34e-42bf-bbfb-5e610d5ed6ee"
      },
      "outputs": [
        {
          "name": "stdout",
          "output_type": "stream",
          "text": [
            "313/313 - 1s - loss: 0.0779 - accuracy: 0.9783 - 1s/epoch - 4ms/step\n",
            "Test accuracy: 97.83%\n",
            "1875/1875 - 4s - loss: 0.0135 - accuracy: 0.9960 - 4s/epoch - 2ms/step\n",
            "Train accuracy: 99.60%\n"
          ]
        }
      ],
      "source": [
        "loss, acc = model2.evaluate(x_test, y_test, verbose=2)\n",
        "print(\"Test accuracy: {:5.2f}%\".format(100*acc))\n",
        "loss, acc = model2.evaluate(x_train, y_train, verbose=2)\n",
        "print(\"Train accuracy: {:5.2f}%\".format(100*acc))"
      ]
    },
    {
      "cell_type": "code",
      "execution_count": null,
      "metadata": {
        "colab": {
          "base_uri": "https://localhost:8080/"
        },
        "id": "XerbxmZFX0Ws",
        "outputId": "faba5967-7f6d-48fc-ddfb-0c96161deaba"
      },
      "outputs": [
        {
          "name": "stdout",
          "output_type": "stream",
          "text": [
            "Model: \"sequential_5\"\n",
            "_________________________________________________________________\n",
            " Layer (type)                Output Shape              Param #   \n",
            "=================================================================\n",
            " dense_15 (Dense)            (None, 256)               200960    \n",
            "                                                                 \n",
            " dense_16 (Dense)            (None, 128)               32896     \n",
            "                                                                 \n",
            " dense_17 (Dense)            (None, 10)                1290      \n",
            "                                                                 \n",
            "=================================================================\n",
            "Total params: 235146 (918.54 KB)\n",
            "Trainable params: 235146 (918.54 KB)\n",
            "Non-trainable params: 0 (0.00 Byte)\n",
            "_________________________________________________________________\n"
          ]
        }
      ],
      "source": [
        "# let's try adding kernel regularization to the mix.\n",
        "from tensorflow.keras import regularizers\n",
        "model_r = keras.Sequential()\n",
        "model_r.add(layers.Dense(256, activation='sigmoid', input_shape=(784,), kernel_regularizer=regularizers.L2(0.01)))\n",
        "model_r.add(layers.Dense(128, activation='sigmoid', kernel_regularizer=regularizers.L2(0.01)))\n",
        "model_r.add(layers.Dense(10, activation='softmax'))\n",
        "model_r.summary()"
      ]
    },
    {
      "cell_type": "code",
      "execution_count": null,
      "metadata": {
        "colab": {
          "base_uri": "https://localhost:8080/"
        },
        "id": "vGxo0NrRX0Wt",
        "outputId": "a794f399-7c63-4ff2-de0c-2f9a28ae97ff"
      },
      "outputs": [
        {
          "name": "stdout",
          "output_type": "stream",
          "text": [
            "Epoch 1/50\n",
            "50/50 [==============================] - 4s 64ms/step - loss: 1.3834 - accuracy: 0.7579 - val_loss: 1.3292 - val_accuracy: 0.7909\n",
            "Epoch 2/50\n",
            "50/50 [==============================] - 2s 46ms/step - loss: 1.3662 - accuracy: 0.7634 - val_loss: 1.3128 - val_accuracy: 0.7945\n",
            "Epoch 3/50\n",
            "50/50 [==============================] - 4s 76ms/step - loss: 1.3487 - accuracy: 0.7688 - val_loss: 1.3355 - val_accuracy: 0.7839\n",
            "Epoch 4/50\n",
            "50/50 [==============================] - 3s 57ms/step - loss: 1.3406 - accuracy: 0.7685 - val_loss: 1.3044 - val_accuracy: 0.7667\n",
            "Epoch 5/50\n",
            "50/50 [==============================] - 2s 46ms/step - loss: 1.3287 - accuracy: 0.7714 - val_loss: 1.3021 - val_accuracy: 0.7638\n",
            "Epoch 6/50\n",
            "50/50 [==============================] - 3s 58ms/step - loss: 1.3227 - accuracy: 0.7684 - val_loss: 1.2942 - val_accuracy: 0.7865\n",
            "Epoch 7/50\n",
            "50/50 [==============================] - 3s 56ms/step - loss: 1.3165 - accuracy: 0.7693 - val_loss: 1.3329 - val_accuracy: 0.7529\n",
            "Epoch 8/50\n",
            "50/50 [==============================] - 4s 71ms/step - loss: 1.3046 - accuracy: 0.7735 - val_loss: 1.2993 - val_accuracy: 0.7864\n",
            "Epoch 9/50\n",
            "50/50 [==============================] - 2s 45ms/step - loss: 1.3026 - accuracy: 0.7670 - val_loss: 1.2369 - val_accuracy: 0.8069\n",
            "Epoch 10/50\n",
            "50/50 [==============================] - 3s 58ms/step - loss: 1.2897 - accuracy: 0.7746 - val_loss: 1.2518 - val_accuracy: 0.7798\n",
            "Epoch 11/50\n",
            "50/50 [==============================] - 2s 45ms/step - loss: 1.2881 - accuracy: 0.7710 - val_loss: 1.2564 - val_accuracy: 0.7868\n",
            "Epoch 12/50\n",
            "50/50 [==============================] - 3s 71ms/step - loss: 1.2806 - accuracy: 0.7745 - val_loss: 1.2429 - val_accuracy: 0.7861\n",
            "Epoch 13/50\n",
            "50/50 [==============================] - 3s 58ms/step - loss: 1.2747 - accuracy: 0.7737 - val_loss: 1.2481 - val_accuracy: 0.7974\n",
            "Epoch 14/50\n",
            "50/50 [==============================] - 3s 59ms/step - loss: 1.2713 - accuracy: 0.7733 - val_loss: 1.2059 - val_accuracy: 0.7970\n",
            "Epoch 15/50\n",
            "50/50 [==============================] - 2s 45ms/step - loss: 1.2608 - accuracy: 0.7791 - val_loss: 1.2281 - val_accuracy: 0.7834\n",
            "Epoch 16/50\n",
            "50/50 [==============================] - 3s 58ms/step - loss: 1.2639 - accuracy: 0.7723 - val_loss: 1.2131 - val_accuracy: 0.7976\n",
            "Epoch 17/50\n",
            "50/50 [==============================] - 4s 70ms/step - loss: 1.2552 - accuracy: 0.7751 - val_loss: 1.2155 - val_accuracy: 0.7905\n",
            "Epoch 18/50\n",
            "50/50 [==============================] - 2s 46ms/step - loss: 1.2480 - accuracy: 0.7753 - val_loss: 1.2166 - val_accuracy: 0.7972\n",
            "Epoch 19/50\n",
            "50/50 [==============================] - 2s 45ms/step - loss: 1.2471 - accuracy: 0.7737 - val_loss: 1.2272 - val_accuracy: 0.7960\n",
            "Epoch 20/50\n",
            "50/50 [==============================] - 2s 45ms/step - loss: 1.2411 - accuracy: 0.7763 - val_loss: 1.2486 - val_accuracy: 0.7498\n",
            "Epoch 21/50\n",
            "50/50 [==============================] - 3s 59ms/step - loss: 1.2399 - accuracy: 0.7753 - val_loss: 1.1971 - val_accuracy: 0.7923\n",
            "Epoch 22/50\n",
            "50/50 [==============================] - 3s 55ms/step - loss: 1.2337 - accuracy: 0.7765 - val_loss: 1.1974 - val_accuracy: 0.7772\n",
            "Epoch 23/50\n",
            "50/50 [==============================] - 3s 58ms/step - loss: 1.2301 - accuracy: 0.7771 - val_loss: 1.2050 - val_accuracy: 0.7930\n",
            "Epoch 24/50\n",
            "50/50 [==============================] - 3s 57ms/step - loss: 1.2279 - accuracy: 0.7786 - val_loss: 1.1508 - val_accuracy: 0.8170\n",
            "Epoch 25/50\n",
            "50/50 [==============================] - 2s 45ms/step - loss: 1.2175 - accuracy: 0.7837 - val_loss: 1.1860 - val_accuracy: 0.8073\n",
            "Epoch 26/50\n",
            "50/50 [==============================] - 3s 69ms/step - loss: 1.2169 - accuracy: 0.7820 - val_loss: 1.1948 - val_accuracy: 0.7931\n",
            "Epoch 27/50\n",
            "50/50 [==============================] - 2s 45ms/step - loss: 1.2199 - accuracy: 0.7797 - val_loss: 1.2001 - val_accuracy: 0.7812\n",
            "Epoch 28/50\n",
            "50/50 [==============================] - 3s 58ms/step - loss: 1.2106 - accuracy: 0.7833 - val_loss: 1.1666 - val_accuracy: 0.8016\n",
            "Epoch 29/50\n",
            "50/50 [==============================] - 3s 58ms/step - loss: 1.2056 - accuracy: 0.7837 - val_loss: 1.2113 - val_accuracy: 0.7834\n",
            "Epoch 30/50\n",
            "50/50 [==============================] - 3s 70ms/step - loss: 1.2093 - accuracy: 0.7793 - val_loss: 1.2026 - val_accuracy: 0.7634\n",
            "Epoch 31/50\n",
            "50/50 [==============================] - 3s 56ms/step - loss: 1.1965 - accuracy: 0.7882 - val_loss: 1.1512 - val_accuracy: 0.8135\n",
            "Epoch 32/50\n",
            "50/50 [==============================] - 3s 58ms/step - loss: 1.2019 - accuracy: 0.7822 - val_loss: 1.1367 - val_accuracy: 0.8251\n",
            "Epoch 33/50\n",
            "50/50 [==============================] - 2s 46ms/step - loss: 1.1961 - accuracy: 0.7859 - val_loss: 1.1568 - val_accuracy: 0.8092\n",
            "Epoch 34/50\n",
            "50/50 [==============================] - 2s 45ms/step - loss: 1.1916 - accuracy: 0.7880 - val_loss: 1.1640 - val_accuracy: 0.8164\n",
            "Epoch 35/50\n",
            "50/50 [==============================] - 3s 67ms/step - loss: 1.1888 - accuracy: 0.7888 - val_loss: 1.2465 - val_accuracy: 0.7342\n",
            "Epoch 36/50\n",
            "50/50 [==============================] - 2s 48ms/step - loss: 1.1841 - accuracy: 0.7880 - val_loss: 1.1638 - val_accuracy: 0.7767\n",
            "Epoch 37/50\n",
            "50/50 [==============================] - 2s 46ms/step - loss: 1.1858 - accuracy: 0.7857 - val_loss: 1.1229 - val_accuracy: 0.8298\n",
            "Epoch 38/50\n",
            "50/50 [==============================] - 2s 45ms/step - loss: 1.1798 - accuracy: 0.7897 - val_loss: 1.1205 - val_accuracy: 0.8203\n",
            "Epoch 39/50\n",
            "50/50 [==============================] - 2s 45ms/step - loss: 1.1789 - accuracy: 0.7889 - val_loss: 1.1062 - val_accuracy: 0.8333\n",
            "Epoch 40/50\n",
            "50/50 [==============================] - 3s 60ms/step - loss: 1.1734 - accuracy: 0.7904 - val_loss: 1.1493 - val_accuracy: 0.7979\n",
            "Epoch 41/50\n",
            "50/50 [==============================] - 3s 53ms/step - loss: 1.1726 - accuracy: 0.7898 - val_loss: 1.1205 - val_accuracy: 0.8215\n",
            "Epoch 42/50\n",
            "50/50 [==============================] - 2s 46ms/step - loss: 1.1674 - accuracy: 0.7942 - val_loss: 1.1182 - val_accuracy: 0.8258\n",
            "Epoch 43/50\n",
            "50/50 [==============================] - 3s 58ms/step - loss: 1.1686 - accuracy: 0.7904 - val_loss: 1.1829 - val_accuracy: 0.7718\n",
            "Epoch 44/50\n",
            "50/50 [==============================] - 3s 59ms/step - loss: 1.1655 - accuracy: 0.7940 - val_loss: 1.1176 - val_accuracy: 0.8272\n",
            "Epoch 45/50\n",
            "50/50 [==============================] - 4s 80ms/step - loss: 1.1586 - accuracy: 0.7960 - val_loss: 1.0887 - val_accuracy: 0.8234\n",
            "Epoch 46/50\n",
            "50/50 [==============================] - 2s 48ms/step - loss: 1.1610 - accuracy: 0.7944 - val_loss: 1.1659 - val_accuracy: 0.7687\n",
            "Epoch 47/50\n",
            "50/50 [==============================] - 3s 58ms/step - loss: 1.1545 - accuracy: 0.7960 - val_loss: 1.1589 - val_accuracy: 0.7752\n",
            "Epoch 48/50\n",
            "50/50 [==============================] - 3s 58ms/step - loss: 1.1525 - accuracy: 0.7954 - val_loss: 1.1273 - val_accuracy: 0.7927\n",
            "Epoch 49/50\n",
            "50/50 [==============================] - 3s 67ms/step - loss: 1.1526 - accuracy: 0.7953 - val_loss: 1.1327 - val_accuracy: 0.8050\n",
            "Epoch 50/50\n",
            "50/50 [==============================] - 3s 61ms/step - loss: 1.1488 - accuracy: 0.7945 - val_loss: 1.1330 - val_accuracy: 0.7870\n"
          ]
        },
        {
          "data": {
            "text/plain": [
              "<keras.src.callbacks.History at 0x787f7d826ef0>"
            ]
          },
          "execution_count": 41,
          "metadata": {},
          "output_type": "execute_result"
        }
      ],
      "source": [
        "model_r.compile(loss='categorical_crossentropy', metrics=['accuracy'])\n",
        "history_r = model_r.fit(x_train, y_train, epochs=50, steps_per_epoch=50, validation_data=(x_test, y_test))"
      ]
    },
    {
      "cell_type": "code",
      "execution_count": null,
      "metadata": {
        "colab": {
          "base_uri": "https://localhost:8080/"
        },
        "id": "spnDPhQJX0Wt",
        "outputId": "2bd790dc-c65d-43d5-ae1f-0c31402ba629"
      },
      "outputs": [
        {
          "name": "stdout",
          "output_type": "stream",
          "text": [
            "313/313 - 1s - loss: 1.1330 - accuracy: 0.7870 - 644ms/epoch - 2ms/step\n",
            "Test accuracy: 78.70%\n",
            "1875/1875 - 4s - loss: 1.1545 - accuracy: 0.7784 - 4s/epoch - 2ms/step\n",
            "Train accuracy: 77.84%\n"
          ]
        }
      ],
      "source": [
        "loss, acc = model_r.evaluate(x_test, y_test, verbose=2)\n",
        "print(\"Test accuracy: {:5.2f}%\".format(100*acc))\n",
        "loss, acc = model_r.evaluate(x_train, y_train, verbose=2)\n",
        "print(\"Train accuracy: {:5.2f}%\".format(100*acc))"
      ]
    },
    {
      "cell_type": "code",
      "execution_count": null,
      "metadata": {
        "colab": {
          "base_uri": "https://localhost:8080/",
          "height": 528
        },
        "id": "gQMc37d7uKv6",
        "outputId": "0df03930-8a87-4932-b660-b70053f170c2"
      },
      "outputs": [
        {
          "data": {
            "image/png": "[encoded data removed]",
            "text/plain": [
              "<Figure size 1000x500 with 2 Axes>"
            ]
          },
          "metadata": {},
          "output_type": "display_data"
        }
      ],
      "source": [
        "show_history(history_r)"
      ]
    },
    {
      "cell_type": "code",
      "execution_count": null,
      "metadata": {
        "id": "EwZsx0c3X0Wt"
      },
      "outputs": [],
      "source": [
        "from tensorflow.keras.layers import Dropout"
      ]
    },
    {
      "cell_type": "code",
      "execution_count": null,
      "metadata": {
        "colab": {
          "base_uri": "https://localhost:8080/"
        },
        "id": "u94rHsDeX0Wt",
        "outputId": "725af822-704e-4bc1-fe7a-852725d8148a"
      },
      "outputs": [
        {
          "name": "stdout",
          "output_type": "stream",
          "text": [
            "Model: \"sequential_6\"\n",
            "_________________________________________________________________\n",
            " Layer (type)                Output Shape              Param #   \n",
            "=================================================================\n",
            " dense_18 (Dense)            (None, 256)               200960    \n",
            "                                                                 \n",
            " dropout (Dropout)           (None, 256)               0         \n",
            "                                                                 \n",
            " dense_19 (Dense)            (None, 128)               32896     \n",
            "                                                                 \n",
            " dropout_1 (Dropout)         (None, 128)               0         \n",
            "                                                                 \n",
            " dense_20 (Dense)            (None, 10)                1290      \n",
            "                                                                 \n",
            "=================================================================\n",
            "Total params: 235146 (918.54 KB)\n",
            "Trainable params: 235146 (918.54 KB)\n",
            "Non-trainable params: 0 (0.00 Byte)\n",
            "_________________________________________________________________\n"
          ]
        }
      ],
      "source": [
        "model_rd = keras.Sequential()\n",
        "model_rd.add(layers.Dense(256, activation='sigmoid', input_shape=(784,)))\n",
        "model_rd.add(Dropout(0.7))\n",
        "model_rd.add(layers.Dense(128, activation='sigmoid'))\n",
        "model_rd.add(Dropout(0.6))\n",
        "model_rd.add(layers.Dense(10, activation='softmax'))\n",
        "model_rd.summary()"
      ]
    },
    {
      "cell_type": "code",
      "execution_count": null,
      "metadata": {
        "colab": {
          "base_uri": "https://localhost:8080/"
        },
        "id": "Lkbi4DHQX0Wt",
        "outputId": "b614c310-927c-4e18-ac1c-13ab23536c79",
        "scrolled": true
      },
      "outputs": [
        {
          "name": "stdout",
          "output_type": "stream",
          "text": [
            "Epoch 1/10\n",
            "1875/1875 [==============================] - 16s 8ms/step - loss: 0.8542 - accuracy: 0.7215\n",
            "Epoch 2/10\n",
            "1875/1875 [==============================] - 11s 6ms/step - loss: 0.4486 - accuracy: 0.8691\n",
            "Epoch 3/10\n",
            "1875/1875 [==============================] - 11s 6ms/step - loss: 0.3883 - accuracy: 0.8899\n",
            "Epoch 4/10\n",
            "1875/1875 [==============================] - 11s 6ms/step - loss: 0.3501 - accuracy: 0.9024\n",
            "Epoch 5/10\n",
            "1875/1875 [==============================] - 11s 6ms/step - loss: 0.3267 - accuracy: 0.9103\n",
            "Epoch 6/10\n",
            "1875/1875 [==============================] - 9s 5ms/step - loss: 0.3109 - accuracy: 0.9157\n",
            "Epoch 7/10\n",
            "1875/1875 [==============================] - 11s 6ms/step - loss: 0.2951 - accuracy: 0.9208\n",
            "Epoch 8/10\n",
            "1875/1875 [==============================] - 11s 6ms/step - loss: 0.2880 - accuracy: 0.9237\n",
            "Epoch 9/10\n",
            "1875/1875 [==============================] - 10s 6ms/step - loss: 0.2763 - accuracy: 0.9264\n",
            "Epoch 10/10\n",
            "1875/1875 [==============================] - 10s 6ms/step - loss: 0.2728 - accuracy: 0.9280\n"
          ]
        }
      ],
      "source": [
        "model_rd.compile(loss='categorical_crossentropy', metrics=['accuracy'])\n",
        "history_rd = model_rd.fit(x_train, y_train, epochs=10)"
      ]
    },
    {
      "cell_type": "code",
      "execution_count": null,
      "metadata": {
        "colab": {
          "base_uri": "https://localhost:8080/",
          "height": 528
        },
        "id": "euTwvwduub5q",
        "outputId": "8cfe70e5-d1d3-46bb-f3b0-57399d8212a1"
      },
      "outputs": [
        {
          "data": {
            "image/png": "[encoded data removed]",
            "text/plain": [
              "<Figure size 1000x500 with 2 Axes>"
            ]
          },
          "metadata": {},
          "output_type": "display_data"
        }
      ],
      "source": [
        "show_history(history_rd)"
      ]
    },
    {
      "cell_type": "code",
      "execution_count": null,
      "metadata": {
        "colab": {
          "base_uri": "https://localhost:8080/"
        },
        "id": "KP6YpwOVX0Wt",
        "outputId": "98be5a74-c339-475d-c1f0-c56b875b2bc1"
      },
      "outputs": [
        {
          "name": "stdout",
          "output_type": "stream",
          "text": [
            "313/313 - 1s - loss: 0.1548 - accuracy: 0.9569 - 767ms/epoch - 2ms/step\n",
            "Test accuracy: 95.69%\n",
            "1875/1875 - 4s - loss: 0.1449 - accuracy: 0.9606 - 4s/epoch - 2ms/step\n",
            "Train accuracy: 96.06%\n"
          ]
        }
      ],
      "source": [
        "loss, acc = model_rd.evaluate(x_test, y_test, verbose=2)\n",
        "print(\"Test accuracy: {:5.2f}%\".format(100*acc))\n",
        "loss, acc = model_rd.evaluate(x_train, y_train, verbose=2)\n",
        "print(\"Train accuracy: {:5.2f}%\".format(100*acc))"
      ]
    },
    {
      "cell_type": "code",
      "execution_count": null,
      "metadata": {
        "colab": {
          "base_uri": "https://localhost:8080/"
        },
        "id": "heSSzR0NX0Wu",
        "outputId": "a020cef9-4cb7-4c2d-e8d1-4ce3158c8b8e"
      },
      "outputs": [
        {
          "name": "stdout",
          "output_type": "stream",
          "text": [
            "Model: \"sequential_7\"\n",
            "_________________________________________________________________\n",
            " Layer (type)                Output Shape              Param #   \n",
            "=================================================================\n",
            " dense_21 (Dense)            (None, 256)               200960    \n",
            "                                                                 \n",
            " dense_22 (Dense)            (None, 128)               32896     \n",
            "                                                                 \n",
            " dense_23 (Dense)            (None, 10)                1290      \n",
            "                                                                 \n",
            "=================================================================\n",
            "Total params: 235146 (918.54 KB)\n",
            "Trainable params: 235146 (918.54 KB)\n",
            "Non-trainable params: 0 (0.00 Byte)\n",
            "_________________________________________________________________\n"
          ]
        }
      ],
      "source": [
        "# EARLY STOPPING METHOD\n",
        "model_re = keras.Sequential()\n",
        "model_re.add(layers.Dense(256, activation='sigmoid', input_shape=(784,)))\n",
        "model_re.add(layers.Dense(128, activation='sigmoid'))\n",
        "model_re.add(layers.Dense(10, activation='softmax'))\n",
        "model_re.summary()\n",
        "model_re.compile(loss='categorical_crossentropy', metrics=['accuracy'])"
      ]
    },
    {
      "cell_type": "code",
      "execution_count": null,
      "metadata": {
        "id": "_DkuJkIEX0Wu"
      },
      "outputs": [],
      "source": [
        "from tensorflow.keras.callbacks import ModelCheckpoint\n",
        "import h5py"
      ]
    },
    {
      "cell_type": "code",
      "execution_count": null,
      "metadata": {
        "colab": {
          "base_uri": "https://localhost:8080/"
        },
        "id": "YzAAK4AcX0Wu",
        "outputId": "c7f3f343-440d-4af3-c224-46b7cfe049d4"
      },
      "outputs": [
        {
          "name": "stdout",
          "output_type": "stream",
          "text": [
            "Epoch 1/10\n",
            "1875/1875 [==============================] - 11s 6ms/step - loss: 0.3995 - accuracy: 0.8874 - val_loss: 0.1976 - val_accuracy: 0.9408\n",
            "Epoch 2/10\n",
            "  25/1875 [..............................] - ETA: 8s - loss: 0.2172 - accuracy: 0.9275"
          ]
        },
        {
          "name": "stderr",
          "output_type": "stream",
          "text": [
            "/usr/local/lib/python3.10/dist-packages/keras/src/engine/training.py:3103: UserWarning: You are saving your model as an HDF5 file via `model.save()`. This file format is considered legacy. We recommend using instead the native Keras format, e.g. `model.save('my_model.keras')`.\n",
            "  saving_api.save_model(\n"
          ]
        },
        {
          "name": "stdout",
          "output_type": "stream",
          "text": [
            "1875/1875 [==============================] - 17s 9ms/step - loss: 0.1711 - accuracy: 0.9480 - val_loss: 0.1398 - val_accuracy: 0.9574\n",
            "Epoch 3/10\n",
            "1875/1875 [==============================] - 13s 7ms/step - loss: 0.1175 - accuracy: 0.9648 - val_loss: 0.1037 - val_accuracy: 0.9682\n",
            "Epoch 4/10\n",
            "1875/1875 [==============================] - 13s 7ms/step - loss: 0.0893 - accuracy: 0.9731 - val_loss: 0.0901 - val_accuracy: 0.9717\n",
            "Epoch 5/10\n",
            "1875/1875 [==============================] - 14s 8ms/step - loss: 0.0713 - accuracy: 0.9786 - val_loss: 0.0820 - val_accuracy: 0.9749\n",
            "Epoch 6/10\n",
            "1875/1875 [==============================] - 11s 6ms/step - loss: 0.0594 - accuracy: 0.9820 - val_loss: 0.0728 - val_accuracy: 0.9765\n",
            "Epoch 7/10\n",
            "1875/1875 [==============================] - 10s 6ms/step - loss: 0.0489 - accuracy: 0.9850 - val_loss: 0.0790 - val_accuracy: 0.9763\n",
            "Epoch 8/10\n",
            "1875/1875 [==============================] - 9s 5ms/step - loss: 0.0415 - accuracy: 0.9870 - val_loss: 0.0756 - val_accuracy: 0.9775\n",
            "Epoch 9/10\n",
            "1875/1875 [==============================] - 12s 6ms/step - loss: 0.0351 - accuracy: 0.9894 - val_loss: 0.0722 - val_accuracy: 0.9790\n",
            "Epoch 10/10\n",
            "1875/1875 [==============================] - 11s 6ms/step - loss: 0.0289 - accuracy: 0.9912 - val_loss: 0.0748 - val_accuracy: 0.9771\n"
          ]
        }
      ],
      "source": [
        "# model will get saved at the end of every epoch automatically.\n",
        "checkpoint = ModelCheckpoint(r\"mnist-epoch-{epoch:02d}.hdf5\")\n",
        "history_es = model_re.fit(x_train, y_train, epochs=10, validation_data=(x_test, y_test), callbacks=[checkpoint])"
      ]
    },
    {
      "cell_type": "code",
      "execution_count": null,
      "metadata": {
        "id": "hIWMyGK8wllR"
      },
      "outputs": [],
      "source": [
        "show_history(history_es)"
      ]
    },
    {
      "cell_type": "code",
      "execution_count": null,
      "metadata": {
        "id": "tOPBA1OjX0Wu",
        "outputId": "84be6082-f975-440c-dc8b-ce4b86491004"
      },
      "outputs": [
        {
          "name": "stdout",
          "output_type": "stream",
          "text": [
            "Epoch 1/10\n",
            "1875/1875 [==============================] - 6s 3ms/step - loss: 0.0290 - accuracy: 0.9914 - val_loss: 0.1013 - val_accuracy: 0.9751\n",
            "Epoch 2/10\n",
            "1875/1875 [==============================] - 6s 3ms/step - loss: 0.0246 - accuracy: 0.9931 - val_loss: 0.1038 - val_accuracy: 0.9756\n",
            "Epoch 3/10\n",
            "1875/1875 [==============================] - 6s 3ms/step - loss: 0.0221 - accuracy: 0.9936 - val_loss: 0.1121 - val_accuracy: 0.9745\n"
          ]
        },
        {
          "data": {
            "text/plain": [
              "<keras.callbacks.History at 0x7fe9503d2220>"
            ]
          },
          "execution_count": 37,
          "metadata": {},
          "output_type": "execute_result"
        }
      ],
      "source": [
        "es = keras.callbacks.EarlyStopping(monitor='val_accuracy', min_delta=0.01, patience=2)\n",
        "model_re.fit(x_train, y_train, epochs=10, validation_data=(x_test, y_test), callbacks=[es])"
      ]
    },
    {
      "cell_type": "code",
      "execution_count": null,
      "metadata": {
        "id": "OaQ05dFZX0Wu",
        "outputId": "c6d4d63d-6cb5-4b30-a2bc-623c30f466f7"
      },
      "outputs": [
        {
          "name": "stdout",
          "output_type": "stream",
          "text": [
            "Model: \"sequential_10\"\n",
            "_________________________________________________________________\n",
            " Layer (type)                Output Shape              Param #   \n",
            "=================================================================\n",
            " dense_24 (Dense)            (None, 20)                15700     \n",
            "                                                                 \n",
            " dense_25 (Dense)            (None, 10)                210       \n",
            "                                                                 \n",
            " dense_26 (Dense)            (None, 10)                110       \n",
            "                                                                 \n",
            "=================================================================\n",
            "Total params: 16,020\n",
            "Trainable params: 16,020\n",
            "Non-trainable params: 0\n",
            "_________________________________________________________________\n"
          ]
        }
      ],
      "source": [
        "# Using LEarning rates now.\n",
        "model3 = keras.Sequential()\n",
        "model3.add(layers.Dense(20, activation='sigmoid', input_shape=(784,)))\n",
        "model3.add(layers.Dense(10, activation='sigmoid'))\n",
        "model3.add(layers.Dense(10, activation='softmax'))\n",
        "model3.summary()"
      ]
    },
    {
      "cell_type": "code",
      "execution_count": null,
      "metadata": {
        "id": "D9C57crpX0Wu",
        "outputId": "3a9385e3-d984-49f8-a02b-c0b8e3a85dbe"
      },
      "outputs": [
        {
          "name": "stdout",
          "output_type": "stream",
          "text": [
            "Epoch 1/20\n",
            "1875/1875 [==============================] - 5s 2ms/step - loss: 1.4196 - accuracy: 0.5569\n",
            "Epoch 2/20\n",
            "1875/1875 [==============================] - 4s 2ms/step - loss: 0.9477 - accuracy: 0.7383\n",
            "Epoch 3/20\n",
            "1875/1875 [==============================] - 4s 2ms/step - loss: 0.7737 - accuracy: 0.7938\n",
            "Epoch 4/20\n",
            "1875/1875 [==============================] - 4s 2ms/step - loss: 0.6970 - accuracy: 0.8140\n",
            "Epoch 5/20\n",
            "1875/1875 [==============================] - 4s 2ms/step - loss: 0.5912 - accuracy: 0.8511\n",
            "Epoch 6/20\n",
            "1875/1875 [==============================] - 4s 2ms/step - loss: 0.6390 - accuracy: 0.8315\n",
            "Epoch 7/20\n",
            "1875/1875 [==============================] - 4s 2ms/step - loss: 0.6072 - accuracy: 0.8466\n",
            "Epoch 8/20\n",
            "1875/1875 [==============================] - 4s 2ms/step - loss: 0.5954 - accuracy: 0.8441\n",
            "Epoch 9/20\n",
            "1875/1875 [==============================] - 4s 2ms/step - loss: 0.6514 - accuracy: 0.8235\n",
            "Epoch 10/20\n",
            "1875/1875 [==============================] - 4s 2ms/step - loss: 0.6398 - accuracy: 0.8286\n",
            "Epoch 11/20\n",
            "1875/1875 [==============================] - 4s 2ms/step - loss: 0.6240 - accuracy: 0.8322\n",
            "Epoch 12/20\n",
            "1875/1875 [==============================] - 4s 2ms/step - loss: 0.5881 - accuracy: 0.8487\n",
            "Epoch 13/20\n",
            "1875/1875 [==============================] - 4s 2ms/step - loss: 0.5475 - accuracy: 0.8593\n",
            "Epoch 14/20\n",
            "1875/1875 [==============================] - 4s 2ms/step - loss: 0.5118 - accuracy: 0.8710\n",
            "Epoch 15/20\n",
            "1875/1875 [==============================] - 4s 2ms/step - loss: 0.5187 - accuracy: 0.8643\n",
            "Epoch 16/20\n",
            "1875/1875 [==============================] - 4s 2ms/step - loss: 0.5229 - accuracy: 0.8672\n",
            "Epoch 17/20\n",
            "1875/1875 [==============================] - 4s 2ms/step - loss: 0.5301 - accuracy: 0.8626\n",
            "Epoch 18/20\n",
            "1875/1875 [==============================] - 4s 2ms/step - loss: 0.5244 - accuracy: 0.8648\n",
            "Epoch 19/20\n",
            "1875/1875 [==============================] - 4s 2ms/step - loss: 0.5444 - accuracy: 0.8564\n",
            "Epoch 20/20\n",
            "1875/1875 [==============================] - 4s 2ms/step - loss: 0.5674 - accuracy: 0.8518\n"
          ]
        },
        {
          "data": {
            "text/plain": [
              "<keras.callbacks.History at 0x7fe9501b7310>"
            ]
          },
          "execution_count": 45,
          "metadata": {},
          "output_type": "execute_result"
        }
      ],
      "source": [
        "opt_new = keras.optimizers.SGD(learning_rate=10)\n",
        "model3.compile(optimizer=opt_new, loss='categorical_crossentropy', metrics=['accuracy'])\n",
        "model3.fit(x_train, y_train, epochs=20)"
      ]
    },
    {
      "cell_type": "code",
      "execution_count": null,
      "metadata": {
        "id": "utdp9nTIX0Wu",
        "outputId": "1f178de5-c10b-443f-99b7-f7251756ada9"
      },
      "outputs": [
        {
          "name": "stdout",
          "output_type": "stream",
          "text": [
            "Model: \"sequential_11\"\n",
            "_________________________________________________________________\n",
            " Layer (type)                Output Shape              Param #   \n",
            "=================================================================\n",
            " dense_27 (Dense)            (None, 20)                15700     \n",
            "                                                                 \n",
            " dense_28 (Dense)            (None, 10)                210       \n",
            "                                                                 \n",
            " dense_29 (Dense)            (None, 10)                110       \n",
            "                                                                 \n",
            "=================================================================\n",
            "Total params: 16,020\n",
            "Trainable params: 16,020\n",
            "Non-trainable params: 0\n",
            "_________________________________________________________________\n",
            "Epoch 1/20\n",
            "1875/1875 [==============================] - 4s 2ms/step - loss: 2.4651 - accuracy: 0.1124\n",
            "Epoch 2/20\n",
            "1875/1875 [==============================] - 4s 2ms/step - loss: 2.4618 - accuracy: 0.1123\n",
            "Epoch 3/20\n",
            "1875/1875 [==============================] - 4s 2ms/step - loss: 2.4586 - accuracy: 0.1123\n",
            "Epoch 4/20\n",
            "1875/1875 [==============================] - 4s 2ms/step - loss: 2.4555 - accuracy: 0.1123\n",
            "Epoch 5/20\n",
            "1875/1875 [==============================] - 4s 2ms/step - loss: 2.4524 - accuracy: 0.1123\n",
            "Epoch 6/20\n",
            "1875/1875 [==============================] - 4s 2ms/step - loss: 2.4494 - accuracy: 0.1123\n",
            "Epoch 7/20\n",
            "1875/1875 [==============================] - 4s 2ms/step - loss: 2.4465 - accuracy: 0.1123\n",
            "Epoch 8/20\n",
            "1875/1875 [==============================] - 4s 2ms/step - loss: 2.4437 - accuracy: 0.1123\n",
            "Epoch 9/20\n",
            "1875/1875 [==============================] - 4s 2ms/step - loss: 2.4409 - accuracy: 0.1123\n",
            "Epoch 10/20\n",
            "1875/1875 [==============================] - 4s 2ms/step - loss: 2.4382 - accuracy: 0.1123\n",
            "Epoch 11/20\n",
            "1875/1875 [==============================] - 4s 2ms/step - loss: 2.4356 - accuracy: 0.1123\n",
            "Epoch 12/20\n",
            "1875/1875 [==============================] - 4s 2ms/step - loss: 2.4330 - accuracy: 0.1122\n",
            "Epoch 13/20\n",
            "1875/1875 [==============================] - 4s 2ms/step - loss: 2.4304 - accuracy: 0.1122\n",
            "Epoch 14/20\n",
            "1875/1875 [==============================] - 4s 2ms/step - loss: 2.4280 - accuracy: 0.1121\n",
            "Epoch 15/20\n",
            "1875/1875 [==============================] - 4s 2ms/step - loss: 2.4255 - accuracy: 0.1121\n",
            "Epoch 16/20\n",
            "1875/1875 [==============================] - 4s 2ms/step - loss: 2.4232 - accuracy: 0.1121\n",
            "Epoch 17/20\n",
            "1875/1875 [==============================] - 4s 2ms/step - loss: 2.4208 - accuracy: 0.1120\n",
            "Epoch 18/20\n",
            "1875/1875 [==============================] - 4s 2ms/step - loss: 2.4186 - accuracy: 0.1120\n",
            "Epoch 19/20\n",
            "1875/1875 [==============================] - 4s 2ms/step - loss: 2.4164 - accuracy: 0.1119\n",
            "Epoch 20/20\n",
            "1875/1875 [==============================] - 4s 2ms/step - loss: 2.4142 - accuracy: 0.1118\n"
          ]
        },
        {
          "data": {
            "text/plain": [
              "<keras.callbacks.History at 0x7fe8ef768ac0>"
            ]
          },
          "execution_count": 47,
          "metadata": {},
          "output_type": "execute_result"
        }
      ],
      "source": [
        "# too low learning rate\n",
        "model3 = keras.Sequential()\n",
        "model3.add(layers.Dense(20, activation='sigmoid', input_shape=(784,)))\n",
        "model3.add(layers.Dense(10, activation='sigmoid'))\n",
        "model3.add(layers.Dense(10, activation='softmax'))\n",
        "model3.summary()\n",
        "opt_new = keras.optimizers.SGD(learning_rate=.00001)\n",
        "model3.compile(optimizer=opt_new, loss='categorical_crossentropy', metrics=['accuracy'])\n",
        "model3.fit(x_train, y_train, epochs=20)"
      ]
    },
    {
      "cell_type": "code",
      "execution_count": null,
      "metadata": {
        "id": "dDRm_MSIX0Wv",
        "outputId": "04c0d651-32d4-4380-ffcd-a9803f41a704"
      },
      "outputs": [
        {
          "name": "stdout",
          "output_type": "stream",
          "text": [
            "Model: \"sequential_12\"\n",
            "_________________________________________________________________\n",
            " Layer (type)                Output Shape              Param #   \n",
            "=================================================================\n",
            " dense_30 (Dense)            (None, 20)                15700     \n",
            "                                                                 \n",
            " dense_31 (Dense)            (None, 10)                210       \n",
            "                                                                 \n",
            " dense_32 (Dense)            (None, 10)                110       \n",
            "                                                                 \n",
            "=================================================================\n",
            "Total params: 16,020\n",
            "Trainable params: 16,020\n",
            "Non-trainable params: 0\n",
            "_________________________________________________________________\n",
            "Epoch 1/20\n",
            "1875/1875 [==============================] - 4s 2ms/step - loss: 2.2533 - accuracy: 0.2392\n",
            "Epoch 2/20\n",
            "1875/1875 [==============================] - 4s 2ms/step - loss: 2.0421 - accuracy: 0.4538\n",
            "Epoch 3/20\n",
            "1875/1875 [==============================] - 4s 2ms/step - loss: 1.7108 - accuracy: 0.5248\n",
            "Epoch 4/20\n",
            "1875/1875 [==============================] - 4s 2ms/step - loss: 1.4371 - accuracy: 0.5789\n",
            "Epoch 5/20\n",
            "1875/1875 [==============================] - 4s 2ms/step - loss: 1.2426 - accuracy: 0.6340\n",
            "Epoch 6/20\n",
            "1875/1875 [==============================] - 4s 2ms/step - loss: 1.0870 - accuracy: 0.6922\n",
            "Epoch 7/20\n",
            "1875/1875 [==============================] - 4s 2ms/step - loss: 0.9525 - accuracy: 0.7380\n",
            "Epoch 8/20\n",
            "1875/1875 [==============================] - 4s 2ms/step - loss: 0.8378 - accuracy: 0.7800\n",
            "Epoch 9/20\n",
            "1875/1875 [==============================] - 4s 2ms/step - loss: 0.7438 - accuracy: 0.8126\n",
            "Epoch 10/20\n",
            "1875/1875 [==============================] - 4s 2ms/step - loss: 0.6700 - accuracy: 0.8333\n",
            "Epoch 11/20\n",
            "1875/1875 [==============================] - 4s 2ms/step - loss: 0.6132 - accuracy: 0.8471\n",
            "Epoch 12/20\n",
            "1875/1875 [==============================] - 4s 2ms/step - loss: 0.5690 - accuracy: 0.8567\n",
            "Epoch 13/20\n",
            "1875/1875 [==============================] - 4s 2ms/step - loss: 0.5337 - accuracy: 0.8638\n",
            "Epoch 14/20\n",
            "1875/1875 [==============================] - 4s 2ms/step - loss: 0.5048 - accuracy: 0.8697\n",
            "Epoch 15/20\n",
            "1875/1875 [==============================] - 4s 2ms/step - loss: 0.4806 - accuracy: 0.8759\n",
            "Epoch 16/20\n",
            "1875/1875 [==============================] - 4s 2ms/step - loss: 0.4600 - accuracy: 0.8806\n",
            "Epoch 17/20\n",
            "1875/1875 [==============================] - 4s 2ms/step - loss: 0.4420 - accuracy: 0.8847\n",
            "Epoch 18/20\n",
            "1875/1875 [==============================] - 4s 2ms/step - loss: 0.4262 - accuracy: 0.8882\n",
            "Epoch 19/20\n",
            "1875/1875 [==============================] - 4s 2ms/step - loss: 0.4118 - accuracy: 0.8924\n",
            "Epoch 20/20\n",
            "1875/1875 [==============================] - 4s 2ms/step - loss: 0.3988 - accuracy: 0.8948\n"
          ]
        },
        {
          "data": {
            "text/plain": [
              "<keras.callbacks.History at 0x7fe8ef55e2b0>"
            ]
          },
          "execution_count": 48,
          "metadata": {},
          "output_type": "execute_result"
        }
      ],
      "source": [
        "# optimal learning rate\n",
        "model3 = keras.Sequential()\n",
        "model3.add(layers.Dense(20, activation='sigmoid', input_shape=(784,)))\n",
        "model3.add(layers.Dense(10, activation='sigmoid'))\n",
        "model3.add(layers.Dense(10, activation='softmax'))\n",
        "model3.summary()\n",
        "opt_new = keras.optimizers.SGD(learning_rate=.01)\n",
        "model3.compile(optimizer=opt_new, loss='categorical_crossentropy', metrics=['accuracy'])\n",
        "model3.fit(x_train, y_train, epochs=20)"
      ]
    },
    {
      "cell_type": "code",
      "execution_count": null,
      "metadata": {
        "id": "0yT-zGT4X0Wv",
        "outputId": "d1b5b671-cf5f-4660-f4f8-ef975710584d"
      },
      "outputs": [
        {
          "name": "stdout",
          "output_type": "stream",
          "text": [
            "Model: \"sequential_14\"\n",
            "_________________________________________________________________\n",
            " Layer (type)                Output Shape              Param #   \n",
            "=================================================================\n",
            " dense_36 (Dense)            (None, 20)                15700     \n",
            "                                                                 \n",
            " dense_37 (Dense)            (None, 10)                210       \n",
            "                                                                 \n",
            " dense_38 (Dense)            (None, 10)                110       \n",
            "                                                                 \n",
            "=================================================================\n",
            "Total params: 16,020\n",
            "Trainable params: 16,020\n",
            "Non-trainable params: 0\n",
            "_________________________________________________________________\n",
            "Epoch 1/20\n",
            "1875/1875 [==============================] - 5s 2ms/step - loss: 2.1416 - accuracy: 0.3215\n",
            "Epoch 2/20\n",
            "1875/1875 [==============================] - 4s 2ms/step - loss: 1.5759 - accuracy: 0.5187\n",
            "Epoch 3/20\n",
            "1875/1875 [==============================] - 4s 2ms/step - loss: 1.1739 - accuracy: 0.6662\n",
            "Epoch 4/20\n",
            "1875/1875 [==============================] - 4s 2ms/step - loss: 0.9175 - accuracy: 0.7466\n",
            "Epoch 5/20\n",
            "1875/1875 [==============================] - 4s 2ms/step - loss: 0.7481 - accuracy: 0.8101\n",
            "Epoch 6/20\n",
            "1875/1875 [==============================] - 4s 2ms/step - loss: 0.6318 - accuracy: 0.8464\n",
            "Epoch 7/20\n",
            "1875/1875 [==============================] - 5s 2ms/step - loss: 0.5512 - accuracy: 0.8671\n",
            "Epoch 8/20\n",
            "1875/1875 [==============================] - 4s 2ms/step - loss: 0.4933 - accuracy: 0.8799\n",
            "Epoch 9/20\n",
            "1875/1875 [==============================] - 5s 2ms/step - loss: 0.4498 - accuracy: 0.8889\n",
            "Epoch 10/20\n",
            "1875/1875 [==============================] - 4s 2ms/step - loss: 0.4166 - accuracy: 0.8957\n",
            "Epoch 11/20\n",
            "1875/1875 [==============================] - 5s 2ms/step - loss: 0.3901 - accuracy: 0.9013\n",
            "Epoch 12/20\n",
            "1875/1875 [==============================] - 4s 2ms/step - loss: 0.3687 - accuracy: 0.9047\n",
            "Epoch 13/20\n",
            "1875/1875 [==============================] - 4s 2ms/step - loss: 0.3507 - accuracy: 0.9087\n",
            "Epoch 14/20\n",
            "1875/1875 [==============================] - 5s 2ms/step - loss: 0.3355 - accuracy: 0.9121\n",
            "Epoch 15/20\n",
            "1875/1875 [==============================] - 5s 2ms/step - loss: 0.3223 - accuracy: 0.9156\n",
            "Epoch 16/20\n",
            "1875/1875 [==============================] - 4s 2ms/step - loss: 0.3107 - accuracy: 0.9180\n",
            "Epoch 17/20\n",
            "1875/1875 [==============================] - 4s 2ms/step - loss: 0.3002 - accuracy: 0.9201\n",
            "Epoch 18/20\n",
            "1875/1875 [==============================] - 4s 2ms/step - loss: 0.2906 - accuracy: 0.9229\n",
            "Epoch 19/20\n",
            "1875/1875 [==============================] - 4s 2ms/step - loss: 0.2818 - accuracy: 0.9247\n",
            "Epoch 20/20\n",
            "1875/1875 [==============================] - 4s 2ms/step - loss: 0.2734 - accuracy: 0.9268\n"
          ]
        },
        {
          "data": {
            "text/plain": [
              "<keras.callbacks.History at 0x7fe8ec0b1e20>"
            ]
          },
          "execution_count": 58,
          "metadata": {},
          "output_type": "execute_result"
        }
      ],
      "source": [
        "# optimal learning rate with momentum\n",
        "model3 = keras.Sequential()\n",
        "model3.add(layers.Dense(20, activation='sigmoid', input_shape=(784,)))\n",
        "model3.add(layers.Dense(10, activation='sigmoid'))\n",
        "model3.add(layers.Dense(10, activation='softmax'))\n",
        "model3.summary()\n",
        "opt_new = keras.optimizers.SGD(learning_rate=.01, momentum=0.5)\n",
        "model3.compile(optimizer=opt_new, loss='categorical_crossentropy', metrics=['accuracy'])\n",
        "model3.fit(x_train, y_train, epochs=20)"
      ]
    },
    {
      "cell_type": "code",
      "execution_count": null,
      "metadata": {
        "id": "8VLCo-_vX0Wv",
        "outputId": "e5eb6c7b-a9fe-42db-ea90-31458a2faccd"
      },
      "outputs": [
        {
          "name": "stdout",
          "output_type": "stream",
          "text": [
            "Model: \"sequential_22\"\n",
            "_________________________________________________________________\n",
            " Layer (type)                Output Shape              Param #   \n",
            "=================================================================\n",
            " dense_60 (Dense)            (None, 20)                15700     \n",
            "                                                                 \n",
            " dense_61 (Dense)            (None, 10)                210       \n",
            "                                                                 \n",
            " dense_62 (Dense)            (None, 10)                110       \n",
            "                                                                 \n",
            "=================================================================\n",
            "Total params: 16,020\n",
            "Trainable params: 16,020\n",
            "Non-trainable params: 0\n",
            "_________________________________________________________________\n",
            "Epoch 1/10\n",
            "118/118 [==============================] - 1s 4ms/step - loss: 2.1100 - accuracy: 0.3083\n",
            "Epoch 2/10\n",
            "118/118 [==============================] - 0s 4ms/step - loss: 1.7772 - accuracy: 0.5403\n",
            "Epoch 3/10\n",
            "118/118 [==============================] - 0s 4ms/step - loss: 1.5238 - accuracy: 0.5899\n",
            "Epoch 4/10\n",
            "118/118 [==============================] - 0s 4ms/step - loss: 1.3072 - accuracy: 0.6781\n",
            "Epoch 5/10\n",
            "118/118 [==============================] - 0s 4ms/step - loss: 1.1206 - accuracy: 0.7504\n",
            "Epoch 6/10\n",
            "118/118 [==============================] - 0s 4ms/step - loss: 0.9618 - accuracy: 0.7803\n",
            "Epoch 7/10\n",
            "118/118 [==============================] - 0s 4ms/step - loss: 0.8310 - accuracy: 0.7980\n",
            "Epoch 8/10\n",
            "118/118 [==============================] - 0s 4ms/step - loss: 0.7264 - accuracy: 0.8153\n",
            "Epoch 9/10\n",
            "118/118 [==============================] - 0s 4ms/step - loss: 0.6445 - accuracy: 0.8308\n",
            "Epoch 10/10\n",
            "118/118 [==============================] - 0s 4ms/step - loss: 0.5787 - accuracy: 0.8457\n"
          ]
        },
        {
          "data": {
            "text/plain": [
              "<keras.callbacks.History at 0x7fe8e0065e20>"
            ]
          },
          "execution_count": 67,
          "metadata": {},
          "output_type": "execute_result"
        }
      ],
      "source": [
        "# Mini-batch SGD\n",
        "# the default minibatch size is 32 unlike 1.\n",
        "model4 = keras.Sequential()\n",
        "model4.add(layers.Dense(20, activation='sigmoid', input_shape=(784,)))\n",
        "model4.add(layers.Dense(10, activation='sigmoid'))\n",
        "model4.add(layers.Dense(10, activation='softmax'))\n",
        "model4.summary()\n",
        "opt_new = keras.optimizers.SGD(learning_rate=.01, momentum=0.5)\n",
        "model4.compile(loss='categorical_crossentropy', metrics=['accuracy'])\n",
        "model4.fit(x_train, y_train, batch_size=512, epochs=10)"
      ]
    },
    {
      "cell_type": "code",
      "execution_count": null,
      "metadata": {
        "id": "4OTNWfLJX0Wv"
      },
      "outputs": [],
      "source": []
    },
    {
      "cell_type": "code",
      "execution_count": null,
      "metadata": {
        "id": "xMLo_1T7X0Wv"
      },
      "outputs": [],
      "source": []
    }
  ],
  "metadata": {
    "colab": {
      "provenance": []
    },
    "kernelspec": {
      "display_name": "venv",
      "language": "python",
      "name": "venv"
    },
    "language_info": {
      "codemirror_mode": {
        "name": "ipython",
        "version": 3
      },
      "file_extension": ".py",
      "mimetype": "text/x-python",
      "name": "python",
      "nbconvert_exporter": "python",
      "pygments_lexer": "ipython3",
      "version": "3.11.7"
    }
  },
  "nbformat": 4,
  "nbformat_minor": 0
}
