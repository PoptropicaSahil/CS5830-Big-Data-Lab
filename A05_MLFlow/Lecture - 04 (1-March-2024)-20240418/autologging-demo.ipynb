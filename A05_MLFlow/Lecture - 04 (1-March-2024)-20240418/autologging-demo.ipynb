{
 "cells": [
  {
   "cell_type": "code",
   "execution_count": 1,
   "id": "c8c1f247",
   "metadata": {
    "ExecuteTime": {
     "end_time": "2024-02-29T12:30:44.928834Z",
     "start_time": "2024-02-29T12:30:44.921131Z"
    }
   },
   "outputs": [],
   "source": [
    "import mlflow\n",
    "from sklearn.datasets import load_diabetes\n",
    "from sklearn.ensemble import RandomForestRegressor\n",
    "from sklearn.model_selection import train_test_split"
   ]
  },
  {
   "cell_type": "code",
   "execution_count": 2,
   "id": "31b38e74",
   "metadata": {
    "ExecuteTime": {
     "end_time": "2024-02-29T12:30:47.082778Z",
     "start_time": "2024-02-29T12:30:47.077354Z"
    }
   },
   "outputs": [],
   "source": [
    "# Use the fluent API to set the tracking uri and the active experiment\n",
    "# mlflow.set_tracking_uri(\"http://127.0.0.1:8000\")\n",
    "mlflow.set_tracking_uri(\"http://127.0.0.1:5000\")"
   ]
  },
  {
   "cell_type": "code",
   "execution_count": 3,
   "id": "ae20f372",
   "metadata": {},
   "outputs": [],
   "source": [
    "# might have to run mlflow server command first here?"
   ]
  },
  {
   "cell_type": "code",
   "execution_count": 4,
   "id": "dc7e87dc",
   "metadata": {
    "ExecuteTime": {
     "end_time": "2024-02-29T12:30:48.596825Z",
     "start_time": "2024-02-29T12:30:48.426956Z"
    }
   },
   "outputs": [
    {
     "data": {
      "text/plain": [
       "<Experiment: artifact_location='mlflow-artifacts:/246020539030025678', creation_time=1713495954999, experiment_id='246020539030025678', last_update_time=1713495954999, lifecycle_stage='active', name='autologging_demo', tags={}>"
      ]
     },
     "execution_count": 4,
     "metadata": {},
     "output_type": "execute_result"
    }
   ],
   "source": [
    "mlflow.set_experiment(\"autologging_demo\")"
   ]
  },
  {
   "cell_type": "code",
   "execution_count": 6,
   "id": "d9f3753c",
   "metadata": {
    "ExecuteTime": {
     "end_time": "2024-02-29T12:30:50.694358Z",
     "start_time": "2024-02-29T12:30:50.245118Z"
    }
   },
   "outputs": [
    {
     "name": "stderr",
     "output_type": "stream",
     "text": [
      "2024/04/19 12:03:44 INFO mlflow.tracking.fluent: Autologging successfully enabled for sklearn.\n"
     ]
    }
   ],
   "source": [
    "mlflow.autolog()"
   ]
  },
  {
   "cell_type": "code",
   "execution_count": 7,
   "id": "ac783ec7",
   "metadata": {
    "ExecuteTime": {
     "end_time": "2024-02-29T12:30:55.587606Z",
     "start_time": "2024-02-29T12:30:55.570146Z"
    }
   },
   "outputs": [],
   "source": [
    "db = load_diabetes()\n",
    "X_train, X_test, y_train, y_test = train_test_split(db.data, db.target)"
   ]
  },
  {
   "cell_type": "code",
   "execution_count": 8,
   "id": "5652bee6",
   "metadata": {},
   "outputs": [
    {
     "data": {
      "text/plain": [
       "(331, 10)"
      ]
     },
     "execution_count": 8,
     "metadata": {},
     "output_type": "execute_result"
    }
   ],
   "source": [
    "X_train.shape"
   ]
  },
  {
   "cell_type": "code",
   "execution_count": 10,
   "id": "6601e0c6",
   "metadata": {
    "ExecuteTime": {
     "end_time": "2024-02-29T12:31:02.834888Z",
     "start_time": "2024-02-29T12:30:58.663599Z"
    }
   },
   "outputs": [
    {
     "name": "stderr",
     "output_type": "stream",
     "text": [
      "2024/04/19 12:04:22 INFO mlflow.utils.autologging_utils: Created MLflow autologging run with ID '6e07657b7e544084ad7938f5f1d91158', which will track hyperparameters, performance metrics, model artifacts, and lineage information for the current sklearn workflow\n",
      "2024/04/19 12:04:42 WARNING mlflow.utils.autologging_utils: MLflow autologging encountered a warning: \"c:\\Users\\Admin\\AppData\\Local\\Programs\\Python\\Python311\\Lib\\site-packages\\_distutils_hack\\__init__.py:33: UserWarning: Setuptools is replacing distutils.\"\n"
     ]
    },
    {
     "data": {
      "text/html": [
       "<style>#sk-container-id-2 {color: black;}#sk-container-id-2 pre{padding: 0;}#sk-container-id-2 div.sk-toggleable {background-color: white;}#sk-container-id-2 label.sk-toggleable__label {cursor: pointer;display: block;width: 100%;margin-bottom: 0;padding: 0.3em;box-sizing: border-box;text-align: center;}#sk-container-id-2 label.sk-toggleable__label-arrow:before {content: \"▸\";float: left;margin-right: 0.25em;color: #696969;}#sk-container-id-2 label.sk-toggleable__label-arrow:hover:before {color: black;}#sk-container-id-2 div.sk-estimator:hover label.sk-toggleable__label-arrow:before {color: black;}#sk-container-id-2 div.sk-toggleable__content {max-height: 0;max-width: 0;overflow: hidden;text-align: left;background-color: #f0f8ff;}#sk-container-id-2 div.sk-toggleable__content pre {margin: 0.2em;color: black;border-radius: 0.25em;background-color: #f0f8ff;}#sk-container-id-2 input.sk-toggleable__control:checked~div.sk-toggleable__content {max-height: 200px;max-width: 100%;overflow: auto;}#sk-container-id-2 input.sk-toggleable__control:checked~label.sk-toggleable__label-arrow:before {content: \"▾\";}#sk-container-id-2 div.sk-estimator input.sk-toggleable__control:checked~label.sk-toggleable__label {background-color: #d4ebff;}#sk-container-id-2 div.sk-label input.sk-toggleable__control:checked~label.sk-toggleable__label {background-color: #d4ebff;}#sk-container-id-2 input.sk-hidden--visually {border: 0;clip: rect(1px 1px 1px 1px);clip: rect(1px, 1px, 1px, 1px);height: 1px;margin: -1px;overflow: hidden;padding: 0;position: absolute;width: 1px;}#sk-container-id-2 div.sk-estimator {font-family: monospace;background-color: #f0f8ff;border: 1px dotted black;border-radius: 0.25em;box-sizing: border-box;margin-bottom: 0.5em;}#sk-container-id-2 div.sk-estimator:hover {background-color: #d4ebff;}#sk-container-id-2 div.sk-parallel-item::after {content: \"\";width: 100%;border-bottom: 1px solid gray;flex-grow: 1;}#sk-container-id-2 div.sk-label:hover label.sk-toggleable__label {background-color: #d4ebff;}#sk-container-id-2 div.sk-serial::before {content: \"\";position: absolute;border-left: 1px solid gray;box-sizing: border-box;top: 0;bottom: 0;left: 50%;z-index: 0;}#sk-container-id-2 div.sk-serial {display: flex;flex-direction: column;align-items: center;background-color: white;padding-right: 0.2em;padding-left: 0.2em;position: relative;}#sk-container-id-2 div.sk-item {position: relative;z-index: 1;}#sk-container-id-2 div.sk-parallel {display: flex;align-items: stretch;justify-content: center;background-color: white;position: relative;}#sk-container-id-2 div.sk-item::before, #sk-container-id-2 div.sk-parallel-item::before {content: \"\";position: absolute;border-left: 1px solid gray;box-sizing: border-box;top: 0;bottom: 0;left: 50%;z-index: -1;}#sk-container-id-2 div.sk-parallel-item {display: flex;flex-direction: column;z-index: 1;position: relative;background-color: white;}#sk-container-id-2 div.sk-parallel-item:first-child::after {align-self: flex-end;width: 50%;}#sk-container-id-2 div.sk-parallel-item:last-child::after {align-self: flex-start;width: 50%;}#sk-container-id-2 div.sk-parallel-item:only-child::after {width: 0;}#sk-container-id-2 div.sk-dashed-wrapped {border: 1px dashed gray;margin: 0 0.4em 0.5em 0.4em;box-sizing: border-box;padding-bottom: 0.4em;background-color: white;}#sk-container-id-2 div.sk-label label {font-family: monospace;font-weight: bold;display: inline-block;line-height: 1.2em;}#sk-container-id-2 div.sk-label-container {text-align: center;}#sk-container-id-2 div.sk-container {/* jupyter's `normalize.less` sets `[hidden] { display: none; }` but bootstrap.min.css set `[hidden] { display: none !important; }` so we also need the `!important` here to be able to override the default hidden behavior on the sphinx rendered scikit-learn.org. See: https://github.com/scikit-learn/scikit-learn/issues/21755 */display: inline-block !important;position: relative;}#sk-container-id-2 div.sk-text-repr-fallback {display: none;}</style><div id=\"sk-container-id-2\" class=\"sk-top-container\"><div class=\"sk-text-repr-fallback\"><pre>RandomForestRegressor(max_depth=10, max_features=5)</pre><b>In a Jupyter environment, please rerun this cell to show the HTML representation or trust the notebook. <br />On GitHub, the HTML representation is unable to render, please try loading this page with nbviewer.org.</b></div><div class=\"sk-container\" hidden><div class=\"sk-item\"><div class=\"sk-estimator sk-toggleable\"><input class=\"sk-toggleable__control sk-hidden--visually\" id=\"sk-estimator-id-2\" type=\"checkbox\" checked><label for=\"sk-estimator-id-2\" class=\"sk-toggleable__label sk-toggleable__label-arrow\">RandomForestRegressor</label><div class=\"sk-toggleable__content\"><pre>RandomForestRegressor(max_depth=10, max_features=5)</pre></div></div></div></div></div>"
      ],
      "text/plain": [
       "RandomForestRegressor(max_depth=10, max_features=5)"
      ]
     },
     "execution_count": 10,
     "metadata": {},
     "output_type": "execute_result"
    }
   ],
   "source": [
    "rf = RandomForestRegressor(n_estimators=100, max_depth=10, max_features=5)\n",
    "# MLflow triggers logging automatically upon model fitting\n",
    "rf.fit(X_train, y_train)"
   ]
  },
  {
   "cell_type": "code",
   "execution_count": 12,
   "id": "3f20db52",
   "metadata": {},
   "outputs": [
    {
     "data": {
      "text/plain": [
       "array([121.29969462, 107.98690728, 104.03099811,  84.81125024,\n",
       "       117.01408206,  98.8805404 , 118.43868362,  76.80261838,\n",
       "       260.38889394,  89.76302599, 174.60406481, 196.5296294 ,\n",
       "       196.4878387 , 172.71647367, 203.25987507, 112.91557921,\n",
       "       183.47042492, 143.24882062,  88.5424127 ,  81.15999702,\n",
       "       263.89409357, 211.95764209, 235.46188747, 121.51249295,\n",
       "       188.2493502 , 116.01393597, 137.06313458, 141.7894121 ,\n",
       "        80.97244568, 109.15311   , 160.01228239, 176.6743268 ,\n",
       "        89.47987755, 169.17762283, 225.84878286, 199.73085931,\n",
       "       120.14293977,  99.64735855,  90.3170932 , 203.91141949,\n",
       "       112.4041669 , 107.62879947, 181.39208647, 135.96804835,\n",
       "        91.83105853, 162.68303982, 260.05185256,  94.48236397,\n",
       "       159.27903846, 279.65866667, 150.37411359, 157.14193348,\n",
       "       110.69305835,  85.16442587, 132.9154246 , 179.53461349,\n",
       "       126.60280369, 118.61350751, 221.59435407, 151.99842499,\n",
       "       131.0935873 ,  86.55683042, 185.71924176, 175.08498922,\n",
       "       143.85322162, 145.73501323,  79.49245713, 178.23367204,\n",
       "       124.08669847, 257.64706056, 101.72052411, 209.46279762,\n",
       "       194.41252778,  96.22841058, 218.69322538, 140.58001818,\n",
       "        84.22303432, 256.93955021, 262.53805861,  88.41523727,\n",
       "       126.6575873 , 229.57069725,  80.16724223, 123.02833262,\n",
       "       100.72653159, 188.882375  , 216.574     , 146.48779798,\n",
       "       246.24832349,  92.58369529, 179.22778065, 103.10903777,\n",
       "        85.09737467, 173.61477816, 186.8139839 , 114.32993522,\n",
       "        83.30360997, 228.95422619, 145.17422309, 166.12857937,\n",
       "       101.23266885, 116.09377573, 104.4783847 ,  94.70931511,\n",
       "       170.87095458, 141.19807872, 160.03223543, 113.95089059,\n",
       "       211.66836723, 164.28951975,  92.1261432 ])"
      ]
     },
     "execution_count": 12,
     "metadata": {},
     "output_type": "execute_result"
    }
   ],
   "source": [
    "rf.predict(X_test)"
   ]
  },
  {
   "cell_type": "code",
   "execution_count": null,
   "id": "0aa2c4f3",
   "metadata": {},
   "outputs": [],
   "source": []
  }
 ],
 "metadata": {
  "kernelspec": {
   "display_name": "Python 3 (ipykernel)",
   "language": "python",
   "name": "python3"
  },
  "language_info": {
   "codemirror_mode": {
    "name": "ipython",
    "version": 3
   },
   "file_extension": ".py",
   "mimetype": "text/x-python",
   "name": "python",
   "nbconvert_exporter": "python",
   "pygments_lexer": "ipython3",
   "version": "3.11.7"
  },
  "varInspector": {
   "cols": {
    "lenName": 16,
    "lenType": 16,
    "lenVar": 40
   },
   "kernels_config": {
    "python": {
     "delete_cmd_postfix": "",
     "delete_cmd_prefix": "del ",
     "library": "var_list.py",
     "varRefreshCmd": "print(var_dic_list())"
    },
    "r": {
     "delete_cmd_postfix": ") ",
     "delete_cmd_prefix": "rm(",
     "library": "var_list.r",
     "varRefreshCmd": "cat(var_dic_list()) "
    }
   },
   "types_to_exclude": [
    "module",
    "function",
    "builtin_function_or_method",
    "instance",
    "_Feature"
   ],
   "window_display": false
  }
 },
 "nbformat": 4,
 "nbformat_minor": 5
}
