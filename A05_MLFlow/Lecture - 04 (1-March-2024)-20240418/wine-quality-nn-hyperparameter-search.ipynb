{
 "cells": [
  {
   "cell_type": "markdown",
   "id": "0e4f700e",
   "metadata": {},
   "source": [
    "## Compare runs, choose a model, and deploy it to a REST API"
   ]
  },
  {
   "cell_type": "markdown",
   "id": "6ba982fc",
   "metadata": {},
   "source": [
    "### Ref https://mlflow.org/docs/latest/getting-started/quickstart-2/index.html\n",
    "\n",
    "![alt](https://mlflow.org/docs/latest/_images/quickstart_tracking_overview.png)"
   ]
  },
  {
   "cell_type": "markdown",
   "id": "ce244d72",
   "metadata": {},
   "source": [
    "* Run a hyperparameter sweep on a training script\n",
    "* Compare the results of the runs in the MLflow UI\n",
    "* Choose the best run and register it as a model\n",
    "* Deploy the model to a REST API\n",
    "* Build a container image suitable for deployment to a cloud platform\n",
    "\n",
    "As an ML Engineer or MLOps professional, you can use MLflow to compare, share, and deploy the best models produced by the team. In this quickstart, you will use the MLflow Tracking UI to compare the results of a hyperparameter sweep, choose the best run, and register it as a model. Then, you will deploy the model to a REST API. Finally, you will create a Docker container image suitable for deployment to a cloud platform."
   ]
  },
  {
   "cell_type": "code",
   "execution_count": 1,
   "id": "4b411303",
   "metadata": {
    "ExecuteTime": {
     "end_time": "2024-02-29T10:00:40.999715Z",
     "start_time": "2024-02-29T10:00:40.873434Z"
    }
   },
   "outputs": [
    {
     "name": "stderr",
     "output_type": "stream",
     "text": [
      "'export' is not recognized as an internal or external command,\n",
      "operable program or batch file.\n"
     ]
    }
   ],
   "source": [
    "# Setup the tracker URI\n",
    "!export MLFLOW_TRACKING_URI=http://localhost:5000"
   ]
  },
  {
   "cell_type": "code",
   "execution_count": 2,
   "id": "52f00f82",
   "metadata": {
    "ExecuteTime": {
     "end_time": "2024-02-29T09:48:25.478807Z",
     "start_time": "2024-02-29T09:48:21.124812Z"
    }
   },
   "outputs": [],
   "source": [
    "# install the required packages\n",
    "!pip install -q hyperopt"
   ]
  },
  {
   "cell_type": "code",
   "execution_count": 2,
   "id": "99934408",
   "metadata": {
    "ExecuteTime": {
     "end_time": "2024-02-29T10:00:50.537734Z",
     "start_time": "2024-02-29T10:00:44.781915Z"
    }
   },
   "outputs": [
    {
     "name": "stdout",
     "output_type": "stream",
     "text": [
      "WARNING:tensorflow:From c:\\Users\\Admin\\AppData\\Local\\Programs\\Python\\Python311\\Lib\\site-packages\\keras\\src\\losses.py:2976: The name tf.losses.sparse_softmax_cross_entropy is deprecated. Please use tf.compat.v1.losses.sparse_softmax_cross_entropy instead.\n",
      "\n"
     ]
    }
   ],
   "source": [
    "import keras\n",
    "import numpy as np\n",
    "import pandas as pd\n",
    "from hyperopt import STATUS_OK, Trials, fmin, hp, tpe\n",
    "from sklearn.metrics import mean_squared_error\n",
    "from sklearn.model_selection import train_test_split\n",
    "\n",
    "import mlflow\n",
    "from mlflow.models import infer_signature"
   ]
  },
  {
   "cell_type": "markdown",
   "id": "c50a23cc",
   "metadata": {
    "ExecuteTime": {
     "end_time": "2024-02-26T10:03:53.589594Z",
     "start_time": "2024-02-26T10:03:53.584502Z"
    }
   },
   "source": [
    "#### Now load the dataset and split it into training, validation, and test sets."
   ]
  },
  {
   "cell_type": "code",
   "execution_count": 3,
   "id": "725d39d5",
   "metadata": {
    "ExecuteTime": {
     "end_time": "2024-02-29T10:00:50.620284Z",
     "start_time": "2024-02-29T10:00:50.546576Z"
    }
   },
   "outputs": [
    {
     "name": "stderr",
     "output_type": "stream",
     "text": [
      "2024/04/19 15:53:57 INFO mlflow.tracking.fluent: Experiment with name 'wine-quality' does not exist. Creating a new experiment.\n"
     ]
    },
    {
     "data": {
      "text/plain": [
       "<Experiment: artifact_location='mlflow-artifacts:/726349895697917117', creation_time=1713522237995, experiment_id='726349895697917117', last_update_time=1713522237995, lifecycle_stage='active', name='wine-quality', tags={}>"
      ]
     },
     "execution_count": 3,
     "metadata": {},
     "output_type": "execute_result"
    }
   ],
   "source": [
    "mlflow.set_tracking_uri(\"http://127.0.0.1:5000\")\n",
    "mlflow.set_experiment(\"wine-quality\")"
   ]
  },
  {
   "cell_type": "code",
   "execution_count": 4,
   "id": "7abc978d",
   "metadata": {
    "ExecuteTime": {
     "end_time": "2024-02-29T10:17:10.829716Z",
     "start_time": "2024-02-29T10:17:10.807121Z"
    }
   },
   "outputs": [],
   "source": [
    "last_run = mlflow.last_active_run()\n",
    "last_run"
   ]
  },
  {
   "cell_type": "code",
   "execution_count": 5,
   "id": "f65988e9",
   "metadata": {
    "ExecuteTime": {
     "end_time": "2024-02-29T10:09:47.763454Z",
     "start_time": "2024-02-29T10:09:47.727148Z"
    }
   },
   "outputs": [],
   "source": [
    "# Retrieve the run, including dataset information\n",
    "if last_run != None:\n",
    "    run = mlflow.get_run(mlflow.last_active_run().info.run_id)\n",
    "    dataset_info = run.inputs.dataset_inputs[0].dataset\n",
    "    print(f\"Dataset name: {dataset_info.name}\")\n",
    "    print(f\"Dataset digest: {dataset_info.digest}\")\n",
    "    print(f\"Dataset profile: {dataset_info.profile}\")\n",
    "    print(f\"Dataset schema: {dataset_info.schema}\")"
   ]
  },
  {
   "cell_type": "code",
   "execution_count": null,
   "id": "b7d01c3f",
   "metadata": {
    "ExecuteTime": {
     "end_time": "2024-02-29T10:10:01.724153Z",
     "start_time": "2024-02-29T10:10:00.828966Z"
    }
   },
   "outputs": [],
   "source": []
  },
  {
   "cell_type": "code",
   "execution_count": null,
   "id": "034f5a06",
   "metadata": {
    "ExecuteTime": {
     "end_time": "2024-02-29T10:14:59.571823Z",
     "start_time": "2024-02-29T10:14:59.527420Z"
    }
   },
   "outputs": [],
   "source": []
  },
  {
   "cell_type": "code",
   "execution_count": 6,
   "id": "85dcba57",
   "metadata": {
    "ExecuteTime": {
     "end_time": "2024-02-29T10:17:55.303502Z",
     "start_time": "2024-02-29T10:17:55.196334Z"
    }
   },
   "outputs": [
    {
     "name": "stdout",
     "output_type": "stream",
     "text": [
      "Reading from URI.\n"
     ]
    },
    {
     "name": "stderr",
     "output_type": "stream",
     "text": [
      "c:\\Users\\Admin\\AppData\\Local\\Programs\\Python\\Python311\\Lib\\site-packages\\mlflow\\data\\dataset_source_registry.py:150: UserWarning: Failed to determine whether UCVolumeDatasetSource can resolve source information for 'https://raw.githubusercontent.com/mlflow/mlflow/master/tests/datasets/winequality-white.csv'. Exception: \n",
      "  return _dataset_source_registry.resolve(\n",
      "c:\\Users\\Admin\\AppData\\Local\\Programs\\Python\\Python311\\Lib\\site-packages\\mlflow\\data\\digest_utils.py:26: FutureWarning: DataFrame.applymap has been deprecated. Use DataFrame.map instead.\n",
      "  string_columns = trimmed_df.columns[(df.applymap(type) == str).all(0)]\n"
     ]
    }
   ],
   "source": [
    "if last_run == None:\n",
    "    print(\"Reading from URI.\")\n",
    "    source_uri = \"https://raw.githubusercontent.com/mlflow/mlflow/master/tests/datasets/winequality-white.csv\"\n",
    "    # Load dataset\n",
    "    data = pd.read_csv(source_uri, sep=\";\",)\n",
    "    mlflow_ds = mlflow.data.from_pandas(data, source=source_uri)\n",
    "else:\n",
    "    print(\"Reading the dataset used by the previous run.\")\n",
    "    # Load the dataset's source, which downloads the content from the source URL to the local filesystem\n",
    "    dataset_source = mlflow.data.get_source(dataset_info)\n",
    "    data = pd.read_csv(dataset_source.load(), sep=\";\")\n",
    "    mlflow_ds = mlflow.data.from_pandas(data, source = dataset_source.url)"
   ]
  },
  {
   "cell_type": "code",
   "execution_count": null,
   "id": "87ba094a",
   "metadata": {
    "ExecuteTime": {
     "end_time": "2024-02-29T09:52:49.318507Z",
     "start_time": "2024-02-29T09:52:49.311238Z"
    }
   },
   "outputs": [],
   "source": []
  },
  {
   "cell_type": "code",
   "execution_count": 7,
   "id": "fb913b42",
   "metadata": {
    "ExecuteTime": {
     "end_time": "2024-02-29T10:18:00.902136Z",
     "start_time": "2024-02-29T10:18:00.882212Z"
    }
   },
   "outputs": [],
   "source": [
    "\n",
    "# Split the data into training, validation, and test sets\n",
    "train, test = train_test_split(data, test_size=0.25, random_state=42)\n",
    "train_x = train.drop([\"quality\"], axis=1).values\n",
    "train_y = train[[\"quality\"]].values.ravel()\n",
    "test_x = test.drop([\"quality\"], axis=1).values\n",
    "test_y = test[[\"quality\"]].values.ravel()\n",
    "train_x, valid_x, train_y, valid_y = train_test_split(\n",
    "    train_x, train_y, test_size=0.2, random_state=42\n",
    ")\n",
    "signature = infer_signature(train_x, train_y)"
   ]
  },
  {
   "cell_type": "code",
   "execution_count": 8,
   "id": "79e44f3e",
   "metadata": {
    "ExecuteTime": {
     "end_time": "2024-02-29T10:18:01.738862Z",
     "start_time": "2024-02-29T10:18:01.730910Z"
    }
   },
   "outputs": [
    {
     "data": {
      "text/plain": [
       "inputs: \n",
       "  [Tensor('float64', (-1, 11))]\n",
       "outputs: \n",
       "  [Tensor('int64', (-1,))]\n",
       "params: \n",
       "  None"
      ]
     },
     "execution_count": 8,
     "metadata": {},
     "output_type": "execute_result"
    }
   ],
   "source": [
    "signature"
   ]
  },
  {
   "cell_type": "markdown",
   "id": "91366730",
   "metadata": {},
   "source": [
    "### Then let’s define the model architecture and train the model. The train_model function uses MLflow to track the parameters, results, and model itself of each trial as a child run."
   ]
  },
  {
   "cell_type": "code",
   "execution_count": 10,
   "id": "3b8a7fa5",
   "metadata": {
    "ExecuteTime": {
     "end_time": "2024-02-29T10:18:02.953369Z",
     "start_time": "2024-02-29T10:18:02.940283Z"
    }
   },
   "outputs": [],
   "source": [
    "def train_model(params, epochs, train_x, train_y, valid_x, valid_y, test_x, test_y):\n",
    "    # Define model architecture\n",
    "    model = keras.Sequential(\n",
    "        [\n",
    "            keras.Input([train_x.shape[1]]),\n",
    "            keras.layers.Normalization(mean=np.mean(train_x), variance=np.var(train_x)),\n",
    "            keras.layers.Dense(64, activation=\"relu\"),\n",
    "            keras.layers.Dense(1),\n",
    "        ]\n",
    "    )\n",
    "\n",
    "    # Compile model\n",
    "    model.compile(\n",
    "        optimizer=keras.optimizers.SGD(\n",
    "            learning_rate=params[\"lr\"], momentum=params[\"momentum\"]\n",
    "        ),\n",
    "        loss=\"mean_squared_error\",\n",
    "        metrics=[keras.metrics.RootMeanSquaredError()],\n",
    "    )\n",
    "\n",
    "    # Train model with MLflow tracking\n",
    "    with mlflow.start_run(nested=True):\n",
    "        model.fit(\n",
    "            train_x,\n",
    "            train_y,\n",
    "            validation_data=(valid_x, valid_y),\n",
    "            epochs=epochs,\n",
    "            batch_size=64,\n",
    "        )\n",
    "        # Evaluate the model\n",
    "        eval_result = model.evaluate(valid_x, valid_y, batch_size=64)\n",
    "        eval_rmse = eval_result[1]\n",
    "\n",
    "        # Log parameters and results\n",
    "        mlflow.log_params(params)\n",
    "        mlflow.log_metric(\"eval_rmse\", eval_rmse)\n",
    "\n",
    "        # Log model\n",
    "        mlflow.tensorflow.log_model(model, \"model\", signature=signature)\n",
    "\n",
    "        return {\"loss\": eval_rmse, \"status\": STATUS_OK, \"model\": model}\n"
   ]
  },
  {
   "cell_type": "markdown",
   "metadata": {},
   "source": [
    "# TASKS 1, 2, 3\n",
    "\n",
    "*Task1 and Task2 are done inline with other tasks*\n",
    "\n",
    "## Creating entries in MLflow\n"
   ]
  },
  {
   "cell_type": "markdown",
   "id": "7063d5d1",
   "metadata": {},
   "source": [
    "# TASKS 1, 2, 3\n",
    "\n",
    "*Task1 and Task2 are done inline with other tasks*\n",
    "\n",
    "## Creating entries in MLflow\n"
   ]
  },
  {
   "cell_type": "markdown",
   "id": "f55b9848",
   "metadata": {},
   "source": [
    "# TASKS 1, 2, 3\n",
    "\n",
    "*Task1 and Task2 are done inline with other tasks*\n",
    "\n",
    "## Creating entries in MLflow\n"
   ]
  },
  {
   "cell_type": "markdown",
   "id": "424f9097",
   "metadata": {},
   "source": [
    "# TASKS 1, 2, 3\n",
    "\n",
    "*Task1 and Task2 are done inline with other tasks*\n",
    "\n",
    "## Creating entries in MLflow\n"
   ]
  },
  {
   "cell_type": "markdown",
   "id": "d7f9a2ec",
   "metadata": {},
   "source": [
    "# TASKS 1, 2, 3\n",
    "\n",
    "*Task1 and Task2 are done inline with other tasks*\n",
    "\n",
    "## Creating entries in MLflow\n"
   ]
  },
  {
   "cell_type": "markdown",
   "id": "a3b2dc3c",
   "metadata": {},
   "source": [
    "# TASKS 1, 2, 3\n",
    "\n",
    "*Task1 and Task2 are done inline with other tasks*\n",
    "\n",
    "## Creating entries in MLflow\n"
   ]
  },
  {
   "cell_type": "markdown",
   "id": "e230b676",
   "metadata": {},
   "source": [
    "# TASKS 1, 2, 3\n",
    "\n",
    "*Task1 and Task2 are done inline with other tasks*\n",
    "\n",
    "## Creating entries in MLflow\n"
   ]
  },
  {
   "cell_type": "markdown",
   "id": "4aafe3eb",
   "metadata": {},
   "source": [
    "# TASKS 1, 2, 3\n",
    "\n",
    "*Task1 and Task2 are done inline with other tasks*\n",
    "\n",
    "## Creating entries in MLflow\n"
   ]
  },
  {
   "cell_type": "markdown",
   "id": "aab57127",
   "metadata": {},
   "source": [
    "# TASKS 1, 2, 3\n",
    "\n",
    "*Task1 and Task2 are done inline with other tasks*\n",
    "\n",
    "## Creating entries in MLflow\n"
   ]
  },
  {
   "cell_type": "markdown",
   "id": "c61d0c17",
   "metadata": {},
   "source": [
    "# TASKS 1, 2, 3\n",
    "\n",
    "*Task1 and Task2 are done inline with other tasks*\n",
    "\n",
    "## Creating entries in MLflow\n"
   ]
  },
  {
   "cell_type": "markdown",
   "id": "4e6f0f62",
   "metadata": {},
   "source": [
    "1. Modify the code to log metrics (loss, accuracy) etc. You may use mlflow.autolog() and compare it \n",
    "with mlflow.log_metrics(). [10 pts]\n",
    "2. Modify the code to log paramters (network configuration, learning rate, optimizer, regularization, \n",
    "etc). You may use mlflow.autolog() and compare it with mlflow.log_param(). [10 pts]\n",
    "3. Use the “with mlflow.start_run()” construct to run the model build for each configuration. This \n",
    "will create an entry in MLflow. Each time your rerun the code block, a new entry shall be created in \n",
    "MLflow. [15 pts]"
   ]
  },
  {
   "cell_type": "markdown",
   "id": "a6254b2b",
   "metadata": {},
   "source": [
    "1. Modify the code to log metrics (loss, accuracy) etc. You may use mlflow.autolog() and compare it \n",
    "with mlflow.log_metrics(). [10 pts]\n",
    "2. Modify the code to log paramters (network configuration, learning rate, optimizer, regularization, \n",
    "etc). You may use mlflow.autolog() and compare it with mlflow.log_param(). [10 pts]\n",
    "3. Use the “with mlflow.start_run()” construct to run the model build for each configuration. This \n",
    "will create an entry in MLflow. Each time your rerun the code block, a new entry shall be created in \n",
    "MLflow. [15 pts]"
   ]
  },
  {
   "cell_type": "markdown",
   "id": "b46bc51d",
   "metadata": {},
   "source": [
    "1. Modify the code to log metrics (loss, accuracy) etc. You may use mlflow.autolog() and compare it \n",
    "with mlflow.log_metrics(). [10 pts]\n",
    "2. Modify the code to log paramters (network configuration, learning rate, optimizer, regularization, \n",
    "etc). You may use mlflow.autolog() and compare it with mlflow.log_param(). [10 pts]\n",
    "3. Use the “with mlflow.start_run()” construct to run the model build for each configuration. This \n",
    "will create an entry in MLflow. Each time your rerun the code block, a new entry shall be created in \n",
    "MLflow. [15 pts]"
   ]
  },
  {
   "cell_type": "markdown",
   "id": "a07ca2fd",
   "metadata": {},
   "source": [
    "1. Modify the code to log metrics (loss, accuracy) etc. You may use mlflow.autolog() and compare it \n",
    "with mlflow.log_metrics(). [10 pts]\n",
    "2. Modify the code to log paramters (network configuration, learning rate, optimizer, regularization, \n",
    "etc). You may use mlflow.autolog() and compare it with mlflow.log_param(). [10 pts]\n",
    "3. Use the “with mlflow.start_run()” construct to run the model build for each configuration. This \n",
    "will create an entry in MLflow. Each time your rerun the code block, a new entry shall be created in \n",
    "MLflow. [15 pts]"
   ]
  },
  {
   "cell_type": "markdown",
   "id": "55981248",
   "metadata": {},
   "source": [
    "1. Modify the code to log metrics (loss, accuracy) etc. You may use mlflow.autolog() and compare it \n",
    "with mlflow.log_metrics(). [10 pts]\n",
    "2. Modify the code to log paramters (network configuration, learning rate, optimizer, regularization, \n",
    "etc). You may use mlflow.autolog() and compare it with mlflow.log_param(). [10 pts]\n",
    "3. Use the “with mlflow.start_run()” construct to run the model build for each configuration. This \n",
    "will create an entry in MLflow. Each time your rerun the code block, a new entry shall be created in \n",
    "MLflow. [15 pts]"
   ]
  },
  {
   "cell_type": "markdown",
   "id": "aaf4f887",
   "metadata": {},
   "source": [
    "1. Modify the code to log metrics (loss, accuracy) etc. You may use mlflow.autolog() and compare it \n",
    "with mlflow.log_metrics(). [10 pts]\n",
    "2. Modify the code to log paramters (network configuration, learning rate, optimizer, regularization, \n",
    "etc). You may use mlflow.autolog() and compare it with mlflow.log_param(). [10 pts]\n",
    "3. Use the “with mlflow.start_run()” construct to run the model build for each configuration. This \n",
    "will create an entry in MLflow. Each time your rerun the code block, a new entry shall be created in \n",
    "MLflow. [15 pts]"
   ]
  },
  {
   "cell_type": "markdown",
   "id": "2a3b819c",
   "metadata": {},
   "source": [
    "1. Modify the code to log metrics (loss, accuracy) etc. You may use mlflow.autolog() and compare it \n",
    "with mlflow.log_metrics(). [10 pts]\n",
    "2. Modify the code to log paramters (network configuration, learning rate, optimizer, regularization, \n",
    "etc). You may use mlflow.autolog() and compare it with mlflow.log_param(). [10 pts]\n",
    "3. Use the “with mlflow.start_run()” construct to run the model build for each configuration. This \n",
    "will create an entry in MLflow. Each time your rerun the code block, a new entry shall be created in \n",
    "MLflow. [15 pts]"
   ]
  },
  {
   "cell_type": "markdown",
   "id": "87593cc9",
   "metadata": {},
   "source": [
    "1. Modify the code to log metrics (loss, accuracy) etc. You may use mlflow.autolog() and compare it \n",
    "with mlflow.log_metrics(). [10 pts]\n",
    "2. Modify the code to log paramters (network configuration, learning rate, optimizer, regularization, \n",
    "etc). You may use mlflow.autolog() and compare it with mlflow.log_param(). [10 pts]\n",
    "3. Use the “with mlflow.start_run()” construct to run the model build for each configuration. This \n",
    "will create an entry in MLflow. Each time your rerun the code block, a new entry shall be created in \n",
    "MLflow. [15 pts]"
   ]
  },
  {
   "cell_type": "markdown",
   "id": "c2276340",
   "metadata": {},
   "source": [
    "1. Modify the code to log metrics (loss, accuracy) etc. You may use mlflow.autolog() and compare it \n",
    "with mlflow.log_metrics(). [10 pts]\n",
    "2. Modify the code to log paramters (network configuration, learning rate, optimizer, regularization, \n",
    "etc). You may use mlflow.autolog() and compare it with mlflow.log_param(). [10 pts]\n",
    "3. Use the “with mlflow.start_run()” construct to run the model build for each configuration. This \n",
    "will create an entry in MLflow. Each time your rerun the code block, a new entry shall be created in \n",
    "MLflow. [15 pts]"
   ]
  },
  {
   "cell_type": "markdown",
   "metadata": {},
   "source": [
    "1. Modify the code to log metrics (loss, accuracy) etc. You may use mlflow.autolog() and compare it \n",
    "with mlflow.log_metrics(). [10 pts]\n",
    "2. Modify the code to log paramters (network configuration, learning rate, optimizer, regularization, \n",
    "etc). You may use mlflow.autolog() and compare it with mlflow.log_param(). [10 pts]\n",
    "3. Use the “with mlflow.start_run()” construct to run the model build for each configuration. This \n",
    "will create an entry in MLflow. Each time your rerun the code block, a new entry shall be created in \n",
    "MLflow. [15 pts]"
   ]
  },
  {
   "cell_type": "markdown",
   "id": "3cfdae47",
   "metadata": {},
   "source": [
    "### The `objective` function takes in the hyperparameters and returns the results of the train_model function for that set of hyperparameters."
   ]
  },
  {
   "cell_type": "code",
   "execution_count": 11,
   "id": "b4db4d89",
   "metadata": {
    "ExecuteTime": {
     "end_time": "2024-02-29T10:18:03.559313Z",
     "start_time": "2024-02-29T10:18:03.552871Z"
    }
   },
   "outputs": [],
   "source": [
    "def objective(params):\n",
    "    # MLflow will track the parameters and results for each run\n",
    "    result = train_model(\n",
    "        params,\n",
    "        epochs=3,\n",
    "        train_x=train_x,\n",
    "        train_y=train_y,\n",
    "        valid_x=valid_x,\n",
    "        valid_y=valid_y,\n",
    "        test_x=test_x,\n",
    "        test_y=test_y,\n",
    "    )\n",
    "    return result\n"
   ]
  },
  {
   "cell_type": "markdown",
   "id": "323ae923",
   "metadata": {},
   "source": [
    "Let's define the search space for `Hyperopt`. In this case, we want to try different values of `learning-rate` and `momentum`. Hyperopt begins its optimization process by selecting an initial set of hyperparameters, typically chosen at random or based on a specified domain space. This domain space defines the range and distribution of possible values for each hyperparameter. After evaluating the initial set, Hyperopt uses the results to update its probabilistic model, guiding the selection of subsequent hyperparameter sets in a more informed manner, aiming to converge towards the optimal solution."
   ]
  },
  {
   "cell_type": "code",
   "execution_count": 12,
   "id": "56662f86",
   "metadata": {
    "ExecuteTime": {
     "end_time": "2024-02-29T10:18:14.610239Z",
     "start_time": "2024-02-29T10:18:14.604102Z"
    }
   },
   "outputs": [],
   "source": [
    "space = {\n",
    "    \"lr\": hp.loguniform(\"lr\", np.log(1e-6), np.log(1e-1)),\n",
    "    \"momentum\": hp.uniform(\"momentum\", 0.0, 1.0),\n",
    "}\n"
   ]
  },
  {
   "cell_type": "markdown",
   "id": "9c847fef",
   "metadata": {},
   "source": [
    "Finally, we will run the hyperparameter sweep using Hyperopt, passing in the objective function and search space. Hyperopt will try different hyperparameter combinations and return the results of the best one. We will store the best parameters, model, and evaluation metrics in MLflow."
   ]
  },
  {
   "cell_type": "code",
   "execution_count": 13,
   "id": "bef5220d",
   "metadata": {
    "ExecuteTime": {
     "end_time": "2024-02-29T10:18:53.113740Z",
     "start_time": "2024-02-29T10:18:15.936304Z"
    }
   },
   "outputs": [
    {
     "name": "stdout",
     "output_type": "stream",
     "text": [
      "  0%|          | 0/8 [00:00<?, ?trial/s, best loss=?]"
     ]
    },
    {
     "name": "stderr",
     "output_type": "stream",
     "text": [
      "c:\\Users\\Admin\\AppData\\Local\\Programs\\Python\\Python311\\Lib\\site-packages\\mlflow\\types\\utils.py:394: UserWarning: Hint: Inferred schema contains integer column(s). Integer columns in Python cannot represent missing values. If your input data contains missing values at inference time, it will be encoded as floats and will cause a schema enforcement error. The best way to avoid this problem is to infer the model schema based on a realistic data sample (training dataset) that includes missing values. Alternatively, you can declare integer columns as doubles (float64) whenever these columns may have missing values. See `Handling Integers With Missing Values <https://www.mlflow.org/docs/latest/models.html#handling-integers-with-missing-values>`_ for more details.\n",
      "  warnings.warn(\n"
     ]
    },
    {
     "name": "stdout",
     "output_type": "stream",
     "text": [
      "WARNING:tensorflow:From c:\\Users\\Admin\\AppData\\Local\\Programs\\Python\\Python311\\Lib\\site-packages\\keras\\src\\backend.py:1398: The name tf.executing_eagerly_outside_functions is deprecated. Please use tf.compat.v1.executing_eagerly_outside_functions instead.\n",
      "\n",
      "Epoch 1/3                                            \n",
      "\n",
      "  0%|          | 0/8 [00:03<?, ?trial/s, best loss=?]WARNING:tensorflow:From c:\\Users\\Admin\\AppData\\Local\\Programs\\Python\\Python311\\Lib\\site-packages\\keras\\src\\utils\\tf_utils.py:492: The name tf.ragged.RaggedTensorValue is deprecated. Please use tf.compat.v1.ragged.RaggedTensorValue instead.\n",
      "\n",
      " 1/46 [..............................] - ETA: 1:13 - loss: 36.7620 - root_mean_squared_error: 6.0632\n",
      "11/46 [======>.......................] - ETA: 0s - loss: 7.2942 - root_mean_squared_error: 2.7008   \n",
      "23/46 [==============>...............] - ETA: 0s - loss: 4.8656 - root_mean_squared_error: 2.2058\n",
      "35/46 [=====================>........] - ETA: 0s - loss: 3.8884 - root_mean_squared_error: 1.9719\n",
      "46/46 [==============================] - 2s 17ms/step - loss: 3.3300 - root_mean_squared_error: 1.8248 - val_loss: 1.4104 - val_root_mean_squared_error: 1.1876\n",
      "\n",
      "Epoch 2/3                                            \n",
      "\n",
      " 1/46 [..............................] - ETA: 0s - loss: 1.3344 - root_mean_squared_error: 1.1551\n",
      "11/46 [======>.......................] - ETA: 0s - loss: 1.1559 - root_mean_squared_error: 1.0751\n",
      "23/46 [==============>...............] - ETA: 0s - loss: 1.1877 - root_mean_squared_error: 1.0898\n",
      "35/46 [=====================>........] - ETA: 0s - loss: 1.0881 - root_mean_squared_error: 1.0431\n",
      "46/46 [==============================] - ETA: 0s - loss: 1.0712 - root_mean_squared_error: 1.0350\n",
      "46/46 [==============================] - 0s 7ms/step - loss: 1.0712 - root_mean_squared_error: 1.0350 - val_loss: 0.8588 - val_root_mean_squared_error: 0.9267\n",
      "\n",
      "Epoch 3/3                                            \n",
      "\n",
      " 1/46 [..............................] - ETA: 0s - loss: 0.7585 - root_mean_squared_error: 0.8709\n",
      "12/46 [======>.......................] - ETA: 0s - loss: 0.9068 - root_mean_squared_error: 0.9523\n",
      "25/46 [===============>..............] - ETA: 0s - loss: 0.8471 - root_mean_squared_error: 0.9204\n",
      "37/46 [=======================>......] - ETA: 0s - loss: 0.8599 - root_mean_squared_error: 0.9273\n",
      "46/46 [==============================] - 0s 7ms/step - loss: 0.8502 - root_mean_squared_error: 0.9221 - val_loss: 0.7888 - val_root_mean_squared_error: 0.8881\n",
      "\n",
      " 1/12 [=>............................] - ETA: 0s - loss: 0.7472 - root_mean_squared_error: 0.8644\n",
      "12/12 [==============================] - 0s 4ms/step - loss: 0.7888 - root_mean_squared_error: 0.8881\n",
      "\n",
      "  0%|          | 0/8 [00:06<?, ?trial/s, best loss=?]INFO:tensorflow:Assets written to: C:\\Users\\Admin\\AppData\\Local\\Temp\\tmp59l3k0pl\\model\\data\\model\\assets\n"
     ]
    },
    {
     "name": "stderr",
     "output_type": "stream",
     "text": [
      "INFO:tensorflow:Assets written to: C:\\Users\\Admin\\AppData\\Local\\Temp\\tmp59l3k0pl\\model\\data\\model\\assets\n",
      "\n",
      "c:\\Users\\Admin\\AppData\\Local\\Programs\\Python\\Python311\\Lib\\site-packages\\_distutils_hack\\__init__.py:33: UserWarning: Setuptools is replacing distutils.\n",
      "  warnings.warn(\"Setuptools is replacing distutils.\")\n",
      "\n"
     ]
    },
    {
     "name": "stdout",
     "output_type": "stream",
     "text": [
      "Epoch 1/3                                                                      \n",
      "\n",
      " 1/46 [..............................] - ETA: 58s - loss: 40.1112 - root_mean_squared_error: 6.3333\n",
      " 9/46 [====>.........................] - ETA: 0s - loss: 17.9638 - root_mean_squared_error: 4.2384 \n",
      "18/46 [==========>...................] - ETA: 0s - loss: 10.8060 - root_mean_squared_error: 3.2872\n",
      "29/46 [=================>............] - ETA: 0s - loss: 7.8928 - root_mean_squared_error: 2.8094 \n",
      "38/46 [=======================>......] - ETA: 0s - loss: 6.6469 - root_mean_squared_error: 2.5781\n",
      "46/46 [==============================] - 2s 16ms/step - loss: 5.9263 - root_mean_squared_error: 2.4344 - val_loss: 2.4264 - val_root_mean_squared_error: 1.5577\n",
      "\n",
      "Epoch 2/3                                                                      \n",
      "\n",
      " 1/46 [..............................] - ETA: 0s - loss: 2.6824 - root_mean_squared_error: 1.6378\n",
      "11/46 [======>.......................] - ETA: 0s - loss: 2.3813 - root_mean_squared_error: 1.5431\n",
      "22/46 [=============>................] - ETA: 0s - loss: 2.1823 - root_mean_squared_error: 1.4773\n",
      "34/46 [=====================>........] - ETA: 0s - loss: 2.0172 - root_mean_squared_error: 1.4203\n",
      "45/46 [============================>.] - ETA: 0s - loss: 1.8788 - root_mean_squared_error: 1.3707\n",
      "46/46 [==============================] - 0s 11ms/step - loss: 1.8739 - root_mean_squared_error: 1.3689 - val_loss: 1.5289 - val_root_mean_squared_error: 1.2365\n",
      "\n",
      "Epoch 3/3                                                                      \n",
      "\n",
      " 1/46 [..............................] - ETA: 0s - loss: 1.2126 - root_mean_squared_error: 1.1012\n",
      "12/46 [======>.......................] - ETA: 0s - loss: 1.3666 - root_mean_squared_error: 1.1690\n",
      "23/46 [==============>...............] - ETA: 0s - loss: 1.3679 - root_mean_squared_error: 1.1696\n",
      "34/46 [=====================>........] - ETA: 0s - loss: 1.2950 - root_mean_squared_error: 1.1380\n",
      "45/46 [============================>.] - ETA: 0s - loss: 1.2492 - root_mean_squared_error: 1.1177\n",
      "46/46 [==============================] - 0s 8ms/step - loss: 1.2515 - root_mean_squared_error: 1.1187 - val_loss: 1.0823 - val_root_mean_squared_error: 1.0403\n",
      "\n",
      " 1/12 [=>............................] - ETA: 0s - loss: 1.0527 - root_mean_squared_error: 1.0260\n",
      " 9/12 [=====================>........] - ETA: 0s - loss: 1.0457 - root_mean_squared_error: 1.0226\n",
      "12/12 [==============================] - 0s 9ms/step - loss: 1.0823 - root_mean_squared_error: 1.0403\n",
      "\n",
      " 12%|█▎        | 1/8 [00:46<04:54, 42.12s/trial, best loss: 0.8881410956382751]INFO:tensorflow:Assets written to: C:\\Users\\Admin\\AppData\\Local\\Temp\\tmp_k26yfe7\\model\\data\\model\\assets\n"
     ]
    },
    {
     "name": "stderr",
     "output_type": "stream",
     "text": [
      "INFO:tensorflow:Assets written to: C:\\Users\\Admin\\AppData\\Local\\Temp\\tmp_k26yfe7\\model\\data\\model\\assets\n",
      "\n"
     ]
    },
    {
     "name": "stdout",
     "output_type": "stream",
     "text": [
      "Epoch 1/3                                                                      \n",
      "\n",
      " 1/46 [..............................] - ETA: 1:00 - loss: 34.6053 - root_mean_squared_error: 5.8826\n",
      "11/46 [======>.......................] - ETA: 0s - loss: 26.4589 - root_mean_squared_error: 5.1438  \n",
      "20/46 [============>.................] - ETA: 0s - loss: 18.7551 - root_mean_squared_error: 4.3307\n",
      "26/46 [===============>..............] - ETA: 0s - loss: 15.4248 - root_mean_squared_error: 3.9274\n",
      "33/46 [====================>.........] - ETA: 0s - loss: 13.0201 - root_mean_squared_error: 3.6083\n",
      "41/46 [=========================>....] - ETA: 0s - loss: 11.2546 - root_mean_squared_error: 3.3548\n",
      "45/46 [============================>.] - ETA: 0s - loss: 10.6120 - root_mean_squared_error: 3.2576\n",
      "46/46 [==============================] - 3s 33ms/step - loss: 10.4698 - root_mean_squared_error: 3.2357 - val_loss: 3.7332 - val_root_mean_squared_error: 1.9321\n",
      "\n",
      "Epoch 2/3                                                                      \n",
      "\n",
      " 1/46 [..............................] - ETA: 1s - loss: 2.9523 - root_mean_squared_error: 1.7182\n",
      " 6/46 [==>...........................] - ETA: 0s - loss: 3.6334 - root_mean_squared_error: 1.9062\n",
      " 7/46 [===>..........................] - ETA: 0s - loss: 3.6192 - root_mean_squared_error: 1.9024\n",
      "11/46 [======>.......................] - ETA: 0s - loss: 3.3216 - root_mean_squared_error: 1.8225\n",
      "16/46 [=========>....................] - ETA: 0s - loss: 3.4241 - root_mean_squared_error: 1.8504\n",
      "17/46 [==========>...................] - ETA: 0s - loss: 3.4073 - root_mean_squared_error: 1.8459\n",
      "18/46 [==========>...................] - ETA: 0s - loss: 3.3992 - root_mean_squared_error: 1.8437\n",
      "21/46 [============>.................] - ETA: 0s - loss: 3.3974 - root_mean_squared_error: 1.8432\n",
      "23/46 [==============>...............] - ETA: 0s - loss: 3.4029 - root_mean_squared_error: 1.8447\n",
      "26/46 [===============>..............] - ETA: 0s - loss: 3.3554 - root_mean_squared_error: 1.8318\n",
      "29/46 [=================>............] - ETA: 0s - loss: 3.3202 - root_mean_squared_error: 1.8221\n",
      "31/46 [===================>..........] - ETA: 0s - loss: 3.3087 - root_mean_squared_error: 1.8190\n",
      "35/46 [=====================>........] - ETA: 0s - loss: 3.2890 - root_mean_squared_error: 1.8136\n",
      "40/46 [=========================>....] - ETA: 0s - loss: 3.3038 - root_mean_squared_error: 1.8176\n",
      "46/46 [==============================] - 1s 26ms/step - loss: 3.2838 - root_mean_squared_error: 1.8121 - val_loss: 3.2109 - val_root_mean_squared_error: 1.7919\n",
      "\n",
      "Epoch 3/3                                                                      \n",
      "\n",
      " 1/46 [..............................] - ETA: 0s - loss: 3.3673 - root_mean_squared_error: 1.8350\n",
      " 4/46 [=>............................] - ETA: 0s - loss: 3.0722 - root_mean_squared_error: 1.7528\n",
      " 8/46 [====>.........................] - ETA: 0s - loss: 3.1067 - root_mean_squared_error: 1.7626\n",
      "14/46 [========>.....................] - ETA: 0s - loss: 2.9506 - root_mean_squared_error: 1.7177\n",
      "20/46 [============>.................] - ETA: 0s - loss: 2.9160 - root_mean_squared_error: 1.7076\n",
      "26/46 [===============>..............] - ETA: 0s - loss: 2.9018 - root_mean_squared_error: 1.7035\n",
      "31/46 [===================>..........] - ETA: 0s - loss: 2.9173 - root_mean_squared_error: 1.7080\n",
      "39/46 [========================>.....] - ETA: 0s - loss: 2.8941 - root_mean_squared_error: 1.7012\n",
      "46/46 [==============================] - 1s 12ms/step - loss: 2.8600 - root_mean_squared_error: 1.6912 - val_loss: 2.8019 - val_root_mean_squared_error: 1.6739\n",
      "\n",
      " 1/12 [=>............................] - ETA: 0s - loss: 2.5540 - root_mean_squared_error: 1.5981\n",
      "12/12 [==============================] - 0s 5ms/step - loss: 2.8019 - root_mean_squared_error: 1.6739\n",
      "\n",
      " 25%|██▌       | 2/8 [01:20<03:38, 36.34s/trial, best loss: 0.8881410956382751]INFO:tensorflow:Assets written to: C:\\Users\\Admin\\AppData\\Local\\Temp\\tmphf98dl2n\\model\\data\\model\\assets\n"
     ]
    },
    {
     "name": "stderr",
     "output_type": "stream",
     "text": [
      "INFO:tensorflow:Assets written to: C:\\Users\\Admin\\AppData\\Local\\Temp\\tmphf98dl2n\\model\\data\\model\\assets\n",
      "\n"
     ]
    },
    {
     "name": "stdout",
     "output_type": "stream",
     "text": [
      "Epoch 1/3                                                                      \n",
      "\n",
      " 1/46 [..............................] - ETA: 45s - loss: 31.9179 - root_mean_squared_error: 5.6496\n",
      "15/46 [========>.....................] - ETA: 0s - loss: 32.5427 - root_mean_squared_error: 5.7046 \n",
      "29/46 [=================>............] - ETA: 0s - loss: 32.7488 - root_mean_squared_error: 5.7227\n",
      "43/46 [===========================>..] - ETA: 0s - loss: 32.6704 - root_mean_squared_error: 5.7158\n",
      "46/46 [==============================] - 2s 13ms/step - loss: 32.6765 - root_mean_squared_error: 5.7163 - val_loss: 32.8067 - val_root_mean_squared_error: 5.7277\n",
      "\n",
      "Epoch 2/3                                                                      \n",
      "\n",
      " 1/46 [..............................] - ETA: 0s - loss: 31.9427 - root_mean_squared_error: 5.6518\n",
      "13/46 [=======>......................] - ETA: 0s - loss: 32.4478 - root_mean_squared_error: 5.6963\n",
      "26/46 [===============>..............] - ETA: 0s - loss: 32.3026 - root_mean_squared_error: 5.6835\n",
      "40/46 [=========================>....] - ETA: 0s - loss: 32.3878 - root_mean_squared_error: 5.6910\n",
      "46/46 [==============================] - 0s 6ms/step - loss: 32.4453 - root_mean_squared_error: 5.6961 - val_loss: 32.5795 - val_root_mean_squared_error: 5.7078\n",
      "\n",
      "Epoch 3/3                                                                      \n",
      "\n",
      " 1/46 [..............................] - ETA: 0s - loss: 29.9748 - root_mean_squared_error: 5.4749\n",
      "14/46 [========>.....................] - ETA: 0s - loss: 32.3794 - root_mean_squared_error: 5.6903\n",
      "17/46 [==========>...................] - ETA: 0s - loss: 32.5187 - root_mean_squared_error: 5.7025\n",
      "25/46 [===============>..............] - ETA: 0s - loss: 32.1525 - root_mean_squared_error: 5.6703\n",
      "34/46 [=====================>........] - ETA: 0s - loss: 32.2016 - root_mean_squared_error: 5.6746\n",
      "46/46 [==============================] - 0s 8ms/step - loss: 32.2155 - root_mean_squared_error: 5.6759 - val_loss: 32.3537 - val_root_mean_squared_error: 5.6880\n",
      "\n",
      " 1/12 [=>............................] - ETA: 0s - loss: 32.5349 - root_mean_squared_error: 5.7039\n",
      "12/12 [==============================] - 0s 5ms/step - loss: 32.3537 - root_mean_squared_error: 5.6880\n",
      "\n",
      " 38%|███▊      | 3/8 [01:44<02:39, 31.96s/trial, best loss: 0.8881410956382751]INFO:tensorflow:Assets written to: C:\\Users\\Admin\\AppData\\Local\\Temp\\tmpx1hhg5im\\model\\data\\model\\assets\n"
     ]
    },
    {
     "name": "stderr",
     "output_type": "stream",
     "text": [
      "INFO:tensorflow:Assets written to: C:\\Users\\Admin\\AppData\\Local\\Temp\\tmpx1hhg5im\\model\\data\\model\\assets\n",
      "\n"
     ]
    },
    {
     "name": "stdout",
     "output_type": "stream",
     "text": [
      "Epoch 1/3                                                                      \n",
      "\n",
      " 1/46 [..............................] - ETA: 39s - loss: 37.7177 - root_mean_squared_error: 6.1415\n",
      "14/46 [========>.....................] - ETA: 0s - loss: 36.9149 - root_mean_squared_error: 6.0758 \n",
      "29/46 [=================>............] - ETA: 0s - loss: 36.2863 - root_mean_squared_error: 6.0238\n",
      "45/46 [============================>.] - ETA: 0s - loss: 35.0986 - root_mean_squared_error: 5.9244\n",
      "46/46 [==============================] - 1s 12ms/step - loss: 35.0079 - root_mean_squared_error: 5.9167 - val_loss: 31.6872 - val_root_mean_squared_error: 5.6291\n",
      "\n",
      "Epoch 2/3                                                                      \n",
      "\n",
      " 1/46 [..............................] - ETA: 0s - loss: 32.8692 - root_mean_squared_error: 5.7332\n",
      "15/46 [========>.....................] - ETA: 0s - loss: 30.7039 - root_mean_squared_error: 5.5411\n",
      "29/46 [=================>............] - ETA: 0s - loss: 29.5336 - root_mean_squared_error: 5.4345\n",
      "44/46 [===========================>..] - ETA: 0s - loss: 28.3725 - root_mean_squared_error: 5.3266\n",
      "46/46 [==============================] - 0s 6ms/step - loss: 28.1843 - root_mean_squared_error: 5.3089 - val_loss: 25.2838 - val_root_mean_squared_error: 5.0283\n",
      "\n",
      "Epoch 3/3                                                                      \n",
      "\n",
      " 1/46 [..............................] - ETA: 0s - loss: 22.9761 - root_mean_squared_error: 4.7933\n",
      "16/46 [=========>....................] - ETA: 0s - loss: 24.2595 - root_mean_squared_error: 4.9254\n",
      "31/46 [===================>..........] - ETA: 0s - loss: 23.4199 - root_mean_squared_error: 4.8394\n",
      "46/46 [==============================] - 0s 5ms/step - loss: 22.3967 - root_mean_squared_error: 4.7325 - val_loss: 20.2403 - val_root_mean_squared_error: 4.4989\n",
      "\n",
      " 1/12 [=>............................] - ETA: 0s - loss: 19.7697 - root_mean_squared_error: 4.4463\n",
      "12/12 [==============================] - 0s 4ms/step - loss: 20.2403 - root_mean_squared_error: 4.4989\n",
      "\n",
      " 50%|█████     | 4/8 [02:07<01:54, 28.56s/trial, best loss: 0.8881410956382751]INFO:tensorflow:Assets written to: C:\\Users\\Admin\\AppData\\Local\\Temp\\tmpnnn6lwqy\\model\\data\\model\\assets\n"
     ]
    },
    {
     "name": "stderr",
     "output_type": "stream",
     "text": [
      "INFO:tensorflow:Assets written to: C:\\Users\\Admin\\AppData\\Local\\Temp\\tmpnnn6lwqy\\model\\data\\model\\assets\n",
      "\n"
     ]
    },
    {
     "name": "stdout",
     "output_type": "stream",
     "text": [
      "Epoch 1/3                                                                      \n",
      "\n",
      " 1/46 [..............................] - ETA: 39s - loss: 36.0115 - root_mean_squared_error: 6.0010\n",
      "14/46 [========>.....................] - ETA: 0s - loss: 18.4424 - root_mean_squared_error: 4.2945 \n",
      "29/46 [=================>............] - ETA: 0s - loss: 11.3034 - root_mean_squared_error: 3.3621\n",
      "44/46 [===========================>..] - ETA: 0s - loss: 8.5920 - root_mean_squared_error: 2.9312 \n",
      "46/46 [==============================] - 1s 13ms/step - loss: 8.3714 - root_mean_squared_error: 2.8933 - val_loss: 3.2581 - val_root_mean_squared_error: 1.8050\n",
      "\n",
      "Epoch 2/3                                                                      \n",
      "\n",
      " 1/46 [..............................] - ETA: 0s - loss: 2.6582 - root_mean_squared_error: 1.6304\n",
      "15/46 [========>.....................] - ETA: 0s - loss: 2.9762 - root_mean_squared_error: 1.7252\n",
      "29/46 [=================>............] - ETA: 0s - loss: 2.8543 - root_mean_squared_error: 1.6895\n",
      "43/46 [===========================>..] - ETA: 0s - loss: 2.8603 - root_mean_squared_error: 1.6912\n",
      "46/46 [==============================] - 0s 6ms/step - loss: 2.8644 - root_mean_squared_error: 1.6925 - val_loss: 2.7838 - val_root_mean_squared_error: 1.6685\n",
      "\n",
      "Epoch 3/3                                                                      \n",
      "\n",
      " 1/46 [..............................] - ETA: 0s - loss: 1.9613 - root_mean_squared_error: 1.4005\n",
      "13/46 [=======>......................] - ETA: 0s - loss: 2.6071 - root_mean_squared_error: 1.6146\n",
      "28/46 [=================>............] - ETA: 0s - loss: 2.5018 - root_mean_squared_error: 1.5817\n",
      "43/46 [===========================>..] - ETA: 0s - loss: 2.4992 - root_mean_squared_error: 1.5809\n",
      "46/46 [==============================] - 0s 8ms/step - loss: 2.4771 - root_mean_squared_error: 1.5739 - val_loss: 2.4352 - val_root_mean_squared_error: 1.5605\n",
      "\n",
      " 1/12 [=>............................] - ETA: 0s - loss: 2.2294 - root_mean_squared_error: 1.4931\n",
      "12/12 [==============================] - 0s 4ms/step - loss: 2.4352 - root_mean_squared_error: 1.5605\n",
      "\n",
      " 62%|██████▎   | 5/8 [02:28<01:17, 25.93s/trial, best loss: 0.8881410956382751]INFO:tensorflow:Assets written to: C:\\Users\\Admin\\AppData\\Local\\Temp\\tmpqz386tyj\\model\\data\\model\\assets\n"
     ]
    },
    {
     "name": "stderr",
     "output_type": "stream",
     "text": [
      "INFO:tensorflow:Assets written to: C:\\Users\\Admin\\AppData\\Local\\Temp\\tmpqz386tyj\\model\\data\\model\\assets\n",
      "\n"
     ]
    },
    {
     "name": "stdout",
     "output_type": "stream",
     "text": [
      "Epoch 1/3                                                                      \n",
      "\n",
      " 1/46 [..............................] - ETA: 36s - loss: 32.0079 - root_mean_squared_error: 5.6576\n",
      "16/46 [=========>....................] - ETA: 0s - loss: 9.6506 - root_mean_squared_error: 3.1065  \n",
      "31/46 [===================>..........] - ETA: 0s - loss: 6.5247 - root_mean_squared_error: 2.5544\n",
      "46/46 [==============================] - ETA: 0s - loss: 5.2608 - root_mean_squared_error: 2.2936\n",
      "46/46 [==============================] - 1s 12ms/step - loss: 5.2608 - root_mean_squared_error: 2.2936 - val_loss: 2.3931 - val_root_mean_squared_error: 1.5470\n",
      "\n",
      "Epoch 2/3                                                                      \n",
      "\n",
      " 1/46 [..............................] - ETA: 0s - loss: 2.0355 - root_mean_squared_error: 1.4267\n",
      "13/46 [=======>......................] - ETA: 0s - loss: 2.0506 - root_mean_squared_error: 1.4320\n",
      "23/46 [==============>...............] - ETA: 0s - loss: 1.8910 - root_mean_squared_error: 1.3751\n",
      "35/46 [=====================>........] - ETA: 0s - loss: 1.7949 - root_mean_squared_error: 1.3397\n",
      "46/46 [==============================] - 0s 7ms/step - loss: 1.7004 - root_mean_squared_error: 1.3040 - val_loss: 1.2797 - val_root_mean_squared_error: 1.1312\n",
      "\n",
      "Epoch 3/3                                                                      \n",
      "\n",
      " 1/46 [..............................] - ETA: 0s - loss: 1.6968 - root_mean_squared_error: 1.3026\n",
      " 4/46 [=>............................] - ETA: 0s - loss: 1.5285 - root_mean_squared_error: 1.2363\n",
      "12/46 [======>.......................] - ETA: 0s - loss: 1.2344 - root_mean_squared_error: 1.1110\n",
      "23/46 [==============>...............] - ETA: 0s - loss: 1.1433 - root_mean_squared_error: 1.0693\n",
      "36/46 [======================>.......] - ETA: 0s - loss: 1.0715 - root_mean_squared_error: 1.0351\n",
      "46/46 [==============================] - 0s 7ms/step - loss: 1.0269 - root_mean_squared_error: 1.0134 - val_loss: 0.8797 - val_root_mean_squared_error: 0.9379\n",
      "\n",
      " 1/12 [=>............................] - ETA: 0s - loss: 0.8745 - root_mean_squared_error: 0.9351\n",
      "12/12 [==============================] - 0s 4ms/step - loss: 0.8797 - root_mean_squared_error: 0.9379\n",
      "\n",
      " 75%|███████▌  | 6/8 [02:50<00:49, 24.57s/trial, best loss: 0.8881410956382751]INFO:tensorflow:Assets written to: C:\\Users\\Admin\\AppData\\Local\\Temp\\tmpbupjzj4t\\model\\data\\model\\assets\n"
     ]
    },
    {
     "name": "stderr",
     "output_type": "stream",
     "text": [
      "INFO:tensorflow:Assets written to: C:\\Users\\Admin\\AppData\\Local\\Temp\\tmpbupjzj4t\\model\\data\\model\\assets\n",
      "\n"
     ]
    },
    {
     "name": "stdout",
     "output_type": "stream",
     "text": [
      "Epoch 1/3                                                                      \n",
      "\n",
      " 1/46 [..............................] - ETA: 39s - loss: 33.8419 - root_mean_squared_error: 5.8174\n",
      "15/46 [========>.....................] - ETA: 0s - loss: 20.4390 - root_mean_squared_error: 4.5210 \n",
      "30/46 [==================>...........] - ETA: 0s - loss: 10.8706 - root_mean_squared_error: 3.2971\n",
      "45/46 [============================>.] - ETA: 0s - loss: 7.6041 - root_mean_squared_error: 2.7575 \n",
      "46/46 [==============================] - 1s 12ms/step - loss: 7.4783 - root_mean_squared_error: 2.7346 - val_loss: 1.0201 - val_root_mean_squared_error: 1.0100\n",
      "\n",
      "Epoch 2/3                                                                      \n",
      "\n",
      " 1/46 [..............................] - ETA: 0s - loss: 0.9453 - root_mean_squared_error: 0.9723\n",
      "15/46 [========>.....................] - ETA: 0s - loss: 0.8509 - root_mean_squared_error: 0.9224\n",
      "30/46 [==================>...........] - ETA: 0s - loss: 0.8085 - root_mean_squared_error: 0.8992\n",
      "45/46 [============================>.] - ETA: 0s - loss: 0.8763 - root_mean_squared_error: 0.9361\n",
      "46/46 [==============================] - 0s 8ms/step - loss: 0.8727 - root_mean_squared_error: 0.9342 - val_loss: 0.7593 - val_root_mean_squared_error: 0.8714\n",
      "\n",
      "Epoch 3/3                                                                      \n",
      "\n",
      " 1/46 [..............................] - ETA: 0s - loss: 0.4924 - root_mean_squared_error: 0.7017\n",
      "15/46 [========>.....................] - ETA: 0s - loss: 0.7728 - root_mean_squared_error: 0.8791\n",
      "30/46 [==================>...........] - ETA: 0s - loss: 0.7925 - root_mean_squared_error: 0.8902\n",
      "46/46 [==============================] - ETA: 0s - loss: 0.7780 - root_mean_squared_error: 0.8820\n",
      "46/46 [==============================] - 0s 6ms/step - loss: 0.7780 - root_mean_squared_error: 0.8820 - val_loss: 0.7362 - val_root_mean_squared_error: 0.8580\n",
      "\n",
      " 1/12 [=>............................] - ETA: 0s - loss: 0.7197 - root_mean_squared_error: 0.8483\n",
      "12/12 [==============================] - 0s 4ms/step - loss: 0.7362 - root_mean_squared_error: 0.8580\n",
      "\n",
      " 88%|████████▊ | 7/8 [03:12<00:23, 23.67s/trial, best loss: 0.8881410956382751]INFO:tensorflow:Assets written to: C:\\Users\\Admin\\AppData\\Local\\Temp\\tmp0rx9q7ak\\model\\data\\model\\assets\n"
     ]
    },
    {
     "name": "stderr",
     "output_type": "stream",
     "text": [
      "INFO:tensorflow:Assets written to: C:\\Users\\Admin\\AppData\\Local\\Temp\\tmp0rx9q7ak\\model\\data\\model\\assets\n",
      "\n"
     ]
    },
    {
     "name": "stdout",
     "output_type": "stream",
     "text": [
      "100%|██████████| 8/8 [03:30<00:00, 26.37s/trial, best loss: 0.8580485582351685]\n",
      "INFO:tensorflow:Assets written to: C:\\Users\\Admin\\AppData\\Local\\Temp\\tmpeccplph6\\model\\data\\model\\assets\n"
     ]
    },
    {
     "name": "stderr",
     "output_type": "stream",
     "text": [
      "INFO:tensorflow:Assets written to: C:\\Users\\Admin\\AppData\\Local\\Temp\\tmpeccplph6\\model\\data\\model\\assets\n",
      "\n"
     ]
    },
    {
     "name": "stdout",
     "output_type": "stream",
     "text": [
      "Best parameters: {'lr': 0.06466402471522194, 'momentum': 0.04412290425378629}\n",
      "Best eval rmse: 0.8580485582351685\n"
     ]
    }
   ],
   "source": [
    "with mlflow.start_run():\n",
    "    # log the input artifact\n",
    "    mlflow.log_input(mlflow_ds, \"training\")\n",
    "        \n",
    "    # Conduct the hyperparameter search using Hyperopt\n",
    "    trials = Trials()\n",
    "    best = fmin(\n",
    "        fn=objective,\n",
    "        space=space,\n",
    "        algo=tpe.suggest,\n",
    "        max_evals=8,\n",
    "        trials=trials,\n",
    "    )\n",
    "\n",
    "    # Fetch the details of the best run\n",
    "    best_run = sorted(trials.results, key=lambda x: x[\"loss\"])[0]\n",
    "\n",
    "    # Log the best parameters, loss, and model\n",
    "    mlflow.log_params(best)\n",
    "    mlflow.log_metric(\"eval_rmse\", best_run[\"loss\"])\n",
    "    mlflow.tensorflow.log_model(best_run[\"model\"], \"model\", signature=signature)\n",
    "\n",
    "    # Print out the best parameters and corresponding loss\n",
    "    print(f\"Best parameters: {best}\")\n",
    "    print(f\"Best eval rmse: {best_run['loss']}\")\n"
   ]
  },
  {
   "cell_type": "markdown",
   "id": "8b62b075",
   "metadata": {},
   "source": [
    "### Serve the model locally\n"
   ]
  },
  {
   "cell_type": "code",
   "execution_count": 17,
   "id": "bd3f711c",
   "metadata": {
    "ExecuteTime": {
     "end_time": "2024-02-26T11:10:54.861348Z",
     "start_time": "2024-02-26T11:10:54.854718Z"
    }
   },
   "outputs": [],
   "source": [
    "# Install pyenv from https://github.com/pyenv/pyenv#installation\n",
    "# install libffi-dev liblzma-dev libbz2-dev before spawning the model serving.\n",
    "# if you come across _ctypes not found error,\n",
    "# sudo apt-get install libffi-dev\n",
    "# pyenv uninstall 3.10.12\n",
    "# pyenv install 3.10.12"
   ]
  },
  {
   "cell_type": "markdown",
   "id": "936058a5",
   "metadata": {},
   "source": [
    "#### MLflow allows you to easily serve models produced by any run or model version. You can serve the model you just registered by running"
   ]
  },
  {
   "cell_type": "code",
   "execution_count": 19,
   "id": "2ad0fefe",
   "metadata": {
    "ExecuteTime": {
     "end_time": "2024-02-26T11:44:59.783345Z",
     "start_time": "2024-02-26T11:44:59.777961Z"
    }
   },
   "outputs": [],
   "source": [
    "#!mlflow models serve -m \"models:/winequality/1\" --port 5002 --host 0.0.0.0"
   ]
  },
  {
   "cell_type": "markdown",
   "id": "3fc2a082",
   "metadata": {},
   "source": [
    "#### To test the model, you can send a request to the REST API using the curl command"
   ]
  },
  {
   "cell_type": "code",
   "execution_count": null,
   "id": "ae496b12",
   "metadata": {},
   "outputs": [],
   "source": [
    "#!curl -d '{\"dataframe_split\": {\"columns\": [\"fixed acidity\",\"volatile acidity\",\"citric acid\",\"residual sugar\",\"chlorides\",\"free sulfur dioxide\",\"total sulfur dioxide\",\"density\",\"pH\",\"sulphates\",\"alcohol\"], \"data\": [[7,0.27,0.36,20.7,0.045,45,170,1.001,3,0.45,8.8]]}}' -H 'Content-Type: application/json' -X POST localhost:5002/invocations"
   ]
  },
  {
   "cell_type": "markdown",
   "id": "90ad50aa",
   "metadata": {},
   "source": [
    "### Build a container image for your model"
   ]
  },
  {
   "cell_type": "markdown",
   "id": "05d1173f",
   "metadata": {},
   "source": [
    "Most routes toward deployment will use a container to package your model, its dependencies, and relevant portions of the runtime environment. You can use MLflow to build a Docker image for your model."
   ]
  },
  {
   "cell_type": "code",
   "execution_count": 20,
   "id": "5d40adec",
   "metadata": {
    "ExecuteTime": {
     "end_time": "2024-02-26T12:59:26.046350Z",
     "start_time": "2024-02-26T12:59:26.040900Z"
    }
   },
   "outputs": [],
   "source": [
    "#!mlflow models build-docker --model-uri \"models:/wine-quality/1\" --name \"qs_mlops\""
   ]
  },
  {
   "cell_type": "markdown",
   "id": "415211bd",
   "metadata": {},
   "source": [
    "This command builds a Docker image named qs_mlops that contains your model and its dependencies."
   ]
  },
  {
   "cell_type": "code",
   "execution_count": 21,
   "id": "140b7146",
   "metadata": {
    "ExecuteTime": {
     "end_time": "2024-02-26T12:59:49.908110Z",
     "start_time": "2024-02-26T12:59:49.901537Z"
    }
   },
   "outputs": [],
   "source": [
    "#!docker run -p 5002:8080 qs_mlops"
   ]
  },
  {
   "cell_type": "markdown",
   "id": "47260e8f",
   "metadata": {},
   "source": [
    "This Docker run command runs the image you just built and maps port 5002 on your local machine to port 8080 in the container. You can now send requests to the model using the same curl command as before:"
   ]
  },
  {
   "cell_type": "code",
   "execution_count": 22,
   "id": "b8a75154",
   "metadata": {
    "ExecuteTime": {
     "end_time": "2024-02-26T13:00:12.844241Z",
     "start_time": "2024-02-26T13:00:12.838712Z"
    }
   },
   "outputs": [],
   "source": [
    "#!curl -d '{\"dataframe_split\": {\"columns\": [\"fixed acidity\",\"volatile acidity\",\"citric acid\",\"residual sugar\",\"chlorides\",\"free sulfur dioxide\",\"total sulfur dioxide\",\"density\",\"pH\",\"sulphates\",\"alcohol\"], \"data\": [[7,0.27,0.36,20.7,0.045,45,170,1.001,3,0.45,8.8]]}}' -H 'Content-Type: application/json' -X POST localhost:5002/invocations"
   ]
  },
  {
   "cell_type": "code",
   "execution_count": null,
   "id": "8bee614a",
   "metadata": {},
   "outputs": [],
   "source": []
  }
 ],
 "metadata": {
  "kernelspec": {
   "display_name": "Python 3 (ipykernel)",
   "language": "python",
   "name": "python3"
  },
  "language_info": {
   "codemirror_mode": {
    "name": "ipython",
    "version": 3
   },
   "file_extension": ".py",
   "mimetype": "text/x-python",
   "name": "python",
   "nbconvert_exporter": "python",
   "pygments_lexer": "ipython3",
   "version": "3.11.7"
  },
  "varInspector": {
   "cols": {
    "lenName": 16,
    "lenType": 16,
    "lenVar": 40
   },
   "kernels_config": {
    "python": {
     "delete_cmd_postfix": "",
     "delete_cmd_prefix": "del ",
     "library": "var_list.py",
     "varRefreshCmd": "print(var_dic_list())"
    },
    "r": {
     "delete_cmd_postfix": ") ",
     "delete_cmd_prefix": "rm(",
     "library": "var_list.r",
     "varRefreshCmd": "cat(var_dic_list()) "
    }
   },
   "types_to_exclude": [
    "module",
    "function",
    "builtin_function_or_method",
    "instance",
    "_Feature"
   ],
   "window_display": false
  }
 },
 "nbformat": 4,
 "nbformat_minor": 5
}
