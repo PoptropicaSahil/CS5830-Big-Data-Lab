{
 "cells": [
  {
   "cell_type": "code",
   "execution_count": 1,
   "id": "20cc39b3",
   "metadata": {
    "ExecuteTime": {
     "end_time": "2024-02-29T12:28:57.107476Z",
     "start_time": "2024-02-29T12:28:57.101614Z"
    }
   },
   "outputs": [],
   "source": [
    "from pprint import pprint\n",
    "\n",
    "from sklearn.ensemble import RandomForestRegressor\n",
    "\n",
    "from mlflow import MlflowClient"
   ]
  },
  {
   "cell_type": "markdown",
   "id": "bd00304d",
   "metadata": {},
   "source": [
    "### Initializing the MLflow Client\n",
    "\n",
    "Depending on where you are running this notebook, your configuration may vary for how you initialize the MLflow Client in the following cell. \n",
    "\n",
    "For this example, we're using a locally running tracking server, but other options are available (The easiest is to use the free managed service within [Databricks Community Edition](https://community.cloud.databricks.com/)). \n",
    "\n",
    "Please see [the guide to running notebooks here](https://www.mlflow.org/docs/latest/getting-started/running-notebooks/index.html) for more information on setting the tracking server uri and configuring access to either managed or self-managed MLflow tracking servers."
   ]
  },
  {
   "cell_type": "code",
   "execution_count": 3,
   "id": "ac741989",
   "metadata": {
    "ExecuteTime": {
     "end_time": "2024-02-29T12:28:57.680007Z",
     "start_time": "2024-02-29T12:28:57.674687Z"
    }
   },
   "outputs": [],
   "source": [
    "# NOTE: review the links mentioned above for guidance on connecting to a managed tracking server, such as the free Databricks Community Edition\n",
    "client = MlflowClient(tracking_uri=\"http://127.0.0.1:5000\")"
   ]
  },
  {
   "cell_type": "markdown",
   "id": "6129354a",
   "metadata": {},
   "source": [
    "#### Search Experiments with the MLflow Client API\n",
    "\n",
    "Let's take a look at the Default Experiment that is created for us.\n",
    "\n",
    "This safe 'fallback' experiment will store Runs that we create if we don't specify a \n",
    "new experiment. "
   ]
  },
  {
   "cell_type": "code",
   "execution_count": 4,
   "id": "f208d9b8",
   "metadata": {
    "ExecuteTime": {
     "end_time": "2024-02-29T12:28:58.556680Z",
     "start_time": "2024-02-29T12:28:58.533505Z"
    }
   },
   "outputs": [
    {
     "name": "stdout",
     "output_type": "stream",
     "text": [
      "[<Experiment: artifact_location='mlflow-artifacts:/246020539030025678', creation_time=1713495954999, experiment_id='246020539030025678', last_update_time=1713495954999, lifecycle_stage='active', name='autologging_demo', tags={}>, <Experiment: artifact_location='mlflow-artifacts:/0', creation_time=1713495683274, experiment_id='0', last_update_time=1713495683274, lifecycle_stage='active', name='Default', tags={}>]\n"
     ]
    }
   ],
   "source": [
    "# Search experiments without providing query terms behaves effectively as a 'list' action\n",
    "\n",
    "all_experiments = client.search_experiments()\n",
    "\n",
    "print(all_experiments)"
   ]
  },
  {
   "cell_type": "code",
   "execution_count": 5,
   "id": "9b1e1914",
   "metadata": {
    "ExecuteTime": {
     "end_time": "2024-02-29T12:28:59.463792Z",
     "start_time": "2024-02-29T12:28:59.456759Z"
    }
   },
   "outputs": [
    {
     "name": "stdout",
     "output_type": "stream",
     "text": [
      "{'lifecycle_stage': 'active', 'name': 'Default'}\n"
     ]
    }
   ],
   "source": [
    "# Extract the experiment name and lifecycle_stage\n",
    "\n",
    "default_experiment = [\n",
    "    {\"name\": experiment.name, \"lifecycle_stage\": experiment.lifecycle_stage}\n",
    "    for experiment in all_experiments\n",
    "    if experiment.name == \"Default\"\n",
    "][0]\n",
    "\n",
    "pprint(default_experiment)"
   ]
  },
  {
   "cell_type": "markdown",
   "id": "81c37836",
   "metadata": {},
   "source": [
    "### Creating a new Experiment\n",
    "\n",
    "In this section, we'll:\n",
    "\n",
    "* create a new MLflow Experiment\n",
    "* apply metadata in the form of Experiment Tags"
   ]
  },
  {
   "cell_type": "code",
   "execution_count": 6,
   "id": "5afade9f",
   "metadata": {
    "ExecuteTime": {
     "end_time": "2024-02-29T12:29:04.076187Z",
     "start_time": "2024-02-29T12:29:04.064460Z"
    }
   },
   "outputs": [
    {
     "data": {
      "text/plain": [
       "False"
      ]
     },
     "execution_count": 6,
     "metadata": {},
     "output_type": "execute_result"
    }
   ],
   "source": [
    "# check if the experiment is already there.\n",
    "found = len(list(filter(lambda x: x.name == \"Apple_Models\", all_experiments))) != 0\n",
    "found"
   ]
  },
  {
   "cell_type": "code",
   "execution_count": 7,
   "id": "b07c851f",
   "metadata": {
    "ExecuteTime": {
     "end_time": "2024-02-29T12:29:04.697627Z",
     "start_time": "2024-02-29T12:29:04.690971Z"
    }
   },
   "outputs": [],
   "source": [
    "if not found:\n",
    "    experiment_description = (\n",
    "        \"This is the grocery forecasting project. \"\n",
    "        \"This experiment contains the produce models for apples.\"\n",
    "    )\n",
    "\n",
    "    experiment_tags = {\n",
    "        \"project_name\": \"grocery-forecasting\",\n",
    "        \"store_dept\": \"produce\",\n",
    "        \"team\": \"stores-ml\",\n",
    "        \"project_quarter\": \"Q3-2023\",\n",
    "        \"mlflow.note.content\": experiment_description,\n",
    "    }\n",
    "\n",
    "    produce_apples_experiment = client.create_experiment(name=\"Apple_Models\", tags=experiment_tags)"
   ]
  },
  {
   "cell_type": "code",
   "execution_count": 8,
   "id": "3858e72a",
   "metadata": {
    "ExecuteTime": {
     "end_time": "2024-02-29T12:29:05.416649Z",
     "start_time": "2024-02-29T12:29:05.394951Z"
    }
   },
   "outputs": [
    {
     "name": "stdout",
     "output_type": "stream",
     "text": [
      "<Experiment: artifact_location='mlflow-artifacts:/956057268621679660', creation_time=1713516398042, experiment_id='956057268621679660', last_update_time=1713516398042, lifecycle_stage='active', name='Apple_Models', tags={'mlflow.note.content': 'This is the grocery forecasting project. This '\n",
      "                        'experiment contains the produce models for apples.',\n",
      " 'project_name': 'grocery-forecasting',\n",
      " 'project_quarter': 'Q3-2023',\n",
      " 'store_dept': 'produce',\n",
      " 'team': 'stores-ml'}>\n"
     ]
    }
   ],
   "source": [
    "# Use search_experiments() to search on the project_name tag key\n",
    "\n",
    "apples_experiment = client.search_experiments(\n",
    "    filter_string=\"tags.`project_name` = 'grocery-forecasting'\"\n",
    ")\n",
    "\n",
    "pprint(apples_experiment[0])"
   ]
  },
  {
   "cell_type": "code",
   "execution_count": 9,
   "id": "181a5545",
   "metadata": {
    "ExecuteTime": {
     "end_time": "2024-02-29T12:29:06.322299Z",
     "start_time": "2024-02-29T12:29:06.313795Z"
    }
   },
   "outputs": [
    {
     "name": "stdout",
     "output_type": "stream",
     "text": [
      "stores-ml\n"
     ]
    }
   ],
   "source": [
    "# Access individual tag data\n",
    "\n",
    "print(apples_experiment[0].tags[\"team\"])"
   ]
  },
  {
   "cell_type": "markdown",
   "id": "91c66551",
   "metadata": {},
   "source": [
    "### Running our first model training\n",
    "\n",
    "In this section, we'll:\n",
    "\n",
    "* create a synthetic data set that is relevant to a simple demand forecasting task\n",
    "* start an MLflow run\n",
    "* log metrics, parameters, and tags to the run\n",
    "* save the model to the run\n",
    "* register the model during model logging"
   ]
  },
  {
   "cell_type": "markdown",
   "id": "5faffa16",
   "metadata": {},
   "source": [
    "#### Synthetic data generator for demand of apples\n",
    "\n",
    "Keep in mind that this is purely for demonstration purposes. \n",
    "\n",
    "The demand value is purely artificial and is deliberately covariant with the features. This is not a particularly realistic real-world scenario (if it were, we wouldn't need Data Scientists!). "
   ]
  },
  {
   "cell_type": "code",
   "execution_count": 10,
   "id": "2268a1cb",
   "metadata": {
    "ExecuteTime": {
     "end_time": "2024-02-29T12:29:09.205199Z",
     "start_time": "2024-02-29T12:29:09.185054Z"
    }
   },
   "outputs": [],
   "source": [
    "from datetime import datetime, timedelta\n",
    "\n",
    "import numpy as np\n",
    "import pandas as pd\n",
    "\n",
    "\n",
    "def generate_apple_sales_data_with_promo_adjustment(base_demand: int = 1000, n_rows: int = 5000):\n",
    "    \"\"\"\n",
    "    Generates a synthetic dataset for predicting apple sales demand with seasonality and inflation.\n",
    "\n",
    "    This function creates a pandas DataFrame with features relevant to apple sales.\n",
    "    The features include date, average_temperature, rainfall, weekend flag, holiday flag,\n",
    "    promotional flag, price_per_kg, and the previous day's demand. The target variable,\n",
    "    'demand', is generated based on a combination of these features with some added noise.\n",
    "\n",
    "    Args:\n",
    "        base_demand (int, optional): Base demand for apples. Defaults to 1000.\n",
    "        n_rows (int, optional): Number of rows (days) of data to generate. Defaults to 5000.\n",
    "\n",
    "    Returns:\n",
    "        pd.DataFrame: DataFrame with features and target variable for apple sales prediction.\n",
    "\n",
    "    Example:\n",
    "        >>> df = generate_apple_sales_data_with_seasonality(base_demand=1200, n_rows=6000)\n",
    "        >>> df.head()\n",
    "    \"\"\"\n",
    "\n",
    "    # Set seed for reproducibility\n",
    "    np.random.seed(9999)\n",
    "\n",
    "    # Create date range\n",
    "    dates = [datetime.now() - timedelta(days=i) for i in range(n_rows)]\n",
    "    dates.reverse()\n",
    "\n",
    "    # Generate features\n",
    "    df = pd.DataFrame(\n",
    "        {\n",
    "            \"date\": dates,\n",
    "            \"average_temperature\": np.random.uniform(10, 35, n_rows),\n",
    "            \"rainfall\": np.random.exponential(5, n_rows),\n",
    "            \"weekend\": [(date.weekday() >= 5) * 1 for date in dates],\n",
    "            \"holiday\": np.random.choice([0, 1], n_rows, p=[0.97, 0.03]),\n",
    "            \"price_per_kg\": np.random.uniform(0.5, 3, n_rows),\n",
    "            \"month\": [date.month for date in dates],\n",
    "        }\n",
    "    )\n",
    "\n",
    "    # Introduce inflation over time (years)\n",
    "    df[\"inflation_multiplier\"] = 1 + (df[\"date\"].dt.year - df[\"date\"].dt.year.min()) * 0.03\n",
    "\n",
    "    # Incorporate seasonality due to apple harvests\n",
    "    df[\"harvest_effect\"] = np.sin(2 * np.pi * (df[\"month\"] - 3) / 12) + np.sin(\n",
    "        2 * np.pi * (df[\"month\"] - 9) / 12\n",
    "    )\n",
    "\n",
    "    # Modify the price_per_kg based on harvest effect\n",
    "    df[\"price_per_kg\"] = df[\"price_per_kg\"] - df[\"harvest_effect\"] * 0.5\n",
    "\n",
    "    # Adjust promo periods to coincide with periods lagging peak harvest by 1 month\n",
    "    peak_months = [4, 10]  # months following the peak availability\n",
    "    df[\"promo\"] = np.where(\n",
    "        df[\"month\"].isin(peak_months),\n",
    "        1,\n",
    "        np.random.choice([0, 1], n_rows, p=[0.85, 0.15]),\n",
    "    )\n",
    "\n",
    "    # Generate target variable based on features\n",
    "    base_price_effect = -df[\"price_per_kg\"] * 50\n",
    "    seasonality_effect = df[\"harvest_effect\"] * 50\n",
    "    promo_effect = df[\"promo\"] * 200\n",
    "\n",
    "    df[\"demand\"] = (\n",
    "        base_demand\n",
    "        + base_price_effect\n",
    "        + seasonality_effect\n",
    "        + promo_effect\n",
    "        + df[\"weekend\"] * 300\n",
    "        + np.random.normal(0, 50, n_rows)\n",
    "    ) * df[\"inflation_multiplier\"]  # adding random noise\n",
    "\n",
    "    # Add previous day's demand\n",
    "    df[\"previous_days_demand\"] = df[\"demand\"].shift(1)\n",
    "    df[\"previous_days_demand\"].fillna(method=\"bfill\", inplace=True)  # fill the first row\n",
    "\n",
    "    # Drop temporary columns\n",
    "    df.drop(columns=[\"inflation_multiplier\", \"harvest_effect\", \"month\"], inplace=True)\n",
    "\n",
    "    return df"
   ]
  },
  {
   "cell_type": "code",
   "execution_count": 11,
   "id": "2924d135",
   "metadata": {
    "ExecuteTime": {
     "end_time": "2024-02-29T12:29:11.478116Z",
     "start_time": "2024-02-29T12:29:11.434417Z"
    }
   },
   "outputs": [
    {
     "name": "stderr",
     "output_type": "stream",
     "text": [
      "C:\\Users\\Admin\\AppData\\Local\\Temp\\ipykernel_8404\\3503073555.py:83: FutureWarning: Series.fillna with 'method' is deprecated and will raise in a future version. Use obj.ffill() or obj.bfill() instead.\n",
      "  df[\"previous_days_demand\"].fillna(method=\"bfill\", inplace=True)  # fill the first row\n"
     ]
    },
    {
     "data": {
      "text/html": [
       "<div>\n",
       "<style scoped>\n",
       "    .dataframe tbody tr th:only-of-type {\n",
       "        vertical-align: middle;\n",
       "    }\n",
       "\n",
       "    .dataframe tbody tr th {\n",
       "        vertical-align: top;\n",
       "    }\n",
       "\n",
       "    .dataframe thead th {\n",
       "        text-align: right;\n",
       "    }\n",
       "</style>\n",
       "<table border=\"1\" class=\"dataframe\">\n",
       "  <thead>\n",
       "    <tr style=\"text-align: right;\">\n",
       "      <th></th>\n",
       "      <th>date</th>\n",
       "      <th>average_temperature</th>\n",
       "      <th>rainfall</th>\n",
       "      <th>weekend</th>\n",
       "      <th>holiday</th>\n",
       "      <th>price_per_kg</th>\n",
       "      <th>promo</th>\n",
       "      <th>demand</th>\n",
       "      <th>previous_days_demand</th>\n",
       "    </tr>\n",
       "  </thead>\n",
       "  <tbody>\n",
       "    <tr>\n",
       "      <th>980</th>\n",
       "      <td>2024-03-31 14:25:41.778625</td>\n",
       "      <td>34.130183</td>\n",
       "      <td>1.454065</td>\n",
       "      <td>1</td>\n",
       "      <td>0</td>\n",
       "      <td>1.449177</td>\n",
       "      <td>0</td>\n",
       "      <td>2416.306290</td>\n",
       "      <td>2446.418398</td>\n",
       "    </tr>\n",
       "    <tr>\n",
       "      <th>981</th>\n",
       "      <td>2024-04-01 14:25:41.778625</td>\n",
       "      <td>32.353643</td>\n",
       "      <td>9.462859</td>\n",
       "      <td>0</td>\n",
       "      <td>0</td>\n",
       "      <td>2.856503</td>\n",
       "      <td>1</td>\n",
       "      <td>2150.129427</td>\n",
       "      <td>2416.306290</td>\n",
       "    </tr>\n",
       "    <tr>\n",
       "      <th>982</th>\n",
       "      <td>2024-04-02 14:25:41.778625</td>\n",
       "      <td>18.816833</td>\n",
       "      <td>0.391470</td>\n",
       "      <td>0</td>\n",
       "      <td>0</td>\n",
       "      <td>1.326429</td>\n",
       "      <td>1</td>\n",
       "      <td>2298.616709</td>\n",
       "      <td>2150.129427</td>\n",
       "    </tr>\n",
       "    <tr>\n",
       "      <th>983</th>\n",
       "      <td>2024-04-03 14:25:41.778625</td>\n",
       "      <td>34.533012</td>\n",
       "      <td>2.120477</td>\n",
       "      <td>0</td>\n",
       "      <td>0</td>\n",
       "      <td>0.970131</td>\n",
       "      <td>1</td>\n",
       "      <td>2376.802075</td>\n",
       "      <td>2298.616709</td>\n",
       "    </tr>\n",
       "    <tr>\n",
       "      <th>984</th>\n",
       "      <td>2024-04-04 14:25:41.778625</td>\n",
       "      <td>23.057202</td>\n",
       "      <td>2.365705</td>\n",
       "      <td>0</td>\n",
       "      <td>0</td>\n",
       "      <td>1.049931</td>\n",
       "      <td>1</td>\n",
       "      <td>2327.486305</td>\n",
       "      <td>2376.802075</td>\n",
       "    </tr>\n",
       "    <tr>\n",
       "      <th>985</th>\n",
       "      <td>2024-04-05 14:25:41.778625</td>\n",
       "      <td>34.810165</td>\n",
       "      <td>3.089005</td>\n",
       "      <td>0</td>\n",
       "      <td>0</td>\n",
       "      <td>2.035149</td>\n",
       "      <td>1</td>\n",
       "      <td>2310.564672</td>\n",
       "      <td>2327.486305</td>\n",
       "    </tr>\n",
       "    <tr>\n",
       "      <th>986</th>\n",
       "      <td>2024-04-06 14:25:41.778625</td>\n",
       "      <td>29.208905</td>\n",
       "      <td>3.673292</td>\n",
       "      <td>1</td>\n",
       "      <td>0</td>\n",
       "      <td>2.518098</td>\n",
       "      <td>1</td>\n",
       "      <td>2721.143402</td>\n",
       "      <td>2310.564672</td>\n",
       "    </tr>\n",
       "    <tr>\n",
       "      <th>987</th>\n",
       "      <td>2024-04-07 14:25:41.778625</td>\n",
       "      <td>16.428676</td>\n",
       "      <td>4.077782</td>\n",
       "      <td>1</td>\n",
       "      <td>0</td>\n",
       "      <td>1.268979</td>\n",
       "      <td>1</td>\n",
       "      <td>2728.207186</td>\n",
       "      <td>2721.143402</td>\n",
       "    </tr>\n",
       "    <tr>\n",
       "      <th>988</th>\n",
       "      <td>2024-04-08 14:25:41.778625</td>\n",
       "      <td>32.067512</td>\n",
       "      <td>2.734454</td>\n",
       "      <td>0</td>\n",
       "      <td>0</td>\n",
       "      <td>0.762317</td>\n",
       "      <td>1</td>\n",
       "      <td>2377.939894</td>\n",
       "      <td>2728.207186</td>\n",
       "    </tr>\n",
       "    <tr>\n",
       "      <th>989</th>\n",
       "      <td>2024-04-09 14:25:41.778625</td>\n",
       "      <td>31.938203</td>\n",
       "      <td>13.883486</td>\n",
       "      <td>0</td>\n",
       "      <td>0</td>\n",
       "      <td>1.153301</td>\n",
       "      <td>1</td>\n",
       "      <td>2302.409540</td>\n",
       "      <td>2377.939894</td>\n",
       "    </tr>\n",
       "    <tr>\n",
       "      <th>990</th>\n",
       "      <td>2024-04-10 14:25:41.778625</td>\n",
       "      <td>18.024055</td>\n",
       "      <td>7.544061</td>\n",
       "      <td>0</td>\n",
       "      <td>0</td>\n",
       "      <td>0.610703</td>\n",
       "      <td>1</td>\n",
       "      <td>2386.323183</td>\n",
       "      <td>2302.409540</td>\n",
       "    </tr>\n",
       "    <tr>\n",
       "      <th>991</th>\n",
       "      <td>2024-04-11 14:25:41.778625</td>\n",
       "      <td>20.681067</td>\n",
       "      <td>18.820490</td>\n",
       "      <td>0</td>\n",
       "      <td>0</td>\n",
       "      <td>1.533488</td>\n",
       "      <td>1</td>\n",
       "      <td>2309.499120</td>\n",
       "      <td>2386.323183</td>\n",
       "    </tr>\n",
       "    <tr>\n",
       "      <th>992</th>\n",
       "      <td>2024-04-12 14:25:41.778625</td>\n",
       "      <td>16.010132</td>\n",
       "      <td>7.705941</td>\n",
       "      <td>0</td>\n",
       "      <td>0</td>\n",
       "      <td>1.632498</td>\n",
       "      <td>1</td>\n",
       "      <td>2311.922141</td>\n",
       "      <td>2309.499120</td>\n",
       "    </tr>\n",
       "    <tr>\n",
       "      <th>993</th>\n",
       "      <td>2024-04-13 14:25:41.778625</td>\n",
       "      <td>18.766455</td>\n",
       "      <td>6.274840</td>\n",
       "      <td>1</td>\n",
       "      <td>0</td>\n",
       "      <td>2.806554</td>\n",
       "      <td>1</td>\n",
       "      <td>2591.412724</td>\n",
       "      <td>2311.922141</td>\n",
       "    </tr>\n",
       "    <tr>\n",
       "      <th>994</th>\n",
       "      <td>2024-04-14 14:25:41.778625</td>\n",
       "      <td>27.948793</td>\n",
       "      <td>23.705246</td>\n",
       "      <td>1</td>\n",
       "      <td>0</td>\n",
       "      <td>0.829464</td>\n",
       "      <td>1</td>\n",
       "      <td>2725.592622</td>\n",
       "      <td>2591.412724</td>\n",
       "    </tr>\n",
       "    <tr>\n",
       "      <th>995</th>\n",
       "      <td>2024-04-15 14:25:41.778625</td>\n",
       "      <td>28.661072</td>\n",
       "      <td>10.329865</td>\n",
       "      <td>0</td>\n",
       "      <td>0</td>\n",
       "      <td>2.290591</td>\n",
       "      <td>1</td>\n",
       "      <td>2244.465043</td>\n",
       "      <td>2725.592622</td>\n",
       "    </tr>\n",
       "    <tr>\n",
       "      <th>996</th>\n",
       "      <td>2024-04-16 14:25:41.778625</td>\n",
       "      <td>10.821693</td>\n",
       "      <td>3.575645</td>\n",
       "      <td>0</td>\n",
       "      <td>0</td>\n",
       "      <td>0.897473</td>\n",
       "      <td>1</td>\n",
       "      <td>2324.336362</td>\n",
       "      <td>2244.465043</td>\n",
       "    </tr>\n",
       "    <tr>\n",
       "      <th>997</th>\n",
       "      <td>2024-04-17 14:25:41.778625</td>\n",
       "      <td>21.108560</td>\n",
       "      <td>6.221089</td>\n",
       "      <td>0</td>\n",
       "      <td>0</td>\n",
       "      <td>1.093864</td>\n",
       "      <td>1</td>\n",
       "      <td>2371.698477</td>\n",
       "      <td>2324.336362</td>\n",
       "    </tr>\n",
       "    <tr>\n",
       "      <th>998</th>\n",
       "      <td>2024-04-18 14:25:41.778625</td>\n",
       "      <td>29.451301</td>\n",
       "      <td>5.021463</td>\n",
       "      <td>0</td>\n",
       "      <td>0</td>\n",
       "      <td>2.493085</td>\n",
       "      <td>1</td>\n",
       "      <td>2287.255235</td>\n",
       "      <td>2371.698477</td>\n",
       "    </tr>\n",
       "    <tr>\n",
       "      <th>999</th>\n",
       "      <td>2024-04-19 14:25:41.778048</td>\n",
       "      <td>19.261458</td>\n",
       "      <td>0.438381</td>\n",
       "      <td>0</td>\n",
       "      <td>0</td>\n",
       "      <td>2.610422</td>\n",
       "      <td>1</td>\n",
       "      <td>2188.188828</td>\n",
       "      <td>2287.255235</td>\n",
       "    </tr>\n",
       "  </tbody>\n",
       "</table>\n",
       "</div>"
      ],
      "text/plain": [
       "                          date  average_temperature   rainfall  weekend  \\\n",
       "980 2024-03-31 14:25:41.778625            34.130183   1.454065        1   \n",
       "981 2024-04-01 14:25:41.778625            32.353643   9.462859        0   \n",
       "982 2024-04-02 14:25:41.778625            18.816833   0.391470        0   \n",
       "983 2024-04-03 14:25:41.778625            34.533012   2.120477        0   \n",
       "984 2024-04-04 14:25:41.778625            23.057202   2.365705        0   \n",
       "985 2024-04-05 14:25:41.778625            34.810165   3.089005        0   \n",
       "986 2024-04-06 14:25:41.778625            29.208905   3.673292        1   \n",
       "987 2024-04-07 14:25:41.778625            16.428676   4.077782        1   \n",
       "988 2024-04-08 14:25:41.778625            32.067512   2.734454        0   \n",
       "989 2024-04-09 14:25:41.778625            31.938203  13.883486        0   \n",
       "990 2024-04-10 14:25:41.778625            18.024055   7.544061        0   \n",
       "991 2024-04-11 14:25:41.778625            20.681067  18.820490        0   \n",
       "992 2024-04-12 14:25:41.778625            16.010132   7.705941        0   \n",
       "993 2024-04-13 14:25:41.778625            18.766455   6.274840        1   \n",
       "994 2024-04-14 14:25:41.778625            27.948793  23.705246        1   \n",
       "995 2024-04-15 14:25:41.778625            28.661072  10.329865        0   \n",
       "996 2024-04-16 14:25:41.778625            10.821693   3.575645        0   \n",
       "997 2024-04-17 14:25:41.778625            21.108560   6.221089        0   \n",
       "998 2024-04-18 14:25:41.778625            29.451301   5.021463        0   \n",
       "999 2024-04-19 14:25:41.778048            19.261458   0.438381        0   \n",
       "\n",
       "     holiday  price_per_kg  promo       demand  previous_days_demand  \n",
       "980        0      1.449177      0  2416.306290           2446.418398  \n",
       "981        0      2.856503      1  2150.129427           2416.306290  \n",
       "982        0      1.326429      1  2298.616709           2150.129427  \n",
       "983        0      0.970131      1  2376.802075           2298.616709  \n",
       "984        0      1.049931      1  2327.486305           2376.802075  \n",
       "985        0      2.035149      1  2310.564672           2327.486305  \n",
       "986        0      2.518098      1  2721.143402           2310.564672  \n",
       "987        0      1.268979      1  2728.207186           2721.143402  \n",
       "988        0      0.762317      1  2377.939894           2728.207186  \n",
       "989        0      1.153301      1  2302.409540           2377.939894  \n",
       "990        0      0.610703      1  2386.323183           2302.409540  \n",
       "991        0      1.533488      1  2309.499120           2386.323183  \n",
       "992        0      1.632498      1  2311.922141           2309.499120  \n",
       "993        0      2.806554      1  2591.412724           2311.922141  \n",
       "994        0      0.829464      1  2725.592622           2591.412724  \n",
       "995        0      2.290591      1  2244.465043           2725.592622  \n",
       "996        0      0.897473      1  2324.336362           2244.465043  \n",
       "997        0      1.093864      1  2371.698477           2324.336362  \n",
       "998        0      2.493085      1  2287.255235           2371.698477  \n",
       "999        0      2.610422      1  2188.188828           2287.255235  "
      ]
     },
     "execution_count": 11,
     "metadata": {},
     "output_type": "execute_result"
    }
   ],
   "source": [
    "# Generate the dataset!\n",
    "\n",
    "data = generate_apple_sales_data_with_promo_adjustment(base_demand=2_000, n_rows=1_000)\n",
    "\n",
    "data[-20:]\n",
    "\n"
   ]
  },
  {
   "cell_type": "code",
   "execution_count": null,
   "id": "b0159e0c",
   "metadata": {},
   "outputs": [],
   "source": []
  },
  {
   "cell_type": "markdown",
   "id": "e076a312",
   "metadata": {},
   "source": [
    "### Train and log the model\n",
    "\n",
    "We're now ready to import our model class and train a ``RandomForestRegressor``"
   ]
  },
  {
   "cell_type": "code",
   "execution_count": 12,
   "id": "6e354900",
   "metadata": {
    "ExecuteTime": {
     "end_time": "2024-02-29T12:29:15.149641Z",
     "start_time": "2024-02-29T12:29:15.123652Z"
    }
   },
   "outputs": [],
   "source": [
    "from sklearn.ensemble import RandomForestRegressor\n",
    "from sklearn.metrics import mean_absolute_error, mean_squared_error, r2_score\n",
    "from sklearn.model_selection import train_test_split\n",
    "\n",
    "import mlflow\n",
    "\n",
    "# Use the fluent API to set the tracking uri and the active experiment\n",
    "mlflow.set_tracking_uri(\"http://127.0.0.1:5000\")\n",
    "\n",
    "# Sets the current active experiment to the \"Apple_Models\" experiment and returns the Experiment metadata\n",
    "apple_experiment = mlflow.set_experiment(\"Apple_Models\")\n",
    "\n",
    "# Define a run name for this iteration of training.\n",
    "# If this is not set, a unique name will be auto-generated for your run.\n",
    "run_name = \"apples_rf_test\"\n",
    "\n",
    "# Define an artifact path that the model will be saved to.\n",
    "artifact_path = \"rf_apples\""
   ]
  },
  {
   "cell_type": "code",
   "execution_count": 13,
   "id": "8d0fe224",
   "metadata": {
    "ExecuteTime": {
     "end_time": "2024-02-29T12:29:15.755921Z",
     "start_time": "2024-02-29T12:29:15.732553Z"
    }
   },
   "outputs": [
    {
     "name": "stderr",
     "output_type": "stream",
     "text": [
      "c:\\Users\\Admin\\AppData\\Local\\Programs\\Python\\Python311\\Lib\\site-packages\\mlflow\\data\\digest_utils.py:26: FutureWarning: DataFrame.applymap has been deprecated. Use DataFrame.map instead.\n",
      "  string_columns = trimmed_df.columns[(df.applymap(type) == str).all(0)]\n"
     ]
    }
   ],
   "source": [
    "# let's create the dataset reference to MLFlow\n",
    "mlf_data = mlflow.data.from_pandas(df=data)"
   ]
  },
  {
   "cell_type": "code",
   "execution_count": 14,
   "id": "ae02e54b",
   "metadata": {
    "ExecuteTime": {
     "end_time": "2024-02-29T12:29:21.912685Z",
     "start_time": "2024-02-29T12:29:17.576428Z"
    }
   },
   "outputs": [
    {
     "name": "stderr",
     "output_type": "stream",
     "text": [
      "c:\\Users\\Admin\\AppData\\Local\\Programs\\Python\\Python311\\Lib\\site-packages\\mlflow\\types\\utils.py:394: UserWarning: Hint: Inferred schema contains integer column(s). Integer columns in Python cannot represent missing values. If your input data contains missing values at inference time, it will be encoded as floats and will cause a schema enforcement error. The best way to avoid this problem is to infer the model schema based on a realistic data sample (training dataset) that includes missing values. Alternatively, you can declare integer columns as doubles (float64) whenever these columns may have missing values. See `Handling Integers With Missing Values <https://www.mlflow.org/docs/latest/models.html#handling-integers-with-missing-values>`_ for more details.\n",
      "  warnings.warn(\n",
      "c:\\Users\\Admin\\AppData\\Local\\Programs\\Python\\Python311\\Lib\\site-packages\\mlflow\\types\\utils.py:394: UserWarning: Hint: Inferred schema contains integer column(s). Integer columns in Python cannot represent missing values. If your input data contains missing values at inference time, it will be encoded as floats and will cause a schema enforcement error. The best way to avoid this problem is to infer the model schema based on a realistic data sample (training dataset) that includes missing values. Alternatively, you can declare integer columns as doubles (float64) whenever these columns may have missing values. See `Handling Integers With Missing Values <https://www.mlflow.org/docs/latest/models.html#handling-integers-with-missing-values>`_ for more details.\n",
      "  warnings.warn(\n"
     ]
    }
   ],
   "source": [
    "# Split the data into features and target and drop irrelevant date field and target field\n",
    "X = data.drop(columns=[\"date\", \"demand\"])\n",
    "y = data[\"demand\"]\n",
    "\n",
    "# Split the data into training and validation sets\n",
    "X_train, X_val, y_train, y_val = train_test_split(X, y, test_size=0.2, random_state=42)\n",
    "\n",
    "params = {\n",
    "    \"n_estimators\": 250,\n",
    "    \"max_depth\": 6,\n",
    "    \"min_samples_split\": 10,\n",
    "    \"min_samples_leaf\": 4,\n",
    "    \"bootstrap\": True,\n",
    "    \"oob_score\": False,\n",
    "    \"random_state\": 888,\n",
    "}\n",
    "\n",
    "# Train the RandomForestRegressor\n",
    "rf = RandomForestRegressor(**params)\n",
    "\n",
    "# Fit the model on the training data\n",
    "rf.fit(X_train, y_train)\n",
    "\n",
    "# Predict on the validation set\n",
    "y_pred = rf.predict(X_val)\n",
    "\n",
    "# Calculate error metrics\n",
    "mae = mean_absolute_error(y_val, y_pred)\n",
    "mse = mean_squared_error(y_val, y_pred)\n",
    "rmse = np.sqrt(mse)\n",
    "r2 = r2_score(y_val, y_pred)\n",
    "\n",
    "# Assemble the metrics we're going to write into a collection\n",
    "metrics = {\"mae\": mae, \"mse\": mse, \"rmse\": rmse, \"r2\": r2}\n",
    "\n",
    "# Initiate the MLflow run context\n",
    "with mlflow.start_run(run_name=run_name) as run:\n",
    "    # log the data set\n",
    "    mlflow.log_input(mlf_data, context=\"training\")\n",
    "    \n",
    "    # Log the parameters used for the model fit\n",
    "    mlflow.log_params(params)\n",
    "\n",
    "    # Log the error metrics that were calculated during validation\n",
    "    mlflow.log_metrics(metrics)\n",
    "\n",
    "    # Log an instance of the trained model for later use\n",
    "    mlflow.sklearn.log_model(sk_model=rf, input_example=X_val, artifact_path=artifact_path)"
   ]
  },
  {
   "cell_type": "markdown",
   "id": "84c06abe",
   "metadata": {},
   "source": [
    "#### Success!\n",
    "\n",
    "You've just logged your first MLflow model! \n",
    "\n",
    "Navigate to the MLflow UI to see the run that was just created (named \"apples_rf_test\", logged to the Experiment \"Apple_Models\"). "
   ]
  },
  {
   "cell_type": "code",
   "execution_count": null,
   "id": "73103134",
   "metadata": {},
   "outputs": [],
   "source": []
  }
 ],
 "metadata": {
  "kernelspec": {
   "display_name": "Python 3 (ipykernel)",
   "language": "python",
   "name": "python3"
  },
  "language_info": {
   "codemirror_mode": {
    "name": "ipython",
    "version": 3
   },
   "file_extension": ".py",
   "mimetype": "text/x-python",
   "name": "python",
   "nbconvert_exporter": "python",
   "pygments_lexer": "ipython3",
   "version": "3.11.7"
  },
  "varInspector": {
   "cols": {
    "lenName": 16,
    "lenType": 16,
    "lenVar": 40
   },
   "kernels_config": {
    "python": {
     "delete_cmd_postfix": "",
     "delete_cmd_prefix": "del ",
     "library": "var_list.py",
     "varRefreshCmd": "print(var_dic_list())"
    },
    "r": {
     "delete_cmd_postfix": ") ",
     "delete_cmd_prefix": "rm(",
     "library": "var_list.r",
     "varRefreshCmd": "cat(var_dic_list()) "
    }
   },
   "types_to_exclude": [
    "module",
    "function",
    "builtin_function_or_method",
    "instance",
    "_Feature"
   ],
   "window_display": false
  }
 },
 "nbformat": 4,
 "nbformat_minor": 5
}
